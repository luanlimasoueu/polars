{
 "cells": [
  {
   "cell_type": "code",
   "execution_count": 1,
   "id": "6992006d",
   "metadata": {},
   "outputs": [],
   "source": [
    "import polars as pl\n",
    "import pandas as pd\n",
    "import numpy as np\n",
    "import pyarrow\n",
    "\n",
    "import matplotlib.pyplot as plt\n",
    "import seaborn as sns\n",
    "\n",
    "\n",
    "# Download Dataset or run in a kaggle notebook\n",
    "# https://www.kaggle.com/datasets/mkechinov/ecommerce-behavior-data-from-multi-category-store\n",
    "df = pl.read_csv(\"nov2019.csv\")"
   ]
  },
  {
   "cell_type": "markdown",
   "id": "cdc01497",
   "metadata": {},
   "source": [
    "In the previous video I covered `select`, `filter`, a few basic operations."
   ]
  },
  {
   "cell_type": "markdown",
   "id": "80b4a85e",
   "metadata": {},
   "source": [
    "# How to update columns and intro to window functions"
   ]
  },
  {
   "cell_type": "code",
   "execution_count": 2,
   "id": "5b287eb3",
   "metadata": {},
   "outputs": [
    {
     "data": {
      "text/html": [
       "<div><style>\n",
       ".dataframe > thead > tr,\n",
       ".dataframe > tbody > tr {\n",
       "  text-align: right;\n",
       "  white-space: pre-wrap;\n",
       "}\n",
       "</style>\n",
       "<small>shape: (5, 9)</small><table border=\"1\" class=\"dataframe\"><thead><tr><th>event_time</th><th>event_type</th><th>product_id</th><th>category_id</th><th>category_code</th><th>brand</th><th>price</th><th>user_id</th><th>user_session</th></tr><tr><td>str</td><td>str</td><td>i64</td><td>i64</td><td>str</td><td>str</td><td>f64</td><td>i64</td><td>str</td></tr></thead><tbody><tr><td>&quot;2019-11-01 00:…</td><td>&quot;view&quot;</td><td>1003461</td><td>2053013555631882655</td><td>&quot;electronics.sm…</td><td>&quot;xiaomi&quot;</td><td>489.07</td><td>520088904</td><td>&quot;4d3b30da-a5e4-…</td></tr><tr><td>&quot;2019-11-01 00:…</td><td>&quot;view&quot;</td><td>5000088</td><td>2053013566100866035</td><td>&quot;appliances.sew…</td><td>&quot;janome&quot;</td><td>293.65</td><td>530496790</td><td>&quot;8e5f4f83-366c-…</td></tr><tr><td>&quot;2019-11-01 00:…</td><td>&quot;view&quot;</td><td>17302664</td><td>2053013553853497655</td><td>null</td><td>&quot;creed&quot;</td><td>28.31</td><td>561587266</td><td>&quot;755422e7-9040-…</td></tr><tr><td>&quot;2019-11-01 00:…</td><td>&quot;view&quot;</td><td>3601530</td><td>2053013563810775923</td><td>&quot;appliances.kit…</td><td>&quot;lg&quot;</td><td>712.87</td><td>518085591</td><td>&quot;3bfb58cd-7892-…</td></tr><tr><td>&quot;2019-11-01 00:…</td><td>&quot;view&quot;</td><td>1004775</td><td>2053013555631882655</td><td>&quot;electronics.sm…</td><td>&quot;xiaomi&quot;</td><td>183.27</td><td>558856683</td><td>&quot;313628f1-68b8-…</td></tr></tbody></table></div>"
      ],
      "text/plain": [
       "shape: (5, 9)\n",
       "┌────────────┬────────────┬────────────┬────────────┬───┬────────┬────────┬───────────┬────────────┐\n",
       "│ event_time ┆ event_type ┆ product_id ┆ category_i ┆ … ┆ brand  ┆ price  ┆ user_id   ┆ user_sessi │\n",
       "│ ---        ┆ ---        ┆ ---        ┆ d          ┆   ┆ ---    ┆ ---    ┆ ---       ┆ on         │\n",
       "│ str        ┆ str        ┆ i64        ┆ ---        ┆   ┆ str    ┆ f64    ┆ i64       ┆ ---        │\n",
       "│            ┆            ┆            ┆ i64        ┆   ┆        ┆        ┆           ┆ str        │\n",
       "╞════════════╪════════════╪════════════╪════════════╪═══╪════════╪════════╪═══════════╪════════════╡\n",
       "│ 2019-11-01 ┆ view       ┆ 1003461    ┆ 2053013555 ┆ … ┆ xiaomi ┆ 489.07 ┆ 520088904 ┆ 4d3b30da-a │\n",
       "│ 00:00:00   ┆            ┆            ┆ 631882655  ┆   ┆        ┆        ┆           ┆ 5e4-49df-b │\n",
       "│ UTC        ┆            ┆            ┆            ┆   ┆        ┆        ┆           ┆ 1a8-ba5943 │\n",
       "│            ┆            ┆            ┆            ┆   ┆        ┆        ┆           ┆ f1…        │\n",
       "│ 2019-11-01 ┆ view       ┆ 5000088    ┆ 2053013566 ┆ … ┆ janome ┆ 293.65 ┆ 530496790 ┆ 8e5f4f83-3 │\n",
       "│ 00:00:00   ┆            ┆            ┆ 100866035  ┆   ┆        ┆        ┆           ┆ 66c-4f70-8 │\n",
       "│ UTC        ┆            ┆            ┆            ┆   ┆        ┆        ┆           ┆ 60e-ca7417 │\n",
       "│            ┆            ┆            ┆            ┆   ┆        ┆        ┆           ┆ 41…        │\n",
       "│ 2019-11-01 ┆ view       ┆ 17302664   ┆ 2053013553 ┆ … ┆ creed  ┆ 28.31  ┆ 561587266 ┆ 755422e7-9 │\n",
       "│ 00:00:01   ┆            ┆            ┆ 853497655  ┆   ┆        ┆        ┆           ┆ 040-477b-9 │\n",
       "│ UTC        ┆            ┆            ┆            ┆   ┆        ┆        ┆           ┆ bd2-6a6e8f │\n",
       "│            ┆            ┆            ┆            ┆   ┆        ┆        ┆           ┆ d9…        │\n",
       "│ 2019-11-01 ┆ view       ┆ 3601530    ┆ 2053013563 ┆ … ┆ lg     ┆ 712.87 ┆ 518085591 ┆ 3bfb58cd-7 │\n",
       "│ 00:00:01   ┆            ┆            ┆ 810775923  ┆   ┆        ┆        ┆           ┆ 892-48cc-8 │\n",
       "│ UTC        ┆            ┆            ┆            ┆   ┆        ┆        ┆           ┆ 020-2f17e6 │\n",
       "│            ┆            ┆            ┆            ┆   ┆        ┆        ┆           ┆ de…        │\n",
       "│ 2019-11-01 ┆ view       ┆ 1004775    ┆ 2053013555 ┆ … ┆ xiaomi ┆ 183.27 ┆ 558856683 ┆ 313628f1-6 │\n",
       "│ 00:00:01   ┆            ┆            ┆ 631882655  ┆   ┆        ┆        ┆           ┆ 8b8-460d-8 │\n",
       "│ UTC        ┆            ┆            ┆            ┆   ┆        ┆        ┆           ┆ 4f6-cec7a8 │\n",
       "│            ┆            ┆            ┆            ┆   ┆        ┆        ┆           ┆ 79…        │\n",
       "└────────────┴────────────┴────────────┴────────────┴───┴────────┴────────┴───────────┴────────────┘"
      ]
     },
     "execution_count": 2,
     "metadata": {},
     "output_type": "execute_result"
    }
   ],
   "source": [
    "df.head()"
   ]
  },
  {
   "cell_type": "code",
   "execution_count": 3,
   "id": "6c9db78c",
   "metadata": {},
   "outputs": [
    {
     "data": {
      "text/plain": [
       "(28, 9)"
      ]
     },
     "execution_count": 3,
     "metadata": {},
     "output_type": "execute_result"
    }
   ],
   "source": [
    "df.shape"
   ]
  },
  {
   "cell_type": "markdown",
   "id": "01c0b75b",
   "metadata": {},
   "source": [
    "### 1. Update values on one or multiple columns"
   ]
  },
  {
   "cell_type": "code",
   "execution_count": 4,
   "id": "aaac90c5",
   "metadata": {},
   "outputs": [
    {
     "data": {
      "text/html": [
       "<div><style>\n",
       ".dataframe > thead > tr,\n",
       ".dataframe > tbody > tr {\n",
       "  text-align: right;\n",
       "  white-space: pre-wrap;\n",
       "}\n",
       "</style>\n",
       "<small>shape: (5, 9)</small><table border=\"1\" class=\"dataframe\"><thead><tr><th>event_time</th><th>event_type</th><th>product_id</th><th>category_id</th><th>category_code</th><th>brand</th><th>price</th><th>user_id</th><th>user_session</th></tr><tr><td>str</td><td>str</td><td>i64</td><td>i64</td><td>str</td><td>str</td><td>f64</td><td>i64</td><td>str</td></tr></thead><tbody><tr><td>&quot;2019-11-01 00:…</td><td>&quot;view&quot;</td><td>1003461</td><td>2053013555631882655</td><td>&quot;electronics.sm…</td><td>&quot;xiaomi&quot;</td><td>489.07</td><td>520088904</td><td>&quot;4d3b30da-a5e4-…</td></tr><tr><td>&quot;2019-11-01 00:…</td><td>&quot;view&quot;</td><td>5000088</td><td>2053013566100866035</td><td>&quot;appliances.sew…</td><td>&quot;janome&quot;</td><td>293.65</td><td>530496790</td><td>&quot;8e5f4f83-366c-…</td></tr><tr><td>&quot;2019-11-01 00:…</td><td>&quot;view&quot;</td><td>17302664</td><td>2053013553853497655</td><td>null</td><td>&quot;creed&quot;</td><td>28.31</td><td>561587266</td><td>&quot;755422e7-9040-…</td></tr><tr><td>&quot;2019-11-01 00:…</td><td>&quot;view&quot;</td><td>3601530</td><td>2053013563810775923</td><td>&quot;appliances.kit…</td><td>&quot;lg&quot;</td><td>712.87</td><td>518085591</td><td>&quot;3bfb58cd-7892-…</td></tr><tr><td>&quot;2019-11-01 00:…</td><td>&quot;view&quot;</td><td>1004775</td><td>2053013555631882655</td><td>&quot;electronics.sm…</td><td>&quot;xiaomi&quot;</td><td>183.27</td><td>558856683</td><td>&quot;313628f1-68b8-…</td></tr></tbody></table></div>"
      ],
      "text/plain": [
       "shape: (5, 9)\n",
       "┌────────────┬────────────┬────────────┬────────────┬───┬────────┬────────┬───────────┬────────────┐\n",
       "│ event_time ┆ event_type ┆ product_id ┆ category_i ┆ … ┆ brand  ┆ price  ┆ user_id   ┆ user_sessi │\n",
       "│ ---        ┆ ---        ┆ ---        ┆ d          ┆   ┆ ---    ┆ ---    ┆ ---       ┆ on         │\n",
       "│ str        ┆ str        ┆ i64        ┆ ---        ┆   ┆ str    ┆ f64    ┆ i64       ┆ ---        │\n",
       "│            ┆            ┆            ┆ i64        ┆   ┆        ┆        ┆           ┆ str        │\n",
       "╞════════════╪════════════╪════════════╪════════════╪═══╪════════╪════════╪═══════════╪════════════╡\n",
       "│ 2019-11-01 ┆ view       ┆ 1003461    ┆ 2053013555 ┆ … ┆ xiaomi ┆ 489.07 ┆ 520088904 ┆ 4d3b30da-a │\n",
       "│ 00:00:00   ┆            ┆            ┆ 631882655  ┆   ┆        ┆        ┆           ┆ 5e4-49df-b │\n",
       "│ UTC        ┆            ┆            ┆            ┆   ┆        ┆        ┆           ┆ 1a8-ba5943 │\n",
       "│            ┆            ┆            ┆            ┆   ┆        ┆        ┆           ┆ f1…        │\n",
       "│ 2019-11-01 ┆ view       ┆ 5000088    ┆ 2053013566 ┆ … ┆ janome ┆ 293.65 ┆ 530496790 ┆ 8e5f4f83-3 │\n",
       "│ 00:00:00   ┆            ┆            ┆ 100866035  ┆   ┆        ┆        ┆           ┆ 66c-4f70-8 │\n",
       "│ UTC        ┆            ┆            ┆            ┆   ┆        ┆        ┆           ┆ 60e-ca7417 │\n",
       "│            ┆            ┆            ┆            ┆   ┆        ┆        ┆           ┆ 41…        │\n",
       "│ 2019-11-01 ┆ view       ┆ 17302664   ┆ 2053013553 ┆ … ┆ creed  ┆ 28.31  ┆ 561587266 ┆ 755422e7-9 │\n",
       "│ 00:00:01   ┆            ┆            ┆ 853497655  ┆   ┆        ┆        ┆           ┆ 040-477b-9 │\n",
       "│ UTC        ┆            ┆            ┆            ┆   ┆        ┆        ┆           ┆ bd2-6a6e8f │\n",
       "│            ┆            ┆            ┆            ┆   ┆        ┆        ┆           ┆ d9…        │\n",
       "│ 2019-11-01 ┆ view       ┆ 3601530    ┆ 2053013563 ┆ … ┆ lg     ┆ 712.87 ┆ 518085591 ┆ 3bfb58cd-7 │\n",
       "│ 00:00:01   ┆            ┆            ┆ 810775923  ┆   ┆        ┆        ┆           ┆ 892-48cc-8 │\n",
       "│ UTC        ┆            ┆            ┆            ┆   ┆        ┆        ┆           ┆ 020-2f17e6 │\n",
       "│            ┆            ┆            ┆            ┆   ┆        ┆        ┆           ┆ de…        │\n",
       "│ 2019-11-01 ┆ view       ┆ 1004775    ┆ 2053013555 ┆ … ┆ xiaomi ┆ 183.27 ┆ 558856683 ┆ 313628f1-6 │\n",
       "│ 00:00:01   ┆            ┆            ┆ 631882655  ┆   ┆        ┆        ┆           ┆ 8b8-460d-8 │\n",
       "│ UTC        ┆            ┆            ┆            ┆   ┆        ┆        ┆           ┆ 4f6-cec7a8 │\n",
       "│            ┆            ┆            ┆            ┆   ┆        ┆        ┆           ┆ 79…        │\n",
       "└────────────┴────────────┴────────────┴────────────┴───┴────────┴────────┴───────────┴────────────┘"
      ]
     },
     "execution_count": 4,
     "metadata": {},
     "output_type": "execute_result"
    }
   ],
   "source": [
    "df_top = df.head()\n",
    "df_top"
   ]
  },
  {
   "cell_type": "code",
   "execution_count": 5,
   "id": "b82c88df",
   "metadata": {},
   "outputs": [
    {
     "data": {
      "text/html": [
       "<div><style>\n",
       ".dataframe > thead > tr,\n",
       ".dataframe > tbody > tr {\n",
       "  text-align: right;\n",
       "  white-space: pre-wrap;\n",
       "}\n",
       "</style>\n",
       "<small>shape: (5, 10)</small><table border=\"1\" class=\"dataframe\"><thead><tr><th>event_time</th><th>event_type</th><th>product_id</th><th>category_id</th><th>category_code</th><th>brand</th><th>price</th><th>user_id</th><th>user_session</th><th>brand2</th></tr><tr><td>str</td><td>str</td><td>i64</td><td>i64</td><td>str</td><td>str</td><td>f64</td><td>i64</td><td>str</td><td>str</td></tr></thead><tbody><tr><td>&quot;2019-11-01 00:…</td><td>&quot;view&quot;</td><td>1003461</td><td>2053013555631882655</td><td>&quot;electronics.sm…</td><td>&quot;xiaomi&quot;</td><td>489.07</td><td>520088904</td><td>&quot;4d3b30da-a5e4-…</td><td>&quot;brand-xiaomi&quot;</td></tr><tr><td>&quot;2019-11-01 00:…</td><td>&quot;view&quot;</td><td>5000088</td><td>2053013566100866035</td><td>&quot;appliances.sew…</td><td>&quot;janome&quot;</td><td>293.65</td><td>530496790</td><td>&quot;8e5f4f83-366c-…</td><td>&quot;brand-janome&quot;</td></tr><tr><td>&quot;2019-11-01 00:…</td><td>&quot;view&quot;</td><td>17302664</td><td>2053013553853497655</td><td>null</td><td>&quot;creed&quot;</td><td>28.31</td><td>561587266</td><td>&quot;755422e7-9040-…</td><td>&quot;brand-creed&quot;</td></tr><tr><td>&quot;2019-11-01 00:…</td><td>&quot;view&quot;</td><td>3601530</td><td>2053013563810775923</td><td>&quot;appliances.kit…</td><td>&quot;lg&quot;</td><td>712.87</td><td>518085591</td><td>&quot;3bfb58cd-7892-…</td><td>&quot;brand-lg&quot;</td></tr><tr><td>&quot;2019-11-01 00:…</td><td>&quot;view&quot;</td><td>1004775</td><td>2053013555631882655</td><td>&quot;electronics.sm…</td><td>&quot;xiaomi&quot;</td><td>183.27</td><td>558856683</td><td>&quot;313628f1-68b8-…</td><td>&quot;brand-xiaomi&quot;</td></tr></tbody></table></div>"
      ],
      "text/plain": [
       "shape: (5, 10)\n",
       "┌────────────┬────────────┬───────────┬───────────┬───┬────────┬───────────┬───────────┬───────────┐\n",
       "│ event_time ┆ event_type ┆ product_i ┆ category_ ┆ … ┆ price  ┆ user_id   ┆ user_sess ┆ brand2    │\n",
       "│ ---        ┆ ---        ┆ d         ┆ id        ┆   ┆ ---    ┆ ---       ┆ ion       ┆ ---       │\n",
       "│ str        ┆ str        ┆ ---       ┆ ---       ┆   ┆ f64    ┆ i64       ┆ ---       ┆ str       │\n",
       "│            ┆            ┆ i64       ┆ i64       ┆   ┆        ┆           ┆ str       ┆           │\n",
       "╞════════════╪════════════╪═══════════╪═══════════╪═══╪════════╪═══════════╪═══════════╪═══════════╡\n",
       "│ 2019-11-01 ┆ view       ┆ 1003461   ┆ 205301355 ┆ … ┆ 489.07 ┆ 520088904 ┆ 4d3b30da- ┆ brand-xia │\n",
       "│ 00:00:00   ┆            ┆           ┆ 563188265 ┆   ┆        ┆           ┆ a5e4-49df ┆ omi       │\n",
       "│ UTC        ┆            ┆           ┆ 5         ┆   ┆        ┆           ┆ -b1a8-ba5 ┆           │\n",
       "│            ┆            ┆           ┆           ┆   ┆        ┆           ┆ 943f1…    ┆           │\n",
       "│ 2019-11-01 ┆ view       ┆ 5000088   ┆ 205301356 ┆ … ┆ 293.65 ┆ 530496790 ┆ 8e5f4f83- ┆ brand-jan │\n",
       "│ 00:00:00   ┆            ┆           ┆ 610086603 ┆   ┆        ┆           ┆ 366c-4f70 ┆ ome       │\n",
       "│ UTC        ┆            ┆           ┆ 5         ┆   ┆        ┆           ┆ -860e-ca7 ┆           │\n",
       "│            ┆            ┆           ┆           ┆   ┆        ┆           ┆ 41741…    ┆           │\n",
       "│ 2019-11-01 ┆ view       ┆ 17302664  ┆ 205301355 ┆ … ┆ 28.31  ┆ 561587266 ┆ 755422e7- ┆ brand-cre │\n",
       "│ 00:00:01   ┆            ┆           ┆ 385349765 ┆   ┆        ┆           ┆ 9040-477b ┆ ed        │\n",
       "│ UTC        ┆            ┆           ┆ 5         ┆   ┆        ┆           ┆ -9bd2-6a6 ┆           │\n",
       "│            ┆            ┆           ┆           ┆   ┆        ┆           ┆ e8fd9…    ┆           │\n",
       "│ 2019-11-01 ┆ view       ┆ 3601530   ┆ 205301356 ┆ … ┆ 712.87 ┆ 518085591 ┆ 3bfb58cd- ┆ brand-lg  │\n",
       "│ 00:00:01   ┆            ┆           ┆ 381077592 ┆   ┆        ┆           ┆ 7892-48cc ┆           │\n",
       "│ UTC        ┆            ┆           ┆ 3         ┆   ┆        ┆           ┆ -8020-2f1 ┆           │\n",
       "│            ┆            ┆           ┆           ┆   ┆        ┆           ┆ 7e6de…    ┆           │\n",
       "│ 2019-11-01 ┆ view       ┆ 1004775   ┆ 205301355 ┆ … ┆ 183.27 ┆ 558856683 ┆ 313628f1- ┆ brand-xia │\n",
       "│ 00:00:01   ┆            ┆           ┆ 563188265 ┆   ┆        ┆           ┆ 68b8-460d ┆ omi       │\n",
       "│ UTC        ┆            ┆           ┆ 5         ┆   ┆        ┆           ┆ -84f6-cec ┆           │\n",
       "│            ┆            ┆           ┆           ┆   ┆        ┆           ┆ 7a879…    ┆           │\n",
       "└────────────┴────────────┴───────────┴───────────┴───┴────────┴───────────┴───────────┴───────────┘"
      ]
     },
     "execution_count": 5,
     "metadata": {},
     "output_type": "execute_result"
    }
   ],
   "source": [
    "# Update a string column\n",
    "df_top.with_columns(\n",
    "    (\"brand-\" + pl.col(\"brand\")).alias(\"brand2\")\n",
    ")"
   ]
  },
  {
   "cell_type": "code",
   "execution_count": 6,
   "id": "ba295523",
   "metadata": {},
   "outputs": [
    {
     "data": {
      "text/html": [
       "<div><style>\n",
       ".dataframe > thead > tr,\n",
       ".dataframe > tbody > tr {\n",
       "  text-align: right;\n",
       "  white-space: pre-wrap;\n",
       "}\n",
       "</style>\n",
       "<small>shape: (5, 11)</small><table border=\"1\" class=\"dataframe\"><thead><tr><th>event_time</th><th>event_type</th><th>product_id</th><th>category_id</th><th>category_code</th><th>brand</th><th>price</th><th>user_id</th><th>user_session</th><th>brand2</th><th>price2</th></tr><tr><td>str</td><td>str</td><td>i64</td><td>i64</td><td>str</td><td>str</td><td>f64</td><td>i64</td><td>str</td><td>str</td><td>f64</td></tr></thead><tbody><tr><td>&quot;2019-11-01 00:…</td><td>&quot;view&quot;</td><td>1003461</td><td>2053013555631882655</td><td>&quot;electronics.sm…</td><td>&quot;xiaomi&quot;</td><td>489.07</td><td>520088904</td><td>&quot;4d3b30da-a5e4-…</td><td>&quot;brand-xiaomi&quot;</td><td>48907.0</td></tr><tr><td>&quot;2019-11-01 00:…</td><td>&quot;view&quot;</td><td>5000088</td><td>2053013566100866035</td><td>&quot;appliances.sew…</td><td>&quot;janome&quot;</td><td>293.65</td><td>530496790</td><td>&quot;8e5f4f83-366c-…</td><td>&quot;brand-janome&quot;</td><td>29365.0</td></tr><tr><td>&quot;2019-11-01 00:…</td><td>&quot;view&quot;</td><td>17302664</td><td>2053013553853497655</td><td>null</td><td>&quot;creed&quot;</td><td>28.31</td><td>561587266</td><td>&quot;755422e7-9040-…</td><td>&quot;brand-creed&quot;</td><td>2831.0</td></tr><tr><td>&quot;2019-11-01 00:…</td><td>&quot;view&quot;</td><td>3601530</td><td>2053013563810775923</td><td>&quot;appliances.kit…</td><td>&quot;lg&quot;</td><td>712.87</td><td>518085591</td><td>&quot;3bfb58cd-7892-…</td><td>&quot;brand-lg&quot;</td><td>71287.0</td></tr><tr><td>&quot;2019-11-01 00:…</td><td>&quot;view&quot;</td><td>1004775</td><td>2053013555631882655</td><td>&quot;electronics.sm…</td><td>&quot;xiaomi&quot;</td><td>183.27</td><td>558856683</td><td>&quot;313628f1-68b8-…</td><td>&quot;brand-xiaomi&quot;</td><td>18327.0</td></tr></tbody></table></div>"
      ],
      "text/plain": [
       "shape: (5, 11)\n",
       "┌────────────┬───────────┬───────────┬───────────┬───┬───────────┬───────────┬───────────┬─────────┐\n",
       "│ event_time ┆ event_typ ┆ product_i ┆ category_ ┆ … ┆ user_id   ┆ user_sess ┆ brand2    ┆ price2  │\n",
       "│ ---        ┆ e         ┆ d         ┆ id        ┆   ┆ ---       ┆ ion       ┆ ---       ┆ ---     │\n",
       "│ str        ┆ ---       ┆ ---       ┆ ---       ┆   ┆ i64       ┆ ---       ┆ str       ┆ f64     │\n",
       "│            ┆ str       ┆ i64       ┆ i64       ┆   ┆           ┆ str       ┆           ┆         │\n",
       "╞════════════╪═══════════╪═══════════╪═══════════╪═══╪═══════════╪═══════════╪═══════════╪═════════╡\n",
       "│ 2019-11-01 ┆ view      ┆ 1003461   ┆ 205301355 ┆ … ┆ 520088904 ┆ 4d3b30da- ┆ brand-xia ┆ 48907.0 │\n",
       "│ 00:00:00   ┆           ┆           ┆ 563188265 ┆   ┆           ┆ a5e4-49df ┆ omi       ┆         │\n",
       "│ UTC        ┆           ┆           ┆ 5         ┆   ┆           ┆ -b1a8-ba5 ┆           ┆         │\n",
       "│            ┆           ┆           ┆           ┆   ┆           ┆ 943f1…    ┆           ┆         │\n",
       "│ 2019-11-01 ┆ view      ┆ 5000088   ┆ 205301356 ┆ … ┆ 530496790 ┆ 8e5f4f83- ┆ brand-jan ┆ 29365.0 │\n",
       "│ 00:00:00   ┆           ┆           ┆ 610086603 ┆   ┆           ┆ 366c-4f70 ┆ ome       ┆         │\n",
       "│ UTC        ┆           ┆           ┆ 5         ┆   ┆           ┆ -860e-ca7 ┆           ┆         │\n",
       "│            ┆           ┆           ┆           ┆   ┆           ┆ 41741…    ┆           ┆         │\n",
       "│ 2019-11-01 ┆ view      ┆ 17302664  ┆ 205301355 ┆ … ┆ 561587266 ┆ 755422e7- ┆ brand-cre ┆ 2831.0  │\n",
       "│ 00:00:01   ┆           ┆           ┆ 385349765 ┆   ┆           ┆ 9040-477b ┆ ed        ┆         │\n",
       "│ UTC        ┆           ┆           ┆ 5         ┆   ┆           ┆ -9bd2-6a6 ┆           ┆         │\n",
       "│            ┆           ┆           ┆           ┆   ┆           ┆ e8fd9…    ┆           ┆         │\n",
       "│ 2019-11-01 ┆ view      ┆ 3601530   ┆ 205301356 ┆ … ┆ 518085591 ┆ 3bfb58cd- ┆ brand-lg  ┆ 71287.0 │\n",
       "│ 00:00:01   ┆           ┆           ┆ 381077592 ┆   ┆           ┆ 7892-48cc ┆           ┆         │\n",
       "│ UTC        ┆           ┆           ┆ 3         ┆   ┆           ┆ -8020-2f1 ┆           ┆         │\n",
       "│            ┆           ┆           ┆           ┆   ┆           ┆ 7e6de…    ┆           ┆         │\n",
       "│ 2019-11-01 ┆ view      ┆ 1004775   ┆ 205301355 ┆ … ┆ 558856683 ┆ 313628f1- ┆ brand-xia ┆ 18327.0 │\n",
       "│ 00:00:01   ┆           ┆           ┆ 563188265 ┆   ┆           ┆ 68b8-460d ┆ omi       ┆         │\n",
       "│ UTC        ┆           ┆           ┆ 5         ┆   ┆           ┆ -84f6-cec ┆           ┆         │\n",
       "│            ┆           ┆           ┆           ┆   ┆           ┆ 7a879…    ┆           ┆         │\n",
       "└────────────┴───────────┴───────────┴───────────┴───┴───────────┴───────────┴───────────┴─────────┘"
      ]
     },
     "execution_count": 6,
     "metadata": {},
     "output_type": "execute_result"
    }
   ],
   "source": [
    "# Update a numeric column\n",
    "df_top.with_columns([\n",
    "    (\"brand-\" + pl.col(\"brand\")).alias(\"brand2\"),\n",
    "    (pl.col(\"price\") * 100).alias(\"price2\")\n",
    "])"
   ]
  },
  {
   "cell_type": "code",
   "execution_count": 7,
   "id": "bbf7138c",
   "metadata": {},
   "outputs": [
    {
     "data": {
      "text/html": [
       "<div><style>\n",
       ".dataframe > thead > tr,\n",
       ".dataframe > tbody > tr {\n",
       "  text-align: right;\n",
       "  white-space: pre-wrap;\n",
       "}\n",
       "</style>\n",
       "<small>shape: (5, 10)</small><table border=\"1\" class=\"dataframe\"><thead><tr><th>event_time</th><th>event_type</th><th>product_id</th><th>category_id</th><th>category_code</th><th>brand</th><th>price</th><th>user_id</th><th>user_session</th><th>price_avg</th></tr><tr><td>str</td><td>str</td><td>i64</td><td>i64</td><td>str</td><td>str</td><td>f64</td><td>i64</td><td>str</td><td>f64</td></tr></thead><tbody><tr><td>&quot;2019-11-01 00:…</td><td>&quot;view&quot;</td><td>1003461</td><td>2053013555631882655</td><td>&quot;electronics.sm…</td><td>&quot;xiaomi&quot;</td><td>489.07</td><td>520088904</td><td>&quot;4d3b30da-a5e4-…</td><td>341.434</td></tr><tr><td>&quot;2019-11-01 00:…</td><td>&quot;view&quot;</td><td>5000088</td><td>2053013566100866035</td><td>&quot;appliances.sew…</td><td>&quot;janome&quot;</td><td>293.65</td><td>530496790</td><td>&quot;8e5f4f83-366c-…</td><td>341.434</td></tr><tr><td>&quot;2019-11-01 00:…</td><td>&quot;view&quot;</td><td>17302664</td><td>2053013553853497655</td><td>null</td><td>&quot;creed&quot;</td><td>28.31</td><td>561587266</td><td>&quot;755422e7-9040-…</td><td>341.434</td></tr><tr><td>&quot;2019-11-01 00:…</td><td>&quot;view&quot;</td><td>3601530</td><td>2053013563810775923</td><td>&quot;appliances.kit…</td><td>&quot;lg&quot;</td><td>712.87</td><td>518085591</td><td>&quot;3bfb58cd-7892-…</td><td>341.434</td></tr><tr><td>&quot;2019-11-01 00:…</td><td>&quot;view&quot;</td><td>1004775</td><td>2053013555631882655</td><td>&quot;electronics.sm…</td><td>&quot;xiaomi&quot;</td><td>183.27</td><td>558856683</td><td>&quot;313628f1-68b8-…</td><td>341.434</td></tr></tbody></table></div>"
      ],
      "text/plain": [
       "shape: (5, 10)\n",
       "┌────────────┬────────────┬───────────┬───────────┬───┬────────┬───────────┬───────────┬───────────┐\n",
       "│ event_time ┆ event_type ┆ product_i ┆ category_ ┆ … ┆ price  ┆ user_id   ┆ user_sess ┆ price_avg │\n",
       "│ ---        ┆ ---        ┆ d         ┆ id        ┆   ┆ ---    ┆ ---       ┆ ion       ┆ ---       │\n",
       "│ str        ┆ str        ┆ ---       ┆ ---       ┆   ┆ f64    ┆ i64       ┆ ---       ┆ f64       │\n",
       "│            ┆            ┆ i64       ┆ i64       ┆   ┆        ┆           ┆ str       ┆           │\n",
       "╞════════════╪════════════╪═══════════╪═══════════╪═══╪════════╪═══════════╪═══════════╪═══════════╡\n",
       "│ 2019-11-01 ┆ view       ┆ 1003461   ┆ 205301355 ┆ … ┆ 489.07 ┆ 520088904 ┆ 4d3b30da- ┆ 341.434   │\n",
       "│ 00:00:00   ┆            ┆           ┆ 563188265 ┆   ┆        ┆           ┆ a5e4-49df ┆           │\n",
       "│ UTC        ┆            ┆           ┆ 5         ┆   ┆        ┆           ┆ -b1a8-ba5 ┆           │\n",
       "│            ┆            ┆           ┆           ┆   ┆        ┆           ┆ 943f1…    ┆           │\n",
       "│ 2019-11-01 ┆ view       ┆ 5000088   ┆ 205301356 ┆ … ┆ 293.65 ┆ 530496790 ┆ 8e5f4f83- ┆ 341.434   │\n",
       "│ 00:00:00   ┆            ┆           ┆ 610086603 ┆   ┆        ┆           ┆ 366c-4f70 ┆           │\n",
       "│ UTC        ┆            ┆           ┆ 5         ┆   ┆        ┆           ┆ -860e-ca7 ┆           │\n",
       "│            ┆            ┆           ┆           ┆   ┆        ┆           ┆ 41741…    ┆           │\n",
       "│ 2019-11-01 ┆ view       ┆ 17302664  ┆ 205301355 ┆ … ┆ 28.31  ┆ 561587266 ┆ 755422e7- ┆ 341.434   │\n",
       "│ 00:00:01   ┆            ┆           ┆ 385349765 ┆   ┆        ┆           ┆ 9040-477b ┆           │\n",
       "│ UTC        ┆            ┆           ┆ 5         ┆   ┆        ┆           ┆ -9bd2-6a6 ┆           │\n",
       "│            ┆            ┆           ┆           ┆   ┆        ┆           ┆ e8fd9…    ┆           │\n",
       "│ 2019-11-01 ┆ view       ┆ 3601530   ┆ 205301356 ┆ … ┆ 712.87 ┆ 518085591 ┆ 3bfb58cd- ┆ 341.434   │\n",
       "│ 00:00:01   ┆            ┆           ┆ 381077592 ┆   ┆        ┆           ┆ 7892-48cc ┆           │\n",
       "│ UTC        ┆            ┆           ┆ 3         ┆   ┆        ┆           ┆ -8020-2f1 ┆           │\n",
       "│            ┆            ┆           ┆           ┆   ┆        ┆           ┆ 7e6de…    ┆           │\n",
       "│ 2019-11-01 ┆ view       ┆ 1004775   ┆ 205301355 ┆ … ┆ 183.27 ┆ 558856683 ┆ 313628f1- ┆ 341.434   │\n",
       "│ 00:00:01   ┆            ┆           ┆ 563188265 ┆   ┆        ┆           ┆ 68b8-460d ┆           │\n",
       "│ UTC        ┆            ┆           ┆ 5         ┆   ┆        ┆           ┆ -84f6-cec ┆           │\n",
       "│            ┆            ┆           ┆           ┆   ┆        ┆           ┆ 7a879…    ┆           │\n",
       "└────────────┴────────────┴───────────┴───────────┴───┴────────┴───────────┴───────────┴───────────┘"
      ]
     },
     "execution_count": 7,
     "metadata": {},
     "output_type": "execute_result"
    }
   ],
   "source": [
    "# Create a column with a constant (based on the mean) \n",
    "df_top.select([\n",
    "    pl.all(),\n",
    "    pl.col(\"price\").mean().alias(\"price_avg\")    \n",
    "])"
   ]
  },
  {
   "cell_type": "markdown",
   "id": "7e3fdcb4",
   "metadata": {},
   "source": [
    "### 2. Update values based on window function\n",
    "\n",
    "- In pandas this is done with `transform`. In R's dplyr with `mutate`. \n",
    "- The idea is we update values of a column BY a group and the new column has the same size of the original dataframe.\n",
    "- The over() call defines the group we are interested in"
   ]
  },
  {
   "cell_type": "code",
   "execution_count": 8,
   "id": "a33aba95",
   "metadata": {},
   "outputs": [
    {
     "data": {
      "text/html": [
       "<div><style>\n",
       ".dataframe > thead > tr,\n",
       ".dataframe > tbody > tr {\n",
       "  text-align: right;\n",
       "  white-space: pre-wrap;\n",
       "}\n",
       "</style>\n",
       "<small>shape: (5, 9)</small><table border=\"1\" class=\"dataframe\"><thead><tr><th>event_time</th><th>event_type</th><th>product_id</th><th>category_id</th><th>category_code</th><th>brand</th><th>price</th><th>user_id</th><th>user_session</th></tr><tr><td>str</td><td>str</td><td>i64</td><td>i64</td><td>str</td><td>str</td><td>f64</td><td>i64</td><td>str</td></tr></thead><tbody><tr><td>&quot;2019-11-01 00:…</td><td>&quot;view&quot;</td><td>1003461</td><td>2053013555631882655</td><td>&quot;electronics.sm…</td><td>&quot;xiaomi&quot;</td><td>489.07</td><td>520088904</td><td>&quot;4d3b30da-a5e4-…</td></tr><tr><td>&quot;2019-11-01 00:…</td><td>&quot;view&quot;</td><td>5000088</td><td>2053013566100866035</td><td>&quot;appliances.sew…</td><td>&quot;janome&quot;</td><td>293.65</td><td>530496790</td><td>&quot;8e5f4f83-366c-…</td></tr><tr><td>&quot;2019-11-01 00:…</td><td>&quot;view&quot;</td><td>17302664</td><td>2053013553853497655</td><td>null</td><td>&quot;creed&quot;</td><td>28.31</td><td>561587266</td><td>&quot;755422e7-9040-…</td></tr><tr><td>&quot;2019-11-01 00:…</td><td>&quot;view&quot;</td><td>3601530</td><td>2053013563810775923</td><td>&quot;appliances.kit…</td><td>&quot;lg&quot;</td><td>712.87</td><td>518085591</td><td>&quot;3bfb58cd-7892-…</td></tr><tr><td>&quot;2019-11-01 00:…</td><td>&quot;view&quot;</td><td>1004775</td><td>2053013555631882655</td><td>&quot;electronics.sm…</td><td>&quot;xiaomi&quot;</td><td>183.27</td><td>558856683</td><td>&quot;313628f1-68b8-…</td></tr></tbody></table></div>"
      ],
      "text/plain": [
       "shape: (5, 9)\n",
       "┌────────────┬────────────┬────────────┬────────────┬───┬────────┬────────┬───────────┬────────────┐\n",
       "│ event_time ┆ event_type ┆ product_id ┆ category_i ┆ … ┆ brand  ┆ price  ┆ user_id   ┆ user_sessi │\n",
       "│ ---        ┆ ---        ┆ ---        ┆ d          ┆   ┆ ---    ┆ ---    ┆ ---       ┆ on         │\n",
       "│ str        ┆ str        ┆ i64        ┆ ---        ┆   ┆ str    ┆ f64    ┆ i64       ┆ ---        │\n",
       "│            ┆            ┆            ┆ i64        ┆   ┆        ┆        ┆           ┆ str        │\n",
       "╞════════════╪════════════╪════════════╪════════════╪═══╪════════╪════════╪═══════════╪════════════╡\n",
       "│ 2019-11-01 ┆ view       ┆ 1003461    ┆ 2053013555 ┆ … ┆ xiaomi ┆ 489.07 ┆ 520088904 ┆ 4d3b30da-a │\n",
       "│ 00:00:00   ┆            ┆            ┆ 631882655  ┆   ┆        ┆        ┆           ┆ 5e4-49df-b │\n",
       "│ UTC        ┆            ┆            ┆            ┆   ┆        ┆        ┆           ┆ 1a8-ba5943 │\n",
       "│            ┆            ┆            ┆            ┆   ┆        ┆        ┆           ┆ f1…        │\n",
       "│ 2019-11-01 ┆ view       ┆ 5000088    ┆ 2053013566 ┆ … ┆ janome ┆ 293.65 ┆ 530496790 ┆ 8e5f4f83-3 │\n",
       "│ 00:00:00   ┆            ┆            ┆ 100866035  ┆   ┆        ┆        ┆           ┆ 66c-4f70-8 │\n",
       "│ UTC        ┆            ┆            ┆            ┆   ┆        ┆        ┆           ┆ 60e-ca7417 │\n",
       "│            ┆            ┆            ┆            ┆   ┆        ┆        ┆           ┆ 41…        │\n",
       "│ 2019-11-01 ┆ view       ┆ 17302664   ┆ 2053013553 ┆ … ┆ creed  ┆ 28.31  ┆ 561587266 ┆ 755422e7-9 │\n",
       "│ 00:00:01   ┆            ┆            ┆ 853497655  ┆   ┆        ┆        ┆           ┆ 040-477b-9 │\n",
       "│ UTC        ┆            ┆            ┆            ┆   ┆        ┆        ┆           ┆ bd2-6a6e8f │\n",
       "│            ┆            ┆            ┆            ┆   ┆        ┆        ┆           ┆ d9…        │\n",
       "│ 2019-11-01 ┆ view       ┆ 3601530    ┆ 2053013563 ┆ … ┆ lg     ┆ 712.87 ┆ 518085591 ┆ 3bfb58cd-7 │\n",
       "│ 00:00:01   ┆            ┆            ┆ 810775923  ┆   ┆        ┆        ┆           ┆ 892-48cc-8 │\n",
       "│ UTC        ┆            ┆            ┆            ┆   ┆        ┆        ┆           ┆ 020-2f17e6 │\n",
       "│            ┆            ┆            ┆            ┆   ┆        ┆        ┆           ┆ de…        │\n",
       "│ 2019-11-01 ┆ view       ┆ 1004775    ┆ 2053013555 ┆ … ┆ xiaomi ┆ 183.27 ┆ 558856683 ┆ 313628f1-6 │\n",
       "│ 00:00:01   ┆            ┆            ┆ 631882655  ┆   ┆        ┆        ┆           ┆ 8b8-460d-8 │\n",
       "│ UTC        ┆            ┆            ┆            ┆   ┆        ┆        ┆           ┆ 4f6-cec7a8 │\n",
       "│            ┆            ┆            ┆            ┆   ┆        ┆        ┆           ┆ 79…        │\n",
       "└────────────┴────────────┴────────────┴────────────┴───┴────────┴────────┴───────────┴────────────┘"
      ]
     },
     "execution_count": 8,
     "metadata": {},
     "output_type": "execute_result"
    }
   ],
   "source": [
    "df.head()"
   ]
  },
  {
   "cell_type": "code",
   "execution_count": 9,
   "id": "3353e79e",
   "metadata": {},
   "outputs": [
    {
     "data": {
      "text/html": [
       "<div><style>\n",
       ".dataframe > thead > tr,\n",
       ".dataframe > tbody > tr {\n",
       "  text-align: right;\n",
       "  white-space: pre-wrap;\n",
       "}\n",
       "</style>\n",
       "<small>shape: (10, 10)</small><table border=\"1\" class=\"dataframe\"><thead><tr><th>event_time</th><th>event_type</th><th>product_id</th><th>category_id</th><th>category_code</th><th>brand</th><th>price</th><th>user_id</th><th>user_session</th><th>price_by_categorycode</th></tr><tr><td>str</td><td>str</td><td>i64</td><td>i64</td><td>str</td><td>str</td><td>f64</td><td>i64</td><td>str</td><td>f64</td></tr></thead><tbody><tr><td>&quot;2019-11-01 00:…</td><td>&quot;view&quot;</td><td>1003461</td><td>2053013555631882655</td><td>&quot;electronics.sm…</td><td>&quot;xiaomi&quot;</td><td>489.07</td><td>520088904</td><td>&quot;4d3b30da-a5e4-…</td><td>445.118333</td></tr><tr><td>&quot;2019-11-01 00:…</td><td>&quot;view&quot;</td><td>5000088</td><td>2053013566100866035</td><td>&quot;appliances.sew…</td><td>&quot;janome&quot;</td><td>293.65</td><td>530496790</td><td>&quot;8e5f4f83-366c-…</td><td>293.65</td></tr><tr><td>&quot;2019-11-01 00:…</td><td>&quot;view&quot;</td><td>17302664</td><td>2053013553853497655</td><td>null</td><td>&quot;creed&quot;</td><td>28.31</td><td>561587266</td><td>&quot;755422e7-9040-…</td><td>29.611667</td></tr><tr><td>&quot;2019-11-01 00:…</td><td>&quot;view&quot;</td><td>3601530</td><td>2053013563810775923</td><td>&quot;appliances.kit…</td><td>&quot;lg&quot;</td><td>712.87</td><td>518085591</td><td>&quot;3bfb58cd-7892-…</td><td>712.87</td></tr><tr><td>&quot;2019-11-01 00:…</td><td>&quot;view&quot;</td><td>1004775</td><td>2053013555631882655</td><td>&quot;electronics.sm…</td><td>&quot;xiaomi&quot;</td><td>183.27</td><td>558856683</td><td>&quot;313628f1-68b8-…</td><td>445.118333</td></tr><tr><td>&quot;2019-11-01 00:…</td><td>&quot;view&quot;</td><td>1306894</td><td>2053013558920217191</td><td>&quot;computers.note…</td><td>&quot;hp&quot;</td><td>360.09</td><td>520772685</td><td>&quot;816a59f3-f5ae-…</td><td>428.746667</td></tr><tr><td>&quot;2019-11-01 00:…</td><td>&quot;view&quot;</td><td>1306421</td><td>2053013558920217191</td><td>&quot;computers.note…</td><td>&quot;hp&quot;</td><td>514.56</td><td>514028527</td><td>&quot;df8184cc-3694-…</td><td>428.746667</td></tr><tr><td>&quot;2019-11-01 00:…</td><td>&quot;view&quot;</td><td>15900065</td><td>2053013558190408249</td><td>null</td><td>&quot;rondell&quot;</td><td>30.86</td><td>518574284</td><td>&quot;5e6ef132-4d7c-…</td><td>29.611667</td></tr><tr><td>&quot;2019-11-01 00:…</td><td>&quot;view&quot;</td><td>12708937</td><td>2053013553559896355</td><td>null</td><td>&quot;michelin&quot;</td><td>72.72</td><td>532364121</td><td>&quot;0a899268-31eb-…</td><td>29.611667</td></tr><tr><td>&quot;2019-11-01 00:…</td><td>&quot;view&quot;</td><td>1004258</td><td>2053013555631882655</td><td>&quot;electronics.sm…</td><td>&quot;apple&quot;</td><td>732.07</td><td>532647354</td><td>&quot;d2d3d2c6-631d-…</td><td>445.118333</td></tr></tbody></table></div>"
      ],
      "text/plain": [
       "shape: (10, 10)\n",
       "┌────────────┬────────────┬───────────┬───────────┬───┬────────┬───────────┬───────────┬───────────┐\n",
       "│ event_time ┆ event_type ┆ product_i ┆ category_ ┆ … ┆ price  ┆ user_id   ┆ user_sess ┆ price_by_ │\n",
       "│ ---        ┆ ---        ┆ d         ┆ id        ┆   ┆ ---    ┆ ---       ┆ ion       ┆ categoryc │\n",
       "│ str        ┆ str        ┆ ---       ┆ ---       ┆   ┆ f64    ┆ i64       ┆ ---       ┆ ode       │\n",
       "│            ┆            ┆ i64       ┆ i64       ┆   ┆        ┆           ┆ str       ┆ ---       │\n",
       "│            ┆            ┆           ┆           ┆   ┆        ┆           ┆           ┆ f64       │\n",
       "╞════════════╪════════════╪═══════════╪═══════════╪═══╪════════╪═══════════╪═══════════╪═══════════╡\n",
       "│ 2019-11-01 ┆ view       ┆ 1003461   ┆ 205301355 ┆ … ┆ 489.07 ┆ 520088904 ┆ 4d3b30da- ┆ 445.11833 │\n",
       "│ 00:00:00   ┆            ┆           ┆ 563188265 ┆   ┆        ┆           ┆ a5e4-49df ┆ 3         │\n",
       "│ UTC        ┆            ┆           ┆ 5         ┆   ┆        ┆           ┆ -b1a8-ba5 ┆           │\n",
       "│            ┆            ┆           ┆           ┆   ┆        ┆           ┆ 943f1…    ┆           │\n",
       "│ 2019-11-01 ┆ view       ┆ 5000088   ┆ 205301356 ┆ … ┆ 293.65 ┆ 530496790 ┆ 8e5f4f83- ┆ 293.65    │\n",
       "│ 00:00:00   ┆            ┆           ┆ 610086603 ┆   ┆        ┆           ┆ 366c-4f70 ┆           │\n",
       "│ UTC        ┆            ┆           ┆ 5         ┆   ┆        ┆           ┆ -860e-ca7 ┆           │\n",
       "│            ┆            ┆           ┆           ┆   ┆        ┆           ┆ 41741…    ┆           │\n",
       "│ 2019-11-01 ┆ view       ┆ 17302664  ┆ 205301355 ┆ … ┆ 28.31  ┆ 561587266 ┆ 755422e7- ┆ 29.611667 │\n",
       "│ 00:00:01   ┆            ┆           ┆ 385349765 ┆   ┆        ┆           ┆ 9040-477b ┆           │\n",
       "│ UTC        ┆            ┆           ┆ 5         ┆   ┆        ┆           ┆ -9bd2-6a6 ┆           │\n",
       "│            ┆            ┆           ┆           ┆   ┆        ┆           ┆ e8fd9…    ┆           │\n",
       "│ 2019-11-01 ┆ view       ┆ 3601530   ┆ 205301356 ┆ … ┆ 712.87 ┆ 518085591 ┆ 3bfb58cd- ┆ 712.87    │\n",
       "│ 00:00:01   ┆            ┆           ┆ 381077592 ┆   ┆        ┆           ┆ 7892-48cc ┆           │\n",
       "│ UTC        ┆            ┆           ┆ 3         ┆   ┆        ┆           ┆ -8020-2f1 ┆           │\n",
       "│            ┆            ┆           ┆           ┆   ┆        ┆           ┆ 7e6de…    ┆           │\n",
       "│ …          ┆ …          ┆ …         ┆ …         ┆ … ┆ …      ┆ …         ┆ …         ┆ …         │\n",
       "│ 2019-11-01 ┆ view       ┆ 1306421   ┆ 205301355 ┆ … ┆ 514.56 ┆ 514028527 ┆ df8184cc- ┆ 428.74666 │\n",
       "│ 00:00:01   ┆            ┆           ┆ 892021719 ┆   ┆        ┆           ┆ 3694-4549 ┆ 7         │\n",
       "│ UTC        ┆            ┆           ┆ 1         ┆   ┆        ┆           ┆ -8c8c-6b5 ┆           │\n",
       "│            ┆            ┆           ┆           ┆   ┆        ┆           ┆ 17187…    ┆           │\n",
       "│ 2019-11-01 ┆ view       ┆ 15900065  ┆ 205301355 ┆ … ┆ 30.86  ┆ 518574284 ┆ 5e6ef132- ┆ 29.611667 │\n",
       "│ 00:00:02   ┆            ┆           ┆ 819040824 ┆   ┆        ┆           ┆ 4d7c-4730 ┆           │\n",
       "│ UTC        ┆            ┆           ┆ 9         ┆   ┆        ┆           ┆ -8c7f-85a ┆           │\n",
       "│            ┆            ┆           ┆           ┆   ┆        ┆           ┆ a4082…    ┆           │\n",
       "│ 2019-11-01 ┆ view       ┆ 12708937  ┆ 205301355 ┆ … ┆ 72.72  ┆ 532364121 ┆ 0a899268- ┆ 29.611667 │\n",
       "│ 00:00:02   ┆            ┆           ┆ 355989635 ┆   ┆        ┆           ┆ 31eb-46de ┆           │\n",
       "│ UTC        ┆            ┆           ┆ 5         ┆   ┆        ┆           ┆ -898d-09b ┆           │\n",
       "│            ┆            ┆           ┆           ┆   ┆        ┆           ┆ 2da95…    ┆           │\n",
       "│ 2019-11-01 ┆ view       ┆ 1004258   ┆ 205301355 ┆ … ┆ 732.07 ┆ 532647354 ┆ d2d3d2c6- ┆ 445.11833 │\n",
       "│ 00:00:02   ┆            ┆           ┆ 563188265 ┆   ┆        ┆           ┆ 631d-489e ┆ 3         │\n",
       "│ UTC        ┆            ┆           ┆ 5         ┆   ┆        ┆           ┆ -9fb5-06f ┆           │\n",
       "│            ┆            ┆           ┆           ┆   ┆        ┆           ┆ 340b8…    ┆           │\n",
       "└────────────┴────────────┴───────────┴───────────┴───┴────────┴───────────┴───────────┴───────────┘"
      ]
     },
     "execution_count": 9,
     "metadata": {},
     "output_type": "execute_result"
    }
   ],
   "source": [
    "df.with_columns([\n",
    "    pl.col(\"price\").mean().over(\"category_code\").alias(\"price_by_categorycode\")\n",
    "]).head(10)"
   ]
  },
  {
   "cell_type": "code",
   "execution_count": 10,
   "id": "f45fc46e",
   "metadata": {},
   "outputs": [
    {
     "data": {
      "text/html": [
       "<div><style>\n",
       ".dataframe > thead > tr,\n",
       ".dataframe > tbody > tr {\n",
       "  text-align: right;\n",
       "  white-space: pre-wrap;\n",
       "}\n",
       "</style>\n",
       "<small>shape: (5, 4)</small><table border=\"1\" class=\"dataframe\"><thead><tr><th>category_code</th><th>price</th><th>price_by_category</th><th>price_div_cat_average</th></tr><tr><td>str</td><td>f64</td><td>f64</td><td>f64</td></tr></thead><tbody><tr><td>&quot;electronics.sm…</td><td>489.07</td><td>445.118333</td><td>0.098742</td></tr><tr><td>&quot;appliances.sew…</td><td>293.65</td><td>293.65</td><td>0.0</td></tr><tr><td>null</td><td>28.31</td><td>29.611667</td><td>-0.043958</td></tr><tr><td>&quot;appliances.kit…</td><td>712.87</td><td>712.87</td><td>0.0</td></tr><tr><td>&quot;electronics.sm…</td><td>183.27</td><td>445.118333</td><td>-0.588267</td></tr></tbody></table></div>"
      ],
      "text/plain": [
       "shape: (5, 4)\n",
       "┌───────────────────────────┬────────┬───────────────────┬───────────────────────┐\n",
       "│ category_code             ┆ price  ┆ price_by_category ┆ price_div_cat_average │\n",
       "│ ---                       ┆ ---    ┆ ---               ┆ ---                   │\n",
       "│ str                       ┆ f64    ┆ f64               ┆ f64                   │\n",
       "╞═══════════════════════════╪════════╪═══════════════════╪═══════════════════════╡\n",
       "│ electronics.smartphone    ┆ 489.07 ┆ 445.118333        ┆ 0.098742              │\n",
       "│ appliances.sewing_machine ┆ 293.65 ┆ 293.65            ┆ 0.0                   │\n",
       "│ null                      ┆ 28.31  ┆ 29.611667         ┆ -0.043958             │\n",
       "│ appliances.kitchen.washer ┆ 712.87 ┆ 712.87            ┆ 0.0                   │\n",
       "│ electronics.smartphone    ┆ 183.27 ┆ 445.118333        ┆ -0.588267             │\n",
       "└───────────────────────────┴────────┴───────────────────┴───────────────────────┘"
      ]
     },
     "execution_count": 10,
     "metadata": {},
     "output_type": "execute_result"
    }
   ],
   "source": [
    "# now I can compute the difference between the price and the category average.\n",
    "df_cat_window = df.select([\n",
    "    pl.col(\"category_code\"),\n",
    "    pl.col(\"price\"),\n",
    "    pl.col(\"price\").mean().over(\"category_code\").alias(\"price_by_category\"),\n",
    "    (pl.col(\"price\") / pl.col(\"price\").mean().over(\"category_code\") - 1).alias(\"price_div_cat_average\")\n",
    "])\n",
    "df_cat_window.head()"
   ]
  },
  {
   "cell_type": "code",
   "execution_count": 12,
   "id": "69b30dfd",
   "metadata": {},
   "outputs": [],
   "source": [
    "df_cat_window_sample = df_cat_window.sample(28).to_pandas()"
   ]
  },
  {
   "cell_type": "code",
   "execution_count": 13,
   "id": "dd3f3552",
   "metadata": {},
   "outputs": [
    {
     "data": {
      "text/plain": [
       "<Axes: >"
      ]
     },
     "execution_count": 13,
     "metadata": {},
     "output_type": "execute_result"
    },
    {
     "data": {
      "image/png": "[encoded data removed]",
      "text/plain": [
       "<Figure size 640x480 with 1 Axes>"
      ]
     },
     "metadata": {},
     "output_type": "display_data"
    }
   ],
   "source": [
    "df_cat_window_sample.price_div_cat_average.hist(bins=30, range=[0, 5])"
   ]
  },
  {
   "cell_type": "code",
   "execution_count": 14,
   "id": "d627d24c",
   "metadata": {},
   "outputs": [
    {
     "data": {
      "text/plain": [
       "category_code             object\n",
       "price                    float64\n",
       "price_by_category        float64\n",
       "price_div_cat_average    float64\n",
       "dtype: object"
      ]
     },
     "execution_count": 14,
     "metadata": {},
     "output_type": "execute_result"
    }
   ],
   "source": [
    "df_cat_window_sample.dtypes"
   ]
  },
  {
   "cell_type": "code",
   "execution_count": 15,
   "id": "f30f1123",
   "metadata": {},
   "outputs": [
    {
     "data": {
      "text/html": [
       "<div>\n",
       "<style scoped>\n",
       "    .dataframe tbody tr th:only-of-type {\n",
       "        vertical-align: middle;\n",
       "    }\n",
       "\n",
       "    .dataframe tbody tr th {\n",
       "        vertical-align: top;\n",
       "    }\n",
       "\n",
       "    .dataframe thead th {\n",
       "        text-align: right;\n",
       "    }\n",
       "</style>\n",
       "<table border=\"1\" class=\"dataframe\">\n",
       "  <thead>\n",
       "    <tr style=\"text-align: right;\">\n",
       "      <th></th>\n",
       "      <th>category_code</th>\n",
       "      <th>price</th>\n",
       "      <th>price_by_category</th>\n",
       "      <th>price_div_cat_average</th>\n",
       "    </tr>\n",
       "  </thead>\n",
       "  <tbody>\n",
       "    <tr>\n",
       "      <th>0</th>\n",
       "      <td>electronics.smartphone</td>\n",
       "      <td>489.07</td>\n",
       "      <td>445.118333</td>\n",
       "      <td>0.098742</td>\n",
       "    </tr>\n",
       "    <tr>\n",
       "      <th>1</th>\n",
       "      <td>appliances.sewing_machine</td>\n",
       "      <td>293.65</td>\n",
       "      <td>293.650000</td>\n",
       "      <td>0.000000</td>\n",
       "    </tr>\n",
       "    <tr>\n",
       "      <th>2</th>\n",
       "      <td>None</td>\n",
       "      <td>28.31</td>\n",
       "      <td>29.611667</td>\n",
       "      <td>-0.043958</td>\n",
       "    </tr>\n",
       "    <tr>\n",
       "      <th>3</th>\n",
       "      <td>appliances.kitchen.washer</td>\n",
       "      <td>712.87</td>\n",
       "      <td>712.870000</td>\n",
       "      <td>0.000000</td>\n",
       "    </tr>\n",
       "    <tr>\n",
       "      <th>4</th>\n",
       "      <td>electronics.smartphone</td>\n",
       "      <td>183.27</td>\n",
       "      <td>445.118333</td>\n",
       "      <td>-0.588267</td>\n",
       "    </tr>\n",
       "  </tbody>\n",
       "</table>\n",
       "</div>"
      ],
      "text/plain": [
       "               category_code   price  price_by_category  price_div_cat_average\n",
       "0     electronics.smartphone  489.07         445.118333               0.098742\n",
       "1  appliances.sewing_machine  293.65         293.650000               0.000000\n",
       "2                       None   28.31          29.611667              -0.043958\n",
       "3  appliances.kitchen.washer  712.87         712.870000               0.000000\n",
       "4     electronics.smartphone  183.27         445.118333              -0.588267"
      ]
     },
     "execution_count": 15,
     "metadata": {},
     "output_type": "execute_result"
    }
   ],
   "source": [
    "df_cat_window_sample.head()"
   ]
  },
  {
   "cell_type": "code",
   "execution_count": 16,
   "id": "ccfb7537",
   "metadata": {},
   "outputs": [
    {
     "data": {
      "text/plain": [
       "0.0   -0.963190\n",
       "0.1   -0.720988\n",
       "0.2   -0.618541\n",
       "0.3   -0.299128\n",
       "0.4   -0.152092\n",
       "0.5   -0.020008\n",
       "0.6    0.000000\n",
       "0.7    0.037941\n",
       "0.8    0.180122\n",
       "0.9    0.947886\n",
       "1.0    1.999156\n",
       "Name: price_div_cat_average, dtype: float64"
      ]
     },
     "execution_count": 16,
     "metadata": {},
     "output_type": "execute_result"
    }
   ],
   "source": [
    "df_cat_window_sample.price_div_cat_average.quantile(np.arange(0, 1.1, 0.1))"
   ]
  },
  {
   "cell_type": "code",
   "execution_count": 17,
   "id": "ec344fbd",
   "metadata": {},
   "outputs": [
    {
     "data": {
      "text/html": [
       "<div>\n",
       "<style scoped>\n",
       "    .dataframe tbody tr th:only-of-type {\n",
       "        vertical-align: middle;\n",
       "    }\n",
       "\n",
       "    .dataframe tbody tr th {\n",
       "        vertical-align: top;\n",
       "    }\n",
       "\n",
       "    .dataframe thead th {\n",
       "        text-align: right;\n",
       "    }\n",
       "</style>\n",
       "<table border=\"1\" class=\"dataframe\">\n",
       "  <thead>\n",
       "    <tr style=\"text-align: right;\">\n",
       "      <th></th>\n",
       "      <th>category_code</th>\n",
       "      <th>price</th>\n",
       "      <th>price_by_category</th>\n",
       "      <th>price_div_cat_average</th>\n",
       "    </tr>\n",
       "  </thead>\n",
       "  <tbody>\n",
       "  </tbody>\n",
       "</table>\n",
       "</div>"
      ],
      "text/plain": [
       "Empty DataFrame\n",
       "Columns: [category_code, price, price_by_category, price_div_cat_average]\n",
       "Index: []"
      ]
     },
     "execution_count": 17,
     "metadata": {},
     "output_type": "execute_result"
    }
   ],
   "source": [
    "df_cat_window_sample[df_cat_window_sample.price_div_cat_average > 10].sort_values(\"price_div_cat_average\", ascending=False)"
   ]
  }
 ],
 "metadata": {
  "kernelspec": {
   "display_name": "Python 3",
   "language": "python",
   "name": "python3"
  },
  "language_info": {
   "codemirror_mode": {
    "name": "ipython",
    "version": 3
   },
   "file_extension": ".py",
   "mimetype": "text/x-python",
   "name": "python",
   "nbconvert_exporter": "python",
   "pygments_lexer": "ipython3",
   "version": "3.10.7"
  }
 },
 "nbformat": 4,
 "nbformat_minor": 5
}
