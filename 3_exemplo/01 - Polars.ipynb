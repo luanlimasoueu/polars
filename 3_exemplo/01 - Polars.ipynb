{
 "cells": [
  {
   "cell_type": "code",
   "execution_count": 3,
   "id": "1080dd25",
   "metadata": {},
   "outputs": [
    {
     "name": "stdout",
     "output_type": "stream",
     "text": [
      "Collecting pyarrowNote: you may need to restart the kernel to use updated packages.\n",
      "\n",
      "  Downloading pyarrow-14.0.2-cp310-cp310-win_amd64.whl (24.6 MB)\n",
      "     --------------------------------------- 24.6/24.6 MB 27.3 MB/s eta 0:00:00\n",
      "Requirement already satisfied: numpy>=1.16.6 in c:\\users\\luan lima\\appdata\\local\\programs\\python\\python310\\lib\\site-packages (from pyarrow) (1.25.1)\n",
      "Installing collected packages: pyarrow\n",
      "Successfully installed pyarrow-14.0.2\n"
     ]
    },
    {
     "name": "stderr",
     "output_type": "stream",
     "text": [
      "\n",
      "[notice] A new release of pip available: 22.2.2 -> 23.3.2\n",
      "[notice] To update, run: python.exe -m pip install --upgrade pip\n"
     ]
    }
   ],
   "source": [
    "pip install pyarrow"
   ]
  },
  {
   "cell_type": "code",
   "execution_count": 2,
   "id": "98a9d419",
   "metadata": {},
   "outputs": [],
   "source": [
    "import polars as pl\n",
    "import pandas as pd\n",
    "import numpy as np\n",
    "import pyarrow\n",
    "\n",
    "import matplotlib.pyplot as plt\n",
    "import seaborn as sns"
   ]
  },
  {
   "cell_type": "code",
   "execution_count": 2,
   "id": "89cf0194",
   "metadata": {},
   "outputs": [],
   "source": [
    "# Download Dataset or run in a kaggle notebook\n",
    "# https://www.kaggle.com/datasets/mkechinov/ecommerce-behavior-data-from-multi-category-store"
   ]
  },
  {
   "cell_type": "markdown",
   "id": "81466169",
   "metadata": {},
   "source": [
    "### Read 5GB CSV file"
   ]
  },
  {
   "cell_type": "code",
   "execution_count": 1,
   "id": "e2a283bb",
   "metadata": {},
   "outputs": [
    {
     "name": "stdout",
     "output_type": "stream",
     "text": [
      "Collecting Pyzmq==19.0.2\n",
      "  Downloading pyzmq-19.0.2.tar.gz (1.2 MB)\n",
      "     ---------------------------------------- 1.2/1.2 MB 10.4 MB/s eta 0:00:00\n",
      "  Preparing metadata (setup.py): started\n",
      "  Preparing metadata (setup.py): finished with status 'done'\n",
      "Using legacy 'setup.py install' for Pyzmq, since package 'wheel' is not installed.\n",
      "Installing collected packages: Pyzmq\n",
      "  Attempting uninstall: Pyzmq\n",
      "    Found existing installation: pyzmq 25.1.0\n",
      "    Uninstalling pyzmq-25.1.0:\n",
      "      Successfully uninstalled pyzmq-25.1.0\n",
      "  Running setup.py install for Pyzmq: started\n",
      "  Running setup.py install for Pyzmq: finished with status 'error'\n",
      "  Rolling back uninstall of pyzmq\n",
      "  Moving to c:\\users\\luan lima\\appdata\\roaming\\python\\python310\\site-packages\\pyzmq-25.1.0.dist-info\\\n",
      "   from C:\\Users\\Luan Lima\\AppData\\Roaming\\Python\\Python310\\site-packages\\~yzmq-25.1.0.dist-info\n",
      "  Moving to c:\\users\\luan lima\\appdata\\roaming\\python\\python310\\site-packages\\pyzmq.libs\\\n",
      "   from C:\\Users\\Luan Lima\\AppData\\Roaming\\Python\\Python310\\site-packages\\~yzmq.libs\n",
      "  Moving to c:\\users\\luan lima\\appdata\\roaming\\python\\python310\\site-packages\\zmq\\\n",
      "   from C:\\Users\\Luan Lima\\AppData\\Roaming\\Python\\Python310\\site-packages\\~mq\n",
      "Note: you may need to restart the kernel to use updated packages.\n"
     ]
    },
    {
     "name": "stderr",
     "output_type": "stream",
     "text": [
      "  error: subprocess-exited-with-error\n",
      "  \n",
      "  × Running setup.py install for Pyzmq did not run successfully.\n",
      "  │ exit code: 1\n",
      "  ╰─> [204 lines of output]\n",
      "      running install\n",
      "      c:\\Users\\Luan Lima\\AppData\\Local\\Programs\\Python\\Python310\\lib\\site-packages\\setuptools\\command\\install.py:34: SetuptoolsDeprecationWarning: setup.py install is deprecated. Use build and pip and other standards-based tools.\n",
      "        warnings.warn(\n",
      "      running build\n",
      "      running build_py\n",
      "      creating build\n",
      "      creating build\\lib.win-amd64-cpython-310\n",
      "      creating build\\lib.win-amd64-cpython-310\\zmq\n",
      "      copying zmq\\decorators.py -> build\\lib.win-amd64-cpython-310\\zmq\n",
      "      copying zmq\\error.py -> build\\lib.win-amd64-cpython-310\\zmq\n",
      "      copying zmq\\_future.py -> build\\lib.win-amd64-cpython-310\\zmq\n",
      "      copying zmq\\__init__.py -> build\\lib.win-amd64-cpython-310\\zmq\n",
      "      creating build\\lib.win-amd64-cpython-310\\zmq\\asyncio\n",
      "      copying zmq\\asyncio\\__init__.py -> build\\lib.win-amd64-cpython-310\\zmq\\asyncio\n",
      "      creating build\\lib.win-amd64-cpython-310\\zmq\\auth\n",
      "      copying zmq\\auth\\base.py -> build\\lib.win-amd64-cpython-310\\zmq\\auth\n",
      "      copying zmq\\auth\\certs.py -> build\\lib.win-amd64-cpython-310\\zmq\\auth\n",
      "      copying zmq\\auth\\ioloop.py -> build\\lib.win-amd64-cpython-310\\zmq\\auth\n",
      "      copying zmq\\auth\\thread.py -> build\\lib.win-amd64-cpython-310\\zmq\\auth\n",
      "      copying zmq\\auth\\__init__.py -> build\\lib.win-amd64-cpython-310\\zmq\\auth\n",
      "      creating build\\lib.win-amd64-cpython-310\\zmq\\auth\\asyncio\n",
      "      copying zmq\\auth\\asyncio\\__init__.py -> build\\lib.win-amd64-cpython-310\\zmq\\auth\\asyncio\n",
      "      creating build\\lib.win-amd64-cpython-310\\zmq\\backend\n",
      "      copying zmq\\backend\\select.py -> build\\lib.win-amd64-cpython-310\\zmq\\backend\n",
      "      copying zmq\\backend\\__init__.py -> build\\lib.win-amd64-cpython-310\\zmq\\backend\n",
      "      creating build\\lib.win-amd64-cpython-310\\zmq\\backend\\cffi\n",
      "      copying zmq\\backend\\cffi\\constants.py -> build\\lib.win-amd64-cpython-310\\zmq\\backend\\cffi\n",
      "      copying zmq\\backend\\cffi\\context.py -> build\\lib.win-amd64-cpython-310\\zmq\\backend\\cffi\n",
      "      copying zmq\\backend\\cffi\\devices.py -> build\\lib.win-amd64-cpython-310\\zmq\\backend\\cffi\n",
      "      copying zmq\\backend\\cffi\\error.py -> build\\lib.win-amd64-cpython-310\\zmq\\backend\\cffi\n",
      "      copying zmq\\backend\\cffi\\message.py -> build\\lib.win-amd64-cpython-310\\zmq\\backend\\cffi\n",
      "      copying zmq\\backend\\cffi\\socket.py -> build\\lib.win-amd64-cpython-310\\zmq\\backend\\cffi\n",
      "      copying zmq\\backend\\cffi\\utils.py -> build\\lib.win-amd64-cpython-310\\zmq\\backend\\cffi\n",
      "      copying zmq\\backend\\cffi\\_cffi.py -> build\\lib.win-amd64-cpython-310\\zmq\\backend\\cffi\n",
      "      copying zmq\\backend\\cffi\\_poll.py -> build\\lib.win-amd64-cpython-310\\zmq\\backend\\cffi\n",
      "      copying zmq\\backend\\cffi\\__init__.py -> build\\lib.win-amd64-cpython-310\\zmq\\backend\\cffi\n",
      "      creating build\\lib.win-amd64-cpython-310\\zmq\\backend\\cython\n",
      "      copying zmq\\backend\\cython\\__init__.py -> build\\lib.win-amd64-cpython-310\\zmq\\backend\\cython\n",
      "      creating build\\lib.win-amd64-cpython-310\\zmq\\devices\n",
      "      copying zmq\\devices\\basedevice.py -> build\\lib.win-amd64-cpython-310\\zmq\\devices\n",
      "      copying zmq\\devices\\monitoredqueue.py -> build\\lib.win-amd64-cpython-310\\zmq\\devices\n",
      "      copying zmq\\devices\\monitoredqueuedevice.py -> build\\lib.win-amd64-cpython-310\\zmq\\devices\n",
      "      copying zmq\\devices\\proxydevice.py -> build\\lib.win-amd64-cpython-310\\zmq\\devices\n",
      "      copying zmq\\devices\\proxysteerabledevice.py -> build\\lib.win-amd64-cpython-310\\zmq\\devices\n",
      "      copying zmq\\devices\\__init__.py -> build\\lib.win-amd64-cpython-310\\zmq\\devices\n",
      "      creating build\\lib.win-amd64-cpython-310\\zmq\\eventloop\n",
      "      copying zmq\\eventloop\\future.py -> build\\lib.win-amd64-cpython-310\\zmq\\eventloop\n",
      "      copying zmq\\eventloop\\ioloop.py -> build\\lib.win-amd64-cpython-310\\zmq\\eventloop\n",
      "      copying zmq\\eventloop\\zmqstream.py -> build\\lib.win-amd64-cpython-310\\zmq\\eventloop\n",
      "      copying zmq\\eventloop\\_deprecated.py -> build\\lib.win-amd64-cpython-310\\zmq\\eventloop\n",
      "      copying zmq\\eventloop\\__init__.py -> build\\lib.win-amd64-cpython-310\\zmq\\eventloop\n",
      "      creating build\\lib.win-amd64-cpython-310\\zmq\\eventloop\\minitornado\n",
      "      copying zmq\\eventloop\\minitornado\\concurrent.py -> build\\lib.win-amd64-cpython-310\\zmq\\eventloop\\minitornado\n",
      "      copying zmq\\eventloop\\minitornado\\ioloop.py -> build\\lib.win-amd64-cpython-310\\zmq\\eventloop\\minitornado\n",
      "      copying zmq\\eventloop\\minitornado\\log.py -> build\\lib.win-amd64-cpython-310\\zmq\\eventloop\\minitornado\n",
      "      copying zmq\\eventloop\\minitornado\\stack_context.py -> build\\lib.win-amd64-cpython-310\\zmq\\eventloop\\minitornado\n",
      "      copying zmq\\eventloop\\minitornado\\util.py -> build\\lib.win-amd64-cpython-310\\zmq\\eventloop\\minitornado\n",
      "      copying zmq\\eventloop\\minitornado\\__init__.py -> build\\lib.win-amd64-cpython-310\\zmq\\eventloop\\minitornado\n",
      "      creating build\\lib.win-amd64-cpython-310\\zmq\\eventloop\\minitornado\\platform\n",
      "      copying zmq\\eventloop\\minitornado\\platform\\auto.py -> build\\lib.win-amd64-cpython-310\\zmq\\eventloop\\minitornado\\platform\n",
      "      copying zmq\\eventloop\\minitornado\\platform\\common.py -> build\\lib.win-amd64-cpython-310\\zmq\\eventloop\\minitornado\\platform\n",
      "      copying zmq\\eventloop\\minitornado\\platform\\interface.py -> build\\lib.win-amd64-cpython-310\\zmq\\eventloop\\minitornado\\platform\n",
      "      copying zmq\\eventloop\\minitornado\\platform\\posix.py -> build\\lib.win-amd64-cpython-310\\zmq\\eventloop\\minitornado\\platform\n",
      "      copying zmq\\eventloop\\minitornado\\platform\\windows.py -> build\\lib.win-amd64-cpython-310\\zmq\\eventloop\\minitornado\\platform\n",
      "      copying zmq\\eventloop\\minitornado\\platform\\__init__.py -> build\\lib.win-amd64-cpython-310\\zmq\\eventloop\\minitornado\\platform\n",
      "      creating build\\lib.win-amd64-cpython-310\\zmq\\green\n",
      "      copying zmq\\green\\core.py -> build\\lib.win-amd64-cpython-310\\zmq\\green\n",
      "      copying zmq\\green\\device.py -> build\\lib.win-amd64-cpython-310\\zmq\\green\n",
      "      copying zmq\\green\\poll.py -> build\\lib.win-amd64-cpython-310\\zmq\\green\n",
      "      copying zmq\\green\\__init__.py -> build\\lib.win-amd64-cpython-310\\zmq\\green\n",
      "      creating build\\lib.win-amd64-cpython-310\\zmq\\green\\eventloop\n",
      "      copying zmq\\green\\eventloop\\ioloop.py -> build\\lib.win-amd64-cpython-310\\zmq\\green\\eventloop\n",
      "      copying zmq\\green\\eventloop\\zmqstream.py -> build\\lib.win-amd64-cpython-310\\zmq\\green\\eventloop\n",
      "      copying zmq\\green\\eventloop\\__init__.py -> build\\lib.win-amd64-cpython-310\\zmq\\green\\eventloop\n",
      "      creating build\\lib.win-amd64-cpython-310\\zmq\\log\n",
      "      copying zmq\\log\\handlers.py -> build\\lib.win-amd64-cpython-310\\zmq\\log\n",
      "      copying zmq\\log\\__init__.py -> build\\lib.win-amd64-cpython-310\\zmq\\log\n",
      "      copying zmq\\log\\__main__.py -> build\\lib.win-amd64-cpython-310\\zmq\\log\n",
      "      creating build\\lib.win-amd64-cpython-310\\zmq\\ssh\n",
      "      copying zmq\\ssh\\forward.py -> build\\lib.win-amd64-cpython-310\\zmq\\ssh\n",
      "      copying zmq\\ssh\\tunnel.py -> build\\lib.win-amd64-cpython-310\\zmq\\ssh\n",
      "      copying zmq\\ssh\\__init__.py -> build\\lib.win-amd64-cpython-310\\zmq\\ssh\n",
      "      creating build\\lib.win-amd64-cpython-310\\zmq\\sugar\n",
      "      copying zmq\\sugar\\attrsettr.py -> build\\lib.win-amd64-cpython-310\\zmq\\sugar\n",
      "      copying zmq\\sugar\\constants.py -> build\\lib.win-amd64-cpython-310\\zmq\\sugar\n",
      "      copying zmq\\sugar\\context.py -> build\\lib.win-amd64-cpython-310\\zmq\\sugar\n",
      "      copying zmq\\sugar\\frame.py -> build\\lib.win-amd64-cpython-310\\zmq\\sugar\n",
      "      copying zmq\\sugar\\poll.py -> build\\lib.win-amd64-cpython-310\\zmq\\sugar\n",
      "      copying zmq\\sugar\\socket.py -> build\\lib.win-amd64-cpython-310\\zmq\\sugar\n",
      "      copying zmq\\sugar\\stopwatch.py -> build\\lib.win-amd64-cpython-310\\zmq\\sugar\n",
      "      copying zmq\\sugar\\tracker.py -> build\\lib.win-amd64-cpython-310\\zmq\\sugar\n",
      "      copying zmq\\sugar\\version.py -> build\\lib.win-amd64-cpython-310\\zmq\\sugar\n",
      "      copying zmq\\sugar\\__init__.py -> build\\lib.win-amd64-cpython-310\\zmq\\sugar\n",
      "      creating build\\lib.win-amd64-cpython-310\\zmq\\tests\n",
      "      copying zmq\\tests\\conftest.py -> build\\lib.win-amd64-cpython-310\\zmq\\tests\n",
      "      copying zmq\\tests\\test_auth.py -> build\\lib.win-amd64-cpython-310\\zmq\\tests\n",
      "      copying zmq\\tests\\test_cffi_backend.py -> build\\lib.win-amd64-cpython-310\\zmq\\tests\n",
      "      copying zmq\\tests\\test_constants.py -> build\\lib.win-amd64-cpython-310\\zmq\\tests\n",
      "      copying zmq\\tests\\test_context.py -> build\\lib.win-amd64-cpython-310\\zmq\\tests\n",
      "      copying zmq\\tests\\test_cython.py -> build\\lib.win-amd64-cpython-310\\zmq\\tests\n",
      "      copying zmq\\tests\\test_decorators.py -> build\\lib.win-amd64-cpython-310\\zmq\\tests\n",
      "      copying zmq\\tests\\test_device.py -> build\\lib.win-amd64-cpython-310\\zmq\\tests\n",
      "      copying zmq\\tests\\test_draft.py -> build\\lib.win-amd64-cpython-310\\zmq\\tests\n",
      "      copying zmq\\tests\\test_error.py -> build\\lib.win-amd64-cpython-310\\zmq\\tests\n",
      "      copying zmq\\tests\\test_etc.py -> build\\lib.win-amd64-cpython-310\\zmq\\tests\n",
      "      copying zmq\\tests\\test_future.py -> build\\lib.win-amd64-cpython-310\\zmq\\tests\n",
      "      copying zmq\\tests\\test_imports.py -> build\\lib.win-amd64-cpython-310\\zmq\\tests\n",
      "      copying zmq\\tests\\test_includes.py -> build\\lib.win-amd64-cpython-310\\zmq\\tests\n",
      "      copying zmq\\tests\\test_ioloop.py -> build\\lib.win-amd64-cpython-310\\zmq\\tests\n",
      "      copying zmq\\tests\\test_log.py -> build\\lib.win-amd64-cpython-310\\zmq\\tests\n",
      "      copying zmq\\tests\\test_message.py -> build\\lib.win-amd64-cpython-310\\zmq\\tests\n",
      "      copying zmq\\tests\\test_monitor.py -> build\\lib.win-amd64-cpython-310\\zmq\\tests\n",
      "      copying zmq\\tests\\test_monqueue.py -> build\\lib.win-amd64-cpython-310\\zmq\\tests\n",
      "      copying zmq\\tests\\test_multipart.py -> build\\lib.win-amd64-cpython-310\\zmq\\tests\n",
      "      copying zmq\\tests\\test_pair.py -> build\\lib.win-amd64-cpython-310\\zmq\\tests\n",
      "      copying zmq\\tests\\test_poll.py -> build\\lib.win-amd64-cpython-310\\zmq\\tests\n",
      "      copying zmq\\tests\\test_proxy_steerable.py -> build\\lib.win-amd64-cpython-310\\zmq\\tests\n",
      "      copying zmq\\tests\\test_pubsub.py -> build\\lib.win-amd64-cpython-310\\zmq\\tests\n",
      "      copying zmq\\tests\\test_reqrep.py -> build\\lib.win-amd64-cpython-310\\zmq\\tests\n",
      "      copying zmq\\tests\\test_retry_eintr.py -> build\\lib.win-amd64-cpython-310\\zmq\\tests\n",
      "      copying zmq\\tests\\test_security.py -> build\\lib.win-amd64-cpython-310\\zmq\\tests\n",
      "      copying zmq\\tests\\test_socket.py -> build\\lib.win-amd64-cpython-310\\zmq\\tests\n",
      "      copying zmq\\tests\\test_ssh.py -> build\\lib.win-amd64-cpython-310\\zmq\\tests\n",
      "      copying zmq\\tests\\test_version.py -> build\\lib.win-amd64-cpython-310\\zmq\\tests\n",
      "      copying zmq\\tests\\test_win32_shim.py -> build\\lib.win-amd64-cpython-310\\zmq\\tests\n",
      "      copying zmq\\tests\\test_z85.py -> build\\lib.win-amd64-cpython-310\\zmq\\tests\n",
      "      copying zmq\\tests\\test_zmqstream.py -> build\\lib.win-amd64-cpython-310\\zmq\\tests\n",
      "      copying zmq\\tests\\__init__.py -> build\\lib.win-amd64-cpython-310\\zmq\\tests\n",
      "      creating build\\lib.win-amd64-cpython-310\\zmq\\tests\\asyncio\n",
      "      copying zmq\\tests\\asyncio\\test_asyncio.py -> build\\lib.win-amd64-cpython-310\\zmq\\tests\\asyncio\n",
      "      copying zmq\\tests\\asyncio\\_test_asyncio.py -> build\\lib.win-amd64-cpython-310\\zmq\\tests\\asyncio\n",
      "      copying zmq\\tests\\asyncio\\__init__.py -> build\\lib.win-amd64-cpython-310\\zmq\\tests\\asyncio\n",
      "      creating build\\lib.win-amd64-cpython-310\\zmq\\utils\n",
      "      copying zmq\\utils\\constant_names.py -> build\\lib.win-amd64-cpython-310\\zmq\\utils\n",
      "      copying zmq\\utils\\garbage.py -> build\\lib.win-amd64-cpython-310\\zmq\\utils\n",
      "      copying zmq\\utils\\interop.py -> build\\lib.win-amd64-cpython-310\\zmq\\utils\n",
      "      copying zmq\\utils\\jsonapi.py -> build\\lib.win-amd64-cpython-310\\zmq\\utils\n",
      "      copying zmq\\utils\\monitor.py -> build\\lib.win-amd64-cpython-310\\zmq\\utils\n",
      "      copying zmq\\utils\\sixcerpt.py -> build\\lib.win-amd64-cpython-310\\zmq\\utils\n",
      "      copying zmq\\utils\\strtypes.py -> build\\lib.win-amd64-cpython-310\\zmq\\utils\n",
      "      copying zmq\\utils\\win32.py -> build\\lib.win-amd64-cpython-310\\zmq\\utils\n",
      "      copying zmq\\utils\\z85.py -> build\\lib.win-amd64-cpython-310\\zmq\\utils\n",
      "      copying zmq\\utils\\__init__.py -> build\\lib.win-amd64-cpython-310\\zmq\\utils\n",
      "      copying zmq\\__init__.pxd -> build\\lib.win-amd64-cpython-310\\zmq\n",
      "      copying zmq\\backend\\cffi\\_cdefs.h -> build\\lib.win-amd64-cpython-310\\zmq\\backend\\cffi\n",
      "      copying zmq\\backend\\cffi\\_verify.c -> build\\lib.win-amd64-cpython-310\\zmq\\backend\\cffi\n",
      "      copying zmq\\backend\\cython\\checkrc.pxd -> build\\lib.win-amd64-cpython-310\\zmq\\backend\\cython\n",
      "      copying zmq\\backend\\cython\\context.pxd -> build\\lib.win-amd64-cpython-310\\zmq\\backend\\cython\n",
      "      copying zmq\\backend\\cython\\libzmq.pxd -> build\\lib.win-amd64-cpython-310\\zmq\\backend\\cython\n",
      "      copying zmq\\backend\\cython\\message.pxd -> build\\lib.win-amd64-cpython-310\\zmq\\backend\\cython\n",
      "      copying zmq\\backend\\cython\\socket.pxd -> build\\lib.win-amd64-cpython-310\\zmq\\backend\\cython\n",
      "      copying zmq\\backend\\cython\\__init__.pxd -> build\\lib.win-amd64-cpython-310\\zmq\\backend\\cython\n",
      "      copying zmq\\backend\\cython\\constants.pxi -> build\\lib.win-amd64-cpython-310\\zmq\\backend\\cython\n",
      "      copying zmq\\backend\\cython\\constant_enums.pxi -> build\\lib.win-amd64-cpython-310\\zmq\\backend\\cython\n",
      "      copying zmq\\devices\\monitoredqueue.pxd -> build\\lib.win-amd64-cpython-310\\zmq\\devices\n",
      "      copying zmq\\utils\\buffers.pxd -> build\\lib.win-amd64-cpython-310\\zmq\\utils\n",
      "      copying zmq\\utils\\getpid_compat.h -> build\\lib.win-amd64-cpython-310\\zmq\\utils\n",
      "      copying zmq\\utils\\ipcmaxlen.h -> build\\lib.win-amd64-cpython-310\\zmq\\utils\n",
      "      copying zmq\\utils\\mutex.h -> build\\lib.win-amd64-cpython-310\\zmq\\utils\n",
      "      copying zmq\\utils\\pyversion_compat.h -> build\\lib.win-amd64-cpython-310\\zmq\\utils\n",
      "      copying zmq\\utils\\zmq_compat.h -> build\\lib.win-amd64-cpython-310\\zmq\\utils\n",
      "      copying zmq\\utils\\zmq_constants.h -> build\\lib.win-amd64-cpython-310\\zmq\\utils\n",
      "      running build_ext\n",
      "      running configure\n",
      "      {'libraries': ['libzmq'], 'include_dirs': [], 'library_dirs': [], 'runtime_library_dirs': [], 'extra_link_args': []}\n",
      "      ************************************************\n",
      "      Warning: Couldn't find an acceptable libzmq on the system.\n",
      "      \n",
      "      If you expected pyzmq to link against an installed libzmq, please check to make sure:\n",
      "      \n",
      "          * You have a C compiler installed\n",
      "          * A development version of Python is installed (including headers)\n",
      "          * A development version of ZMQ >= 3.2 is installed (including headers)\n",
      "          * If ZMQ is not in a default location, supply the argument --zmq=<path>\n",
      "          * If you did recently install ZMQ to a default location,\n",
      "            try rebuilding the ld cache with `sudo ldconfig`\n",
      "            or specify zmq's location with `--zmq=/usr/local`\n",
      "      \n",
      "      You can skip all this detection/waiting nonsense if you know\n",
      "      you want pyzmq to bundle libzmq as an extension by passing:\n",
      "      \n",
      "          `--zmq=bundled`\n",
      "      \n",
      "      I will now try to build libzmq as a Python extension\n",
      "      unless you interrupt me (^C) in the next 10 seconds...\n",
      "      \n",
      "      \n",
      "      10...\n",
      "       9...\n",
      "       8...\n",
      "       7...\n",
      "       6...\n",
      "       5...\n",
      "       4...\n",
      "       3...\n",
      "       2...\n",
      "       1...\n",
      "      ************************************************\n",
      "      Using bundled libzmq\n",
      "      already have bundled\\zeromq\n",
      "      staging platform.hpp from: C:\\Users\\Luan Lima\\AppData\\Local\\Temp\\pip-install-nianlrgb\\pyzmq_7683ca731de94d3d81b096610126fe01\\buildutils\\include_win32\n",
      "      ************************************************\n",
      "      building 'zmq.libzmq' extension\n",
      "      error: Microsoft Visual C++ 14.0 or greater is required. Get it with \"Microsoft C++ Build Tools\": https://visualstudio.microsoft.com/visual-cpp-build-tools/\n",
      "      [end of output]\n",
      "  \n",
      "  note: This error originates from a subprocess, and is likely not a problem with pip.\n",
      "error: legacy-install-failure\n",
      "\n",
      "× Encountered error while trying to install package.\n",
      "╰─> Pyzmq\n",
      "\n",
      "note: This is an issue with the package mentioned above, not pip.\n",
      "hint: See above for output from the failure.\n",
      "\n",
      "[notice] A new release of pip available: 22.2.2 -> 23.3.2\n",
      "[notice] To update, run: python.exe -m pip install --upgrade pip\n"
     ]
    }
   ],
   "source": [
    "pip install Pyzmq==19.0.2"
   ]
  },
  {
   "cell_type": "code",
   "execution_count": 3,
   "id": "fd8b346b",
   "metadata": {},
   "outputs": [],
   "source": [
    "df = pl.read_csv(\"nov2019.csv\")"
   ]
  },
  {
   "cell_type": "markdown",
   "id": "05cfbdfc",
   "metadata": {},
   "source": [
    "# Basic operations"
   ]
  },
  {
   "cell_type": "code",
   "execution_count": 4,
   "id": "1d6618f4",
   "metadata": {},
   "outputs": [
    {
     "data": {
      "text/plain": [
       "(28, 9)"
      ]
     },
     "execution_count": 4,
     "metadata": {},
     "output_type": "execute_result"
    }
   ],
   "source": [
    "df.shape"
   ]
  },
  {
   "cell_type": "markdown",
   "id": "3f373cf8",
   "metadata": {},
   "source": [
    "## Print options"
   ]
  },
  {
   "cell_type": "code",
   "execution_count": 5,
   "id": "1a368247",
   "metadata": {},
   "outputs": [
    {
     "data": {
      "text/html": [
       "<div><style>\n",
       ".dataframe > thead > tr,\n",
       ".dataframe > tbody > tr {\n",
       "  text-align: right;\n",
       "  white-space: pre-wrap;\n",
       "}\n",
       "</style>\n",
       "<small>shape: (5, 9)</small><table border=\"1\" class=\"dataframe\"><thead><tr><th>event_time</th><th>event_type</th><th>product_id</th><th>category_id</th><th>category_code</th><th>brand</th><th>price</th><th>user_id</th><th>user_session</th></tr><tr><td>str</td><td>str</td><td>i64</td><td>i64</td><td>str</td><td>str</td><td>f64</td><td>i64</td><td>str</td></tr></thead><tbody><tr><td>&quot;2019-11-01 00:…</td><td>&quot;view&quot;</td><td>1003461</td><td>2053013555631882655</td><td>&quot;electronics.sm…</td><td>&quot;xiaomi&quot;</td><td>489.07</td><td>520088904</td><td>&quot;4d3b30da-a5e4-…</td></tr><tr><td>&quot;2019-11-01 00:…</td><td>&quot;view&quot;</td><td>5000088</td><td>2053013566100866035</td><td>&quot;appliances.sew…</td><td>&quot;janome&quot;</td><td>293.65</td><td>530496790</td><td>&quot;8e5f4f83-366c-…</td></tr><tr><td>&quot;2019-11-01 00:…</td><td>&quot;view&quot;</td><td>17302664</td><td>2053013553853497655</td><td>null</td><td>&quot;creed&quot;</td><td>28.31</td><td>561587266</td><td>&quot;755422e7-9040-…</td></tr><tr><td>&quot;2019-11-01 00:…</td><td>&quot;view&quot;</td><td>3601530</td><td>2053013563810775923</td><td>&quot;appliances.kit…</td><td>&quot;lg&quot;</td><td>712.87</td><td>518085591</td><td>&quot;3bfb58cd-7892-…</td></tr><tr><td>&quot;2019-11-01 00:…</td><td>&quot;view&quot;</td><td>1004775</td><td>2053013555631882655</td><td>&quot;electronics.sm…</td><td>&quot;xiaomi&quot;</td><td>183.27</td><td>558856683</td><td>&quot;313628f1-68b8-…</td></tr></tbody></table></div>"
      ],
      "text/plain": [
       "shape: (5, 9)\n",
       "┌────────────┬────────────┬────────────┬────────────┬───┬────────┬────────┬───────────┬────────────┐\n",
       "│ event_time ┆ event_type ┆ product_id ┆ category_i ┆ … ┆ brand  ┆ price  ┆ user_id   ┆ user_sessi │\n",
       "│ ---        ┆ ---        ┆ ---        ┆ d          ┆   ┆ ---    ┆ ---    ┆ ---       ┆ on         │\n",
       "│ str        ┆ str        ┆ i64        ┆ ---        ┆   ┆ str    ┆ f64    ┆ i64       ┆ ---        │\n",
       "│            ┆            ┆            ┆ i64        ┆   ┆        ┆        ┆           ┆ str        │\n",
       "╞════════════╪════════════╪════════════╪════════════╪═══╪════════╪════════╪═══════════╪════════════╡\n",
       "│ 2019-11-01 ┆ view       ┆ 1003461    ┆ 2053013555 ┆ … ┆ xiaomi ┆ 489.07 ┆ 520088904 ┆ 4d3b30da-a │\n",
       "│ 00:00:00   ┆            ┆            ┆ 631882655  ┆   ┆        ┆        ┆           ┆ 5e4-49df-b │\n",
       "│ UTC        ┆            ┆            ┆            ┆   ┆        ┆        ┆           ┆ 1a8-ba5943 │\n",
       "│            ┆            ┆            ┆            ┆   ┆        ┆        ┆           ┆ f1…        │\n",
       "│ 2019-11-01 ┆ view       ┆ 5000088    ┆ 2053013566 ┆ … ┆ janome ┆ 293.65 ┆ 530496790 ┆ 8e5f4f83-3 │\n",
       "│ 00:00:00   ┆            ┆            ┆ 100866035  ┆   ┆        ┆        ┆           ┆ 66c-4f70-8 │\n",
       "│ UTC        ┆            ┆            ┆            ┆   ┆        ┆        ┆           ┆ 60e-ca7417 │\n",
       "│            ┆            ┆            ┆            ┆   ┆        ┆        ┆           ┆ 41…        │\n",
       "│ 2019-11-01 ┆ view       ┆ 17302664   ┆ 2053013553 ┆ … ┆ creed  ┆ 28.31  ┆ 561587266 ┆ 755422e7-9 │\n",
       "│ 00:00:01   ┆            ┆            ┆ 853497655  ┆   ┆        ┆        ┆           ┆ 040-477b-9 │\n",
       "│ UTC        ┆            ┆            ┆            ┆   ┆        ┆        ┆           ┆ bd2-6a6e8f │\n",
       "│            ┆            ┆            ┆            ┆   ┆        ┆        ┆           ┆ d9…        │\n",
       "│ 2019-11-01 ┆ view       ┆ 3601530    ┆ 2053013563 ┆ … ┆ lg     ┆ 712.87 ┆ 518085591 ┆ 3bfb58cd-7 │\n",
       "│ 00:00:01   ┆            ┆            ┆ 810775923  ┆   ┆        ┆        ┆           ┆ 892-48cc-8 │\n",
       "│ UTC        ┆            ┆            ┆            ┆   ┆        ┆        ┆           ┆ 020-2f17e6 │\n",
       "│            ┆            ┆            ┆            ┆   ┆        ┆        ┆           ┆ de…        │\n",
       "│ 2019-11-01 ┆ view       ┆ 1004775    ┆ 2053013555 ┆ … ┆ xiaomi ┆ 183.27 ┆ 558856683 ┆ 313628f1-6 │\n",
       "│ 00:00:01   ┆            ┆            ┆ 631882655  ┆   ┆        ┆        ┆           ┆ 8b8-460d-8 │\n",
       "│ UTC        ┆            ┆            ┆            ┆   ┆        ┆        ┆           ┆ 4f6-cec7a8 │\n",
       "│            ┆            ┆            ┆            ┆   ┆        ┆        ┆           ┆ 79…        │\n",
       "└────────────┴────────────┴────────────┴────────────┴───┴────────┴────────┴───────────┴────────────┘"
      ]
     },
     "execution_count": 5,
     "metadata": {},
     "output_type": "execute_result"
    }
   ],
   "source": [
    "df.head()"
   ]
  },
  {
   "cell_type": "code",
   "execution_count": 6,
   "id": "5becc6b6",
   "metadata": {},
   "outputs": [
    {
     "name": "stdout",
     "output_type": "stream",
     "text": [
      "shape: (2, 9)\n",
      "┌────────────┬────────────┬────────────┬────────────┬───┬────────┬────────┬───────────┬────────────┐\n",
      "│ event_time ┆ event_type ┆ product_id ┆ category_i ┆ … ┆ brand  ┆ price  ┆ user_id   ┆ user_sessi │\n",
      "│ ---        ┆ ---        ┆ ---        ┆ d          ┆   ┆ ---    ┆ ---    ┆ ---       ┆ on         │\n",
      "│ str        ┆ str        ┆ i64        ┆ ---        ┆   ┆ str    ┆ f64    ┆ i64       ┆ ---        │\n",
      "│            ┆            ┆            ┆ i64        ┆   ┆        ┆        ┆           ┆ str        │\n",
      "╞════════════╪════════════╪════════════╪════════════╪═══╪════════╪════════╪═══════════╪════════════╡\n",
      "│ 2019-11-01 ┆ view       ┆ 1003461    ┆ 2053013555 ┆ … ┆ xiaomi ┆ 489.07 ┆ 520088904 ┆ 4d3b30da-a │\n",
      "│ 00:00:00   ┆            ┆            ┆ 631882655  ┆   ┆        ┆        ┆           ┆ 5e4-49df-b │\n",
      "│ UTC        ┆            ┆            ┆            ┆   ┆        ┆        ┆           ┆ 1a8-ba5943 │\n",
      "│            ┆            ┆            ┆            ┆   ┆        ┆        ┆           ┆ f1…        │\n",
      "│ 2019-11-01 ┆ view       ┆ 5000088    ┆ 2053013566 ┆ … ┆ janome ┆ 293.65 ┆ 530496790 ┆ 8e5f4f83-3 │\n",
      "│ 00:00:00   ┆            ┆            ┆ 100866035  ┆   ┆        ┆        ┆           ┆ 66c-4f70-8 │\n",
      "│ UTC        ┆            ┆            ┆            ┆   ┆        ┆        ┆           ┆ 60e-ca7417 │\n",
      "│            ┆            ┆            ┆            ┆   ┆        ┆        ┆           ┆ 41…        │\n",
      "└────────────┴────────────┴────────────┴────────────┴───┴────────┴────────┴───────────┴────────────┘\n"
     ]
    }
   ],
   "source": [
    "print(df.head(2))"
   ]
  },
  {
   "cell_type": "code",
   "execution_count": 7,
   "id": "1caa7ef4",
   "metadata": {},
   "outputs": [
    {
     "data": {
      "text/html": [
       "<div>\n",
       "<style scoped>\n",
       "    .dataframe tbody tr th:only-of-type {\n",
       "        vertical-align: middle;\n",
       "    }\n",
       "\n",
       "    .dataframe tbody tr th {\n",
       "        vertical-align: top;\n",
       "    }\n",
       "\n",
       "    .dataframe thead th {\n",
       "        text-align: right;\n",
       "    }\n",
       "</style>\n",
       "<table border=\"1\" class=\"dataframe\">\n",
       "  <thead>\n",
       "    <tr style=\"text-align: right;\">\n",
       "      <th></th>\n",
       "      <th>event_time</th>\n",
       "      <th>event_type</th>\n",
       "      <th>product_id</th>\n",
       "      <th>category_id</th>\n",
       "      <th>category_code</th>\n",
       "      <th>brand</th>\n",
       "      <th>price</th>\n",
       "      <th>user_id</th>\n",
       "      <th>user_session</th>\n",
       "    </tr>\n",
       "  </thead>\n",
       "  <tbody>\n",
       "    <tr>\n",
       "      <th>0</th>\n",
       "      <td>2019-11-01 00:00:00 UTC</td>\n",
       "      <td>view</td>\n",
       "      <td>1003461</td>\n",
       "      <td>2053013555631882655</td>\n",
       "      <td>electronics.smartphone</td>\n",
       "      <td>xiaomi</td>\n",
       "      <td>489.07</td>\n",
       "      <td>520088904</td>\n",
       "      <td>4d3b30da-a5e4-49df-b1a8-ba5943f1dd33</td>\n",
       "    </tr>\n",
       "    <tr>\n",
       "      <th>1</th>\n",
       "      <td>2019-11-01 00:00:00 UTC</td>\n",
       "      <td>view</td>\n",
       "      <td>5000088</td>\n",
       "      <td>2053013566100866035</td>\n",
       "      <td>appliances.sewing_machine</td>\n",
       "      <td>janome</td>\n",
       "      <td>293.65</td>\n",
       "      <td>530496790</td>\n",
       "      <td>8e5f4f83-366c-4f70-860e-ca7417414283</td>\n",
       "    </tr>\n",
       "    <tr>\n",
       "      <th>2</th>\n",
       "      <td>2019-11-01 00:00:01 UTC</td>\n",
       "      <td>view</td>\n",
       "      <td>17302664</td>\n",
       "      <td>2053013553853497655</td>\n",
       "      <td>None</td>\n",
       "      <td>creed</td>\n",
       "      <td>28.31</td>\n",
       "      <td>561587266</td>\n",
       "      <td>755422e7-9040-477b-9bd2-6a6e8fd97387</td>\n",
       "    </tr>\n",
       "    <tr>\n",
       "      <th>3</th>\n",
       "      <td>2019-11-01 00:00:01 UTC</td>\n",
       "      <td>view</td>\n",
       "      <td>3601530</td>\n",
       "      <td>2053013563810775923</td>\n",
       "      <td>appliances.kitchen.washer</td>\n",
       "      <td>lg</td>\n",
       "      <td>712.87</td>\n",
       "      <td>518085591</td>\n",
       "      <td>3bfb58cd-7892-48cc-8020-2f17e6de6e7f</td>\n",
       "    </tr>\n",
       "    <tr>\n",
       "      <th>4</th>\n",
       "      <td>2019-11-01 00:00:01 UTC</td>\n",
       "      <td>view</td>\n",
       "      <td>1004775</td>\n",
       "      <td>2053013555631882655</td>\n",
       "      <td>electronics.smartphone</td>\n",
       "      <td>xiaomi</td>\n",
       "      <td>183.27</td>\n",
       "      <td>558856683</td>\n",
       "      <td>313628f1-68b8-460d-84f6-cec7a8796ef2</td>\n",
       "    </tr>\n",
       "  </tbody>\n",
       "</table>\n",
       "</div>"
      ],
      "text/plain": [
       "                event_time event_type  product_id          category_id  \\\n",
       "0  2019-11-01 00:00:00 UTC       view     1003461  2053013555631882655   \n",
       "1  2019-11-01 00:00:00 UTC       view     5000088  2053013566100866035   \n",
       "2  2019-11-01 00:00:01 UTC       view    17302664  2053013553853497655   \n",
       "3  2019-11-01 00:00:01 UTC       view     3601530  2053013563810775923   \n",
       "4  2019-11-01 00:00:01 UTC       view     1004775  2053013555631882655   \n",
       "\n",
       "               category_code   brand   price    user_id  \\\n",
       "0     electronics.smartphone  xiaomi  489.07  520088904   \n",
       "1  appliances.sewing_machine  janome  293.65  530496790   \n",
       "2                       None   creed   28.31  561587266   \n",
       "3  appliances.kitchen.washer      lg  712.87  518085591   \n",
       "4     electronics.smartphone  xiaomi  183.27  558856683   \n",
       "\n",
       "                           user_session  \n",
       "0  4d3b30da-a5e4-49df-b1a8-ba5943f1dd33  \n",
       "1  8e5f4f83-366c-4f70-860e-ca7417414283  \n",
       "2  755422e7-9040-477b-9bd2-6a6e8fd97387  \n",
       "3  3bfb58cd-7892-48cc-8020-2f17e6de6e7f  \n",
       "4  313628f1-68b8-460d-84f6-cec7a8796ef2  "
      ]
     },
     "execution_count": 7,
     "metadata": {},
     "output_type": "execute_result"
    }
   ],
   "source": [
    "df.head().to_pandas()"
   ]
  },
  {
   "cell_type": "code",
   "execution_count": 8,
   "id": "dc0b1e6b",
   "metadata": {},
   "outputs": [
    {
     "data": {
      "text/plain": [
       "[String, String, Int64, Int64, String, String, Float64, Int64, String]"
      ]
     },
     "execution_count": 8,
     "metadata": {},
     "output_type": "execute_result"
    }
   ],
   "source": [
    "# UTF8 -> string\n",
    "# Int, Float as usual\n",
    "df.dtypes"
   ]
  },
  {
   "cell_type": "markdown",
   "id": "0eead76b",
   "metadata": {},
   "source": [
    "# Selecting and Filtering Data \n",
    "\n",
    "Here I'll do operations that are similar to the SELECT and WHERE commands in SQL."
   ]
  },
  {
   "cell_type": "markdown",
   "id": "8b326a67",
   "metadata": {},
   "source": [
    "## 1. Indexing with [ works but is an \"anti-pattern\" in polars\n",
    "\n",
    "There is no `df.loc` or `df.iloc` as polars doesn't have indexes"
   ]
  },
  {
   "cell_type": "code",
   "execution_count": 9,
   "id": "684efbcc",
   "metadata": {},
   "outputs": [
    {
     "data": {
      "text/html": [
       "<div><style>\n",
       ".dataframe > thead > tr,\n",
       ".dataframe > tbody > tr {\n",
       "  text-align: right;\n",
       "  white-space: pre-wrap;\n",
       "}\n",
       "</style>\n",
       "<small>shape: (1, 9)</small><table border=\"1\" class=\"dataframe\"><thead><tr><th>event_time</th><th>event_type</th><th>product_id</th><th>category_id</th><th>category_code</th><th>brand</th><th>price</th><th>user_id</th><th>user_session</th></tr><tr><td>str</td><td>str</td><td>i64</td><td>i64</td><td>str</td><td>str</td><td>f64</td><td>i64</td><td>str</td></tr></thead><tbody><tr><td>&quot;2019-11-01 00:…</td><td>&quot;view&quot;</td><td>1003461</td><td>2053013555631882655</td><td>&quot;electronics.sm…</td><td>&quot;xiaomi&quot;</td><td>489.07</td><td>520088904</td><td>&quot;4d3b30da-a5e4-…</td></tr></tbody></table></div>"
      ],
      "text/plain": [
       "shape: (1, 9)\n",
       "┌────────────┬────────────┬────────────┬────────────┬───┬────────┬────────┬───────────┬────────────┐\n",
       "│ event_time ┆ event_type ┆ product_id ┆ category_i ┆ … ┆ brand  ┆ price  ┆ user_id   ┆ user_sessi │\n",
       "│ ---        ┆ ---        ┆ ---        ┆ d          ┆   ┆ ---    ┆ ---    ┆ ---       ┆ on         │\n",
       "│ str        ┆ str        ┆ i64        ┆ ---        ┆   ┆ str    ┆ f64    ┆ i64       ┆ ---        │\n",
       "│            ┆            ┆            ┆ i64        ┆   ┆        ┆        ┆           ┆ str        │\n",
       "╞════════════╪════════════╪════════════╪════════════╪═══╪════════╪════════╪═══════════╪════════════╡\n",
       "│ 2019-11-01 ┆ view       ┆ 1003461    ┆ 2053013555 ┆ … ┆ xiaomi ┆ 489.07 ┆ 520088904 ┆ 4d3b30da-a │\n",
       "│ 00:00:00   ┆            ┆            ┆ 631882655  ┆   ┆        ┆        ┆           ┆ 5e4-49df-b │\n",
       "│ UTC        ┆            ┆            ┆            ┆   ┆        ┆        ┆           ┆ 1a8-ba5943 │\n",
       "│            ┆            ┆            ┆            ┆   ┆        ┆        ┆           ┆ f1…        │\n",
       "└────────────┴────────────┴────────────┴────────────┴───┴────────┴────────┴───────────┴────────────┘"
      ]
     },
     "execution_count": 9,
     "metadata": {},
     "output_type": "execute_result"
    }
   ],
   "source": [
    "df[0,:]"
   ]
  },
  {
   "cell_type": "code",
   "execution_count": 10,
   "id": "74153055",
   "metadata": {},
   "outputs": [
    {
     "data": {
      "text/html": [
       "<div><style>\n",
       ".dataframe > thead > tr,\n",
       ".dataframe > tbody > tr {\n",
       "  text-align: right;\n",
       "  white-space: pre-wrap;\n",
       "}\n",
       "</style>\n",
       "<small>shape: (5, 2)</small><table border=\"1\" class=\"dataframe\"><thead><tr><th>event_time</th><th>price</th></tr><tr><td>str</td><td>f64</td></tr></thead><tbody><tr><td>&quot;2019-11-01 00:…</td><td>489.07</td></tr><tr><td>&quot;2019-11-01 00:…</td><td>293.65</td></tr><tr><td>&quot;2019-11-01 00:…</td><td>28.31</td></tr><tr><td>&quot;2019-11-01 00:…</td><td>712.87</td></tr><tr><td>&quot;2019-11-01 00:…</td><td>183.27</td></tr></tbody></table></div>"
      ],
      "text/plain": [
       "shape: (5, 2)\n",
       "┌─────────────────────────┬────────┐\n",
       "│ event_time              ┆ price  │\n",
       "│ ---                     ┆ ---    │\n",
       "│ str                     ┆ f64    │\n",
       "╞═════════════════════════╪════════╡\n",
       "│ 2019-11-01 00:00:00 UTC ┆ 489.07 │\n",
       "│ 2019-11-01 00:00:00 UTC ┆ 293.65 │\n",
       "│ 2019-11-01 00:00:01 UTC ┆ 28.31  │\n",
       "│ 2019-11-01 00:00:01 UTC ┆ 712.87 │\n",
       "│ 2019-11-01 00:00:01 UTC ┆ 183.27 │\n",
       "└─────────────────────────┴────────┘"
      ]
     },
     "execution_count": 10,
     "metadata": {},
     "output_type": "execute_result"
    }
   ],
   "source": [
    "df[:,['event_time', \"price\"]].head()"
   ]
  },
  {
   "cell_type": "code",
   "execution_count": 11,
   "id": "b054b7a3",
   "metadata": {},
   "outputs": [
    {
     "data": {
      "text/html": [
       "<div><style>\n",
       ".dataframe > thead > tr,\n",
       ".dataframe > tbody > tr {\n",
       "  text-align: right;\n",
       "  white-space: pre-wrap;\n",
       "}\n",
       "</style>\n",
       "<small>shape: (0, 9)</small><table border=\"1\" class=\"dataframe\"><thead><tr><th>event_time</th><th>event_type</th><th>product_id</th><th>category_id</th><th>category_code</th><th>brand</th><th>price</th><th>user_id</th><th>user_session</th></tr><tr><td>str</td><td>str</td><td>i64</td><td>i64</td><td>str</td><td>str</td><td>f64</td><td>i64</td><td>str</td></tr></thead><tbody></tbody></table></div>"
      ],
      "text/plain": [
       "shape: (0, 9)\n",
       "┌────────────┬────────────┬────────────┬─────────────┬───┬───────┬───────┬─────────┬──────────────┐\n",
       "│ event_time ┆ event_type ┆ product_id ┆ category_id ┆ … ┆ brand ┆ price ┆ user_id ┆ user_session │\n",
       "│ ---        ┆ ---        ┆ ---        ┆ ---         ┆   ┆ ---   ┆ ---   ┆ ---     ┆ ---          │\n",
       "│ str        ┆ str        ┆ i64        ┆ i64         ┆   ┆ str   ┆ f64   ┆ i64     ┆ str          │\n",
       "╞════════════╪════════════╪════════════╪═════════════╪═══╪═══════╪═══════╪═════════╪══════════════╡\n",
       "└────────────┴────────────┴────────────┴─────────────┴───┴───────┴───────┴─────────┴──────────────┘"
      ]
     },
     "execution_count": 11,
     "metadata": {},
     "output_type": "execute_result"
    }
   ],
   "source": [
    "# Works but looks awful\n",
    "# df.filter(df[\"price\"] > 100)\n",
    "\n",
    "# Better to use this\n",
    "df.filter(pl.col(\"price\") > 1000).head()"
   ]
  },
  {
   "cell_type": "markdown",
   "id": "973497f0",
   "metadata": {},
   "source": [
    "## 2. Select data with idiomatic polars"
   ]
  },
  {
   "cell_type": "code",
   "execution_count": 12,
   "id": "f5f4f969",
   "metadata": {},
   "outputs": [
    {
     "data": {
      "text/html": [
       "<div>\n",
       "<style scoped>\n",
       "    .dataframe tbody tr th:only-of-type {\n",
       "        vertical-align: middle;\n",
       "    }\n",
       "\n",
       "    .dataframe tbody tr th {\n",
       "        vertical-align: top;\n",
       "    }\n",
       "\n",
       "    .dataframe thead th {\n",
       "        text-align: right;\n",
       "    }\n",
       "</style>\n",
       "<table border=\"1\" class=\"dataframe\">\n",
       "  <thead>\n",
       "    <tr style=\"text-align: right;\">\n",
       "      <th></th>\n",
       "      <th>event_time</th>\n",
       "      <th>event_type</th>\n",
       "      <th>product_id</th>\n",
       "      <th>category_id</th>\n",
       "      <th>category_code</th>\n",
       "      <th>brand</th>\n",
       "      <th>price</th>\n",
       "      <th>user_id</th>\n",
       "      <th>user_session</th>\n",
       "    </tr>\n",
       "  </thead>\n",
       "  <tbody>\n",
       "    <tr>\n",
       "      <th>0</th>\n",
       "      <td>2019-11-01 00:00:02 UTC</td>\n",
       "      <td>view</td>\n",
       "      <td>1004258</td>\n",
       "      <td>2053013555631882655</td>\n",
       "      <td>electronics.smartphone</td>\n",
       "      <td>apple</td>\n",
       "      <td>732.07</td>\n",
       "      <td>532647354</td>\n",
       "      <td>d2d3d2c6-631d-489e-9fb5-06f340b85be0</td>\n",
       "    </tr>\n",
       "    <tr>\n",
       "      <th>1</th>\n",
       "      <td>2019-11-01 00:00:08 UTC</td>\n",
       "      <td>view</td>\n",
       "      <td>12719154</td>\n",
       "      <td>2053013553559896355</td>\n",
       "      <td>None</td>\n",
       "      <td>yokohama</td>\n",
       "      <td>88.81</td>\n",
       "      <td>512376444</td>\n",
       "      <td>f7e8ffaa-5103-47f3-90ab-c30f313770c0</td>\n",
       "    </tr>\n",
       "    <tr>\n",
       "      <th>2</th>\n",
       "      <td>2019-11-01 00:00:07 UTC</td>\n",
       "      <td>view</td>\n",
       "      <td>5100503</td>\n",
       "      <td>2053013553375346967</td>\n",
       "      <td>None</td>\n",
       "      <td>xiaomi</td>\n",
       "      <td>22.68</td>\n",
       "      <td>520037415</td>\n",
       "      <td>f54fa96a-f3f2-43ac-99a4-fcb2a449dd36</td>\n",
       "    </tr>\n",
       "    <tr>\n",
       "      <th>3</th>\n",
       "      <td>2019-11-01 00:00:05 UTC</td>\n",
       "      <td>view</td>\n",
       "      <td>4600658</td>\n",
       "      <td>2053013563944993659</td>\n",
       "      <td>appliances.kitchen.dishwasher</td>\n",
       "      <td>samsung</td>\n",
       "      <td>411.83</td>\n",
       "      <td>526595547</td>\n",
       "      <td>aab33a9a-29c3-4d50-84c1-8a2bc9256104</td>\n",
       "    </tr>\n",
       "    <tr>\n",
       "      <th>4</th>\n",
       "      <td>2019-11-01 00:00:10 UTC</td>\n",
       "      <td>view</td>\n",
       "      <td>1005115</td>\n",
       "      <td>2053013555631882655</td>\n",
       "      <td>electronics.smartphone</td>\n",
       "      <td>apple</td>\n",
       "      <td>949.47</td>\n",
       "      <td>562079864</td>\n",
       "      <td>0fe64462-83eb-4131-ab00-8e764dd995c3</td>\n",
       "    </tr>\n",
       "  </tbody>\n",
       "</table>\n",
       "</div>"
      ],
      "text/plain": [
       "                event_time event_type  product_id          category_id  \\\n",
       "0  2019-11-01 00:00:02 UTC       view     1004258  2053013555631882655   \n",
       "1  2019-11-01 00:00:08 UTC       view    12719154  2053013553559896355   \n",
       "2  2019-11-01 00:00:07 UTC       view     5100503  2053013553375346967   \n",
       "3  2019-11-01 00:00:05 UTC       view     4600658  2053013563944993659   \n",
       "4  2019-11-01 00:00:10 UTC       view     1005115  2053013555631882655   \n",
       "\n",
       "                   category_code     brand   price    user_id  \\\n",
       "0         electronics.smartphone     apple  732.07  532647354   \n",
       "1                           None  yokohama   88.81  512376444   \n",
       "2                           None    xiaomi   22.68  520037415   \n",
       "3  appliances.kitchen.dishwasher   samsung  411.83  526595547   \n",
       "4         electronics.smartphone     apple  949.47  562079864   \n",
       "\n",
       "                           user_session  \n",
       "0  d2d3d2c6-631d-489e-9fb5-06f340b85be0  \n",
       "1  f7e8ffaa-5103-47f3-90ab-c30f313770c0  \n",
       "2  f54fa96a-f3f2-43ac-99a4-fcb2a449dd36  \n",
       "3  aab33a9a-29c3-4d50-84c1-8a2bc9256104  \n",
       "4  0fe64462-83eb-4131-ab00-8e764dd995c3  "
      ]
     },
     "execution_count": 12,
     "metadata": {},
     "output_type": "execute_result"
    }
   ],
   "source": [
    "df.sample(5).to_pandas()"
   ]
  },
  {
   "cell_type": "code",
   "execution_count": 13,
   "id": "c8e8c2b7",
   "metadata": {},
   "outputs": [
    {
     "data": {
      "text/html": [
       "<div><style>\n",
       ".dataframe > thead > tr,\n",
       ".dataframe > tbody > tr {\n",
       "  text-align: right;\n",
       "  white-space: pre-wrap;\n",
       "}\n",
       "</style>\n",
       "<small>shape: (5, 2)</small><table border=\"1\" class=\"dataframe\"><thead><tr><th>brand</th><th>price</th></tr><tr><td>str</td><td>f64</td></tr></thead><tbody><tr><td>&quot;xiaomi&quot;</td><td>489.07</td></tr><tr><td>&quot;janome&quot;</td><td>293.65</td></tr><tr><td>&quot;creed&quot;</td><td>28.31</td></tr><tr><td>&quot;lg&quot;</td><td>712.87</td></tr><tr><td>&quot;xiaomi&quot;</td><td>183.27</td></tr></tbody></table></div>"
      ],
      "text/plain": [
       "shape: (5, 2)\n",
       "┌────────┬────────┐\n",
       "│ brand  ┆ price  │\n",
       "│ ---    ┆ ---    │\n",
       "│ str    ┆ f64    │\n",
       "╞════════╪════════╡\n",
       "│ xiaomi ┆ 489.07 │\n",
       "│ janome ┆ 293.65 │\n",
       "│ creed  ┆ 28.31  │\n",
       "│ lg     ┆ 712.87 │\n",
       "│ xiaomi ┆ 183.27 │\n",
       "└────────┴────────┘"
      ]
     },
     "execution_count": 13,
     "metadata": {},
     "output_type": "execute_result"
    }
   ],
   "source": [
    "# SQL SELECT type of operation. Just selecting columns\n",
    "df.select(['brand', 'price']).head()"
   ]
  },
  {
   "cell_type": "code",
   "execution_count": 14,
   "id": "b9debab3",
   "metadata": {},
   "outputs": [
    {
     "data": {
      "text/html": [
       "<div><style>\n",
       ".dataframe > thead > tr,\n",
       ".dataframe > tbody > tr {\n",
       "  text-align: right;\n",
       "  white-space: pre-wrap;\n",
       "}\n",
       "</style>\n",
       "<small>shape: (5, 10)</small><table border=\"1\" class=\"dataframe\"><thead><tr><th>event_time</th><th>event_type</th><th>product_id</th><th>category_id</th><th>category_code</th><th>brand</th><th>price</th><th>user_id</th><th>user_session</th><th>price_x_100</th></tr><tr><td>str</td><td>str</td><td>i64</td><td>i64</td><td>str</td><td>str</td><td>f64</td><td>i64</td><td>str</td><td>f64</td></tr></thead><tbody><tr><td>&quot;2019-11-01 00:…</td><td>&quot;view&quot;</td><td>1003461</td><td>2053013555631882655</td><td>&quot;electronics.sm…</td><td>&quot;xiaomi&quot;</td><td>489.07</td><td>520088904</td><td>&quot;4d3b30da-a5e4-…</td><td>48907.0</td></tr><tr><td>&quot;2019-11-01 00:…</td><td>&quot;view&quot;</td><td>5000088</td><td>2053013566100866035</td><td>&quot;appliances.sew…</td><td>&quot;janome&quot;</td><td>293.65</td><td>530496790</td><td>&quot;8e5f4f83-366c-…</td><td>29365.0</td></tr><tr><td>&quot;2019-11-01 00:…</td><td>&quot;view&quot;</td><td>17302664</td><td>2053013553853497655</td><td>null</td><td>&quot;creed&quot;</td><td>28.31</td><td>561587266</td><td>&quot;755422e7-9040-…</td><td>2831.0</td></tr><tr><td>&quot;2019-11-01 00:…</td><td>&quot;view&quot;</td><td>3601530</td><td>2053013563810775923</td><td>&quot;appliances.kit…</td><td>&quot;lg&quot;</td><td>712.87</td><td>518085591</td><td>&quot;3bfb58cd-7892-…</td><td>71287.0</td></tr><tr><td>&quot;2019-11-01 00:…</td><td>&quot;view&quot;</td><td>1004775</td><td>2053013555631882655</td><td>&quot;electronics.sm…</td><td>&quot;xiaomi&quot;</td><td>183.27</td><td>558856683</td><td>&quot;313628f1-68b8-…</td><td>18327.0</td></tr></tbody></table></div>"
      ],
      "text/plain": [
       "shape: (5, 10)\n",
       "┌────────────┬────────────┬───────────┬───────────┬───┬────────┬───────────┬───────────┬───────────┐\n",
       "│ event_time ┆ event_type ┆ product_i ┆ category_ ┆ … ┆ price  ┆ user_id   ┆ user_sess ┆ price_x_1 │\n",
       "│ ---        ┆ ---        ┆ d         ┆ id        ┆   ┆ ---    ┆ ---       ┆ ion       ┆ 00        │\n",
       "│ str        ┆ str        ┆ ---       ┆ ---       ┆   ┆ f64    ┆ i64       ┆ ---       ┆ ---       │\n",
       "│            ┆            ┆ i64       ┆ i64       ┆   ┆        ┆           ┆ str       ┆ f64       │\n",
       "╞════════════╪════════════╪═══════════╪═══════════╪═══╪════════╪═══════════╪═══════════╪═══════════╡\n",
       "│ 2019-11-01 ┆ view       ┆ 1003461   ┆ 205301355 ┆ … ┆ 489.07 ┆ 520088904 ┆ 4d3b30da- ┆ 48907.0   │\n",
       "│ 00:00:00   ┆            ┆           ┆ 563188265 ┆   ┆        ┆           ┆ a5e4-49df ┆           │\n",
       "│ UTC        ┆            ┆           ┆ 5         ┆   ┆        ┆           ┆ -b1a8-ba5 ┆           │\n",
       "│            ┆            ┆           ┆           ┆   ┆        ┆           ┆ 943f1…    ┆           │\n",
       "│ 2019-11-01 ┆ view       ┆ 5000088   ┆ 205301356 ┆ … ┆ 293.65 ┆ 530496790 ┆ 8e5f4f83- ┆ 29365.0   │\n",
       "│ 00:00:00   ┆            ┆           ┆ 610086603 ┆   ┆        ┆           ┆ 366c-4f70 ┆           │\n",
       "│ UTC        ┆            ┆           ┆ 5         ┆   ┆        ┆           ┆ -860e-ca7 ┆           │\n",
       "│            ┆            ┆           ┆           ┆   ┆        ┆           ┆ 41741…    ┆           │\n",
       "│ 2019-11-01 ┆ view       ┆ 17302664  ┆ 205301355 ┆ … ┆ 28.31  ┆ 561587266 ┆ 755422e7- ┆ 2831.0    │\n",
       "│ 00:00:01   ┆            ┆           ┆ 385349765 ┆   ┆        ┆           ┆ 9040-477b ┆           │\n",
       "│ UTC        ┆            ┆           ┆ 5         ┆   ┆        ┆           ┆ -9bd2-6a6 ┆           │\n",
       "│            ┆            ┆           ┆           ┆   ┆        ┆           ┆ e8fd9…    ┆           │\n",
       "│ 2019-11-01 ┆ view       ┆ 3601530   ┆ 205301356 ┆ … ┆ 712.87 ┆ 518085591 ┆ 3bfb58cd- ┆ 71287.0   │\n",
       "│ 00:00:01   ┆            ┆           ┆ 381077592 ┆   ┆        ┆           ┆ 7892-48cc ┆           │\n",
       "│ UTC        ┆            ┆           ┆ 3         ┆   ┆        ┆           ┆ -8020-2f1 ┆           │\n",
       "│            ┆            ┆           ┆           ┆   ┆        ┆           ┆ 7e6de…    ┆           │\n",
       "│ 2019-11-01 ┆ view       ┆ 1004775   ┆ 205301355 ┆ … ┆ 183.27 ┆ 558856683 ┆ 313628f1- ┆ 18327.0   │\n",
       "│ 00:00:01   ┆            ┆           ┆ 563188265 ┆   ┆        ┆           ┆ 68b8-460d ┆           │\n",
       "│ UTC        ┆            ┆           ┆ 5         ┆   ┆        ┆           ┆ -84f6-cec ┆           │\n",
       "│            ┆            ┆           ┆           ┆   ┆        ┆           ┆ 7a879…    ┆           │\n",
       "└────────────┴────────────┴───────────┴───────────┴───┴────────┴───────────┴───────────┴───────────┘"
      ]
     },
     "execution_count": 14,
     "metadata": {},
     "output_type": "execute_result"
    }
   ],
   "source": [
    "# Keeps all the original columns and adds a new one\n",
    "# Similar to a SELECT * in SQL\n",
    "df.with_columns([\n",
    "    (pl.col(\"price\") * 100).alias(\"price_x_100\")\n",
    "]).head()"
   ]
  },
  {
   "cell_type": "code",
   "execution_count": 15,
   "id": "b56da87d",
   "metadata": {},
   "outputs": [
    {
     "data": {
      "text/html": [
       "<div><style>\n",
       ".dataframe > thead > tr,\n",
       ".dataframe > tbody > tr {\n",
       "  text-align: right;\n",
       "  white-space: pre-wrap;\n",
       "}\n",
       "</style>\n",
       "<small>shape: (0, 9)</small><table border=\"1\" class=\"dataframe\"><thead><tr><th>event_time</th><th>event_type</th><th>product_id</th><th>category_id</th><th>category_code</th><th>brand</th><th>price</th><th>user_id</th><th>user_session</th></tr><tr><td>str</td><td>str</td><td>i64</td><td>i64</td><td>str</td><td>str</td><td>f64</td><td>i64</td><td>str</td></tr></thead><tbody></tbody></table></div>"
      ],
      "text/plain": [
       "shape: (0, 9)\n",
       "┌────────────┬────────────┬────────────┬─────────────┬───┬───────┬───────┬─────────┬──────────────┐\n",
       "│ event_time ┆ event_type ┆ product_id ┆ category_id ┆ … ┆ brand ┆ price ┆ user_id ┆ user_session │\n",
       "│ ---        ┆ ---        ┆ ---        ┆ ---         ┆   ┆ ---   ┆ ---   ┆ ---     ┆ ---          │\n",
       "│ str        ┆ str        ┆ i64        ┆ i64         ┆   ┆ str   ┆ f64   ┆ i64     ┆ str          │\n",
       "╞════════════╪════════════╪════════════╪═════════════╪═══╪═══════╪═══════╪═════════╪══════════════╡\n",
       "└────────────┴────────────┴────────────┴─────────────┴───┴───────┴───────┴─────────┴──────────────┘"
      ]
     },
     "execution_count": 15,
     "metadata": {},
     "output_type": "execute_result"
    }
   ],
   "source": [
    "df.filter(pl.col(\"price\") > 1000).head()"
   ]
  },
  {
   "cell_type": "code",
   "execution_count": 18,
   "id": "c42d4df6",
   "metadata": {},
   "outputs": [
    {
     "data": {
      "text/html": [
       "<div>\n",
       "<style scoped>\n",
       "    .dataframe tbody tr th:only-of-type {\n",
       "        vertical-align: middle;\n",
       "    }\n",
       "\n",
       "    .dataframe tbody tr th {\n",
       "        vertical-align: top;\n",
       "    }\n",
       "\n",
       "    .dataframe thead th {\n",
       "        text-align: right;\n",
       "    }\n",
       "\n",
       "    .dataframe td {\n",
       "        white-space: pre;\n",
       "    }\n",
       "\n",
       "    .dataframe td {\n",
       "        padding-top: 0;\n",
       "    }\n",
       "\n",
       "    .dataframe td {\n",
       "        padding-bottom: 0;\n",
       "    }\n",
       "\n",
       "    .dataframe td {\n",
       "        line-height: 95%;\n",
       "    }\n",
       "</style>\n",
       "<table border=\"1\" class=\"dataframe\">\n",
       "<small>shape: (5, 9)</small>\n",
       "<thead>\n",
       "<tr>\n",
       "<th>\n",
       "event_time\n",
       "</th>\n",
       "<th>\n",
       "event_type\n",
       "</th>\n",
       "<th>\n",
       "product_id\n",
       "</th>\n",
       "<th>\n",
       "category_id\n",
       "</th>\n",
       "<th>\n",
       "category_code\n",
       "</th>\n",
       "<th>\n",
       "brand\n",
       "</th>\n",
       "<th>\n",
       "price\n",
       "</th>\n",
       "<th>\n",
       "user_id\n",
       "</th>\n",
       "<th>\n",
       "user_session\n",
       "</th>\n",
       "</tr>\n",
       "<tr>\n",
       "<td>\n",
       "str\n",
       "</td>\n",
       "<td>\n",
       "str\n",
       "</td>\n",
       "<td>\n",
       "i64\n",
       "</td>\n",
       "<td>\n",
       "i64\n",
       "</td>\n",
       "<td>\n",
       "str\n",
       "</td>\n",
       "<td>\n",
       "str\n",
       "</td>\n",
       "<td>\n",
       "f64\n",
       "</td>\n",
       "<td>\n",
       "i64\n",
       "</td>\n",
       "<td>\n",
       "str\n",
       "</td>\n",
       "</tr>\n",
       "</thead>\n",
       "<tbody>\n",
       "<tr>\n",
       "<td>\n",
       "&quot;2019-11-01 00:...\n",
       "</td>\n",
       "<td>\n",
       "&quot;view&quot;\n",
       "</td>\n",
       "<td>\n",
       "1004258\n",
       "</td>\n",
       "<td>\n",
       "2053013555631882655\n",
       "</td>\n",
       "<td>\n",
       "&quot;electronics.sm...\n",
       "</td>\n",
       "<td>\n",
       "&quot;apple&quot;\n",
       "</td>\n",
       "<td>\n",
       "732.07\n",
       "</td>\n",
       "<td>\n",
       "532647354\n",
       "</td>\n",
       "<td>\n",
       "&quot;d2d3d2c6-631d-...\n",
       "</td>\n",
       "</tr>\n",
       "<tr>\n",
       "<td>\n",
       "&quot;2019-11-01 00:...\n",
       "</td>\n",
       "<td>\n",
       "&quot;view&quot;\n",
       "</td>\n",
       "<td>\n",
       "4600658\n",
       "</td>\n",
       "<td>\n",
       "2053013563944993659\n",
       "</td>\n",
       "<td>\n",
       "&quot;appliances.kit...\n",
       "</td>\n",
       "<td>\n",
       "&quot;samsung&quot;\n",
       "</td>\n",
       "<td>\n",
       "411.83\n",
       "</td>\n",
       "<td>\n",
       "526595547\n",
       "</td>\n",
       "<td>\n",
       "&quot;aab33a9a-29c3-...\n",
       "</td>\n",
       "</tr>\n",
       "<tr>\n",
       "<td>\n",
       "&quot;2019-11-01 00:...\n",
       "</td>\n",
       "<td>\n",
       "&quot;view&quot;\n",
       "</td>\n",
       "<td>\n",
       "1005115\n",
       "</td>\n",
       "<td>\n",
       "2053013555631882655\n",
       "</td>\n",
       "<td>\n",
       "&quot;electronics.sm...\n",
       "</td>\n",
       "<td>\n",
       "&quot;apple&quot;\n",
       "</td>\n",
       "<td>\n",
       "949.47\n",
       "</td>\n",
       "<td>\n",
       "562079864\n",
       "</td>\n",
       "<td>\n",
       "&quot;0fe64462-83eb-...\n",
       "</td>\n",
       "</tr>\n",
       "<tr>\n",
       "<td>\n",
       "&quot;2019-11-01 00:...\n",
       "</td>\n",
       "<td>\n",
       "&quot;view&quot;\n",
       "</td>\n",
       "<td>\n",
       "1002544\n",
       "</td>\n",
       "<td>\n",
       "2053013555631882655\n",
       "</td>\n",
       "<td>\n",
       "&quot;electronics.sm...\n",
       "</td>\n",
       "<td>\n",
       "&quot;apple&quot;\n",
       "</td>\n",
       "<td>\n",
       "458.28\n",
       "</td>\n",
       "<td>\n",
       "549256216\n",
       "</td>\n",
       "<td>\n",
       "&quot;dcbdc6e4-cd49-...\n",
       "</td>\n",
       "</tr>\n",
       "<tr>\n",
       "<td>\n",
       "&quot;2019-11-01 00:...\n",
       "</td>\n",
       "<td>\n",
       "&quot;cart&quot;\n",
       "</td>\n",
       "<td>\n",
       "1005014\n",
       "</td>\n",
       "<td>\n",
       "2053013555631882655\n",
       "</td>\n",
       "<td>\n",
       "&quot;electronics.sm...\n",
       "</td>\n",
       "<td>\n",
       "&quot;samsung&quot;\n",
       "</td>\n",
       "<td>\n",
       "503.09\n",
       "</td>\n",
       "<td>\n",
       "533326659\n",
       "</td>\n",
       "<td>\n",
       "&quot;6b928be2-2bce-...\n",
       "</td>\n",
       "</tr>\n",
       "</tbody>\n",
       "</table>\n",
       "</div>"
      ],
      "text/plain": [
       "shape: (5, 9)\n",
       "┌──────────┬──────────┬──────────────┬───────────┬─────┬─────────┬────────┬───────────┬────────────┐\n",
       "│ event_ti ┆ event_ty ┆ product_id   ┆ category_ ┆ ... ┆ brand   ┆ price  ┆ user_id   ┆ user_sessi │\n",
       "│ me       ┆ pe       ┆ ---          ┆ id        ┆     ┆ ---     ┆ ---    ┆ ---       ┆ on         │\n",
       "│ ---      ┆ ---      ┆ i64          ┆ ---       ┆     ┆ str     ┆ f64    ┆ i64       ┆ ---        │\n",
       "│ str      ┆ str      ┆              ┆ i64       ┆     ┆         ┆        ┆           ┆ str        │\n",
       "╞══════════╪══════════╪══════════════╪═══════════╪═════╪═════════╪════════╪═══════════╪════════════╡\n",
       "│ 2019-11- ┆ view     ┆ 1004258      ┆ 205301355 ┆ ... ┆ apple   ┆ 732.07 ┆ 532647354 ┆ d2d3d2c6-6 │\n",
       "│ 01       ┆          ┆              ┆ 563188265 ┆     ┆         ┆        ┆           ┆ 31d-489e-9 │\n",
       "│ 00:00:02 ┆          ┆              ┆ 5         ┆     ┆         ┆        ┆           ┆ fb5-06f340 │\n",
       "│ UTC      ┆          ┆              ┆           ┆     ┆         ┆        ┆           ┆ b8...      │\n",
       "│ 2019-11- ┆ view     ┆ 4600658      ┆ 205301356 ┆ ... ┆ samsung ┆ 411.83 ┆ 526595547 ┆ aab33a9a-2 │\n",
       "│ 01       ┆          ┆              ┆ 394499365 ┆     ┆         ┆        ┆           ┆ 9c3-4d50-8 │\n",
       "│ 00:00:05 ┆          ┆              ┆ 9         ┆     ┆         ┆        ┆           ┆ 4c1-8a2bc9 │\n",
       "│ UTC      ┆          ┆              ┆           ┆     ┆         ┆        ┆           ┆ 25...      │\n",
       "│ 2019-11- ┆ view     ┆ 1005115      ┆ 205301355 ┆ ... ┆ apple   ┆ 949.47 ┆ 562079864 ┆ 0fe64462-8 │\n",
       "│ 01       ┆          ┆              ┆ 563188265 ┆     ┆         ┆        ┆           ┆ 3eb-4131-a │\n",
       "│ 00:00:10 ┆          ┆              ┆ 5         ┆     ┆         ┆        ┆           ┆ b00-8e764d │\n",
       "│ UTC      ┆          ┆              ┆           ┆     ┆         ┆        ┆           ┆ d9...      │\n",
       "│ 2019-11- ┆ view     ┆ 1002544      ┆ 205301355 ┆ ... ┆ apple   ┆ 458.28 ┆ 549256216 ┆ dcbdc6e4-c │\n",
       "│ 01       ┆          ┆              ┆ 563188265 ┆     ┆         ┆        ┆           ┆ d49-4ee8-9 │\n",
       "│ 00:00:14 ┆          ┆              ┆ 5         ┆     ┆         ┆        ┆           ┆ 5c5-e85f3c │\n",
       "│ UTC      ┆          ┆              ┆           ┆     ┆         ┆        ┆           ┆ 61...      │\n",
       "│ 2019-11- ┆ cart     ┆ 1005014      ┆ 205301355 ┆ ... ┆ samsung ┆ 503.09 ┆ 533326659 ┆ 6b928be2-2 │\n",
       "│ 01       ┆          ┆              ┆ 563188265 ┆     ┆         ┆        ┆           ┆ bce-4640-8 │\n",
       "│ 00:00:14 ┆          ┆              ┆ 5         ┆     ┆         ┆        ┆           ┆ 296-0efdf2 │\n",
       "│ UTC      ┆          ┆              ┆           ┆     ┆         ┆        ┆           ┆ fd...      │\n",
       "└──────────┴──────────┴──────────────┴───────────┴─────┴─────────┴────────┴───────────┴────────────┘"
      ]
     },
     "execution_count": 18,
     "metadata": {},
     "output_type": "execute_result"
    }
   ],
   "source": [
    "df.filter(\n",
    "    pl.col('brand').is_in(['apple', 'samsung', 'motorola'])\n",
    ").head()"
   ]
  },
  {
   "cell_type": "markdown",
   "id": "fad657f7",
   "metadata": {},
   "source": [
    "# Computation on the select context"
   ]
  },
  {
   "cell_type": "code",
   "execution_count": 16,
   "id": "09eb029f",
   "metadata": {},
   "outputs": [
    {
     "data": {
      "text/html": [
       "<div><style>\n",
       ".dataframe > thead > tr,\n",
       ".dataframe > tbody > tr {\n",
       "  text-align: right;\n",
       "  white-space: pre-wrap;\n",
       "}\n",
       "</style>\n",
       "<small>shape: (1, 1)</small><table border=\"1\" class=\"dataframe\"><thead><tr><th>product_id</th></tr><tr><td>u32</td></tr></thead><tbody><tr><td>28</td></tr></tbody></table></div>"
      ],
      "text/plain": [
       "shape: (1, 1)\n",
       "┌────────────┐\n",
       "│ product_id │\n",
       "│ ---        │\n",
       "│ u32        │\n",
       "╞════════════╡\n",
       "│ 28         │\n",
       "└────────────┘"
      ]
     },
     "execution_count": 16,
     "metadata": {},
     "output_type": "execute_result"
    }
   ],
   "source": [
    "df.select([\n",
    "    pl.col(\"product_id\").n_unique()\n",
    "])"
   ]
  },
  {
   "cell_type": "code",
   "execution_count": 17,
   "id": "41f18f1a",
   "metadata": {},
   "outputs": [
    {
     "data": {
      "text/html": [
       "<div><style>\n",
       ".dataframe > thead > tr,\n",
       ".dataframe > tbody > tr {\n",
       "  text-align: right;\n",
       "  white-space: pre-wrap;\n",
       "}\n",
       "</style>\n",
       "<small>shape: (1, 5)</small><table border=\"1\" class=\"dataframe\"><thead><tr><th>min</th><th>mean</th><th>median</th><th>max</th><th>std_dev</th></tr><tr><td>f64</td><td>f64</td><td>f64</td><td>f64</td><td>f64</td></tr></thead><tbody><tr><td>1.09</td><td>248.089286</td><td>153.55</td><td>949.47</td><td>268.793477</td></tr></tbody></table></div>"
      ],
      "text/plain": [
       "shape: (1, 5)\n",
       "┌──────┬────────────┬────────┬────────┬────────────┐\n",
       "│ min  ┆ mean       ┆ median ┆ max    ┆ std_dev    │\n",
       "│ ---  ┆ ---        ┆ ---    ┆ ---    ┆ ---        │\n",
       "│ f64  ┆ f64        ┆ f64    ┆ f64    ┆ f64        │\n",
       "╞══════╪════════════╪════════╪════════╪════════════╡\n",
       "│ 1.09 ┆ 248.089286 ┆ 153.55 ┆ 949.47 ┆ 268.793477 │\n",
       "└──────┴────────────┴────────┴────────┴────────────┘"
      ]
     },
     "execution_count": 17,
     "metadata": {},
     "output_type": "execute_result"
    }
   ],
   "source": [
    "df.select([\n",
    "    pl.col(\"price\").min().alias(\"min\"),\n",
    "    pl.col(\"price\").mean().alias(\"mean\"),\n",
    "    pl.col(\"price\").median().alias(\"median\"),\n",
    "    pl.col(\"price\").max().alias(\"max\"),\n",
    "    pl.col(\"price\").std().alias(\"std_dev\"),\n",
    "])"
   ]
  },
  {
   "cell_type": "code",
   "execution_count": 18,
   "id": "64067f5a",
   "metadata": {},
   "outputs": [
    {
     "data": {
      "text/html": [
       "<div><style>\n",
       ".dataframe > thead > tr,\n",
       ".dataframe > tbody > tr {\n",
       "  text-align: right;\n",
       "  white-space: pre-wrap;\n",
       "}\n",
       "</style>\n",
       "<small>shape: (9, 2)</small><table border=\"1\" class=\"dataframe\"><thead><tr><th>describe</th><th>price</th></tr><tr><td>str</td><td>f64</td></tr></thead><tbody><tr><td>&quot;count&quot;</td><td>28.0</td></tr><tr><td>&quot;null_count&quot;</td><td>0.0</td></tr><tr><td>&quot;mean&quot;</td><td>248.089286</td></tr><tr><td>&quot;std&quot;</td><td>268.793477</td></tr><tr><td>&quot;min&quot;</td><td>1.09</td></tr><tr><td>&quot;25%&quot;</td><td>28.31</td></tr><tr><td>&quot;50%&quot;</td><td>155.11</td></tr><tr><td>&quot;75%&quot;</td><td>411.83</td></tr><tr><td>&quot;max&quot;</td><td>949.47</td></tr></tbody></table></div>"
      ],
      "text/plain": [
       "shape: (9, 2)\n",
       "┌────────────┬────────────┐\n",
       "│ describe   ┆ price      │\n",
       "│ ---        ┆ ---        │\n",
       "│ str        ┆ f64        │\n",
       "╞════════════╪════════════╡\n",
       "│ count      ┆ 28.0       │\n",
       "│ null_count ┆ 0.0        │\n",
       "│ mean       ┆ 248.089286 │\n",
       "│ std        ┆ 268.793477 │\n",
       "│ min        ┆ 1.09       │\n",
       "│ 25%        ┆ 28.31      │\n",
       "│ 50%        ┆ 155.11     │\n",
       "│ 75%        ┆ 411.83     │\n",
       "│ max        ┆ 949.47     │\n",
       "└────────────┴────────────┘"
      ]
     },
     "execution_count": 18,
     "metadata": {},
     "output_type": "execute_result"
    }
   ],
   "source": [
    "# compute describe at a series level\n",
    "df.select([\n",
    "    pl.col(\"price\")\n",
    "]).describe()"
   ]
  },
  {
   "cell_type": "code",
   "execution_count": 19,
   "id": "3846917b",
   "metadata": {},
   "outputs": [],
   "source": [
    "price = df.select([\n",
    "    pl.col(\"price\")\n",
    "])"
   ]
  },
  {
   "cell_type": "code",
   "execution_count": 21,
   "id": "3c894bab",
   "metadata": {},
   "outputs": [
    {
     "data": {
      "text/plain": [
       "array([[<Axes: title={'center': 'price'}>]], dtype=object)"
      ]
     },
     "execution_count": 21,
     "metadata": {},
     "output_type": "execute_result"
    },
    {
     "data": {
      "image/png": "[encoded data removed]",
      "text/plain": [
       "<Figure size 640x480 with 1 Axes>"
      ]
     },
     "metadata": {},
     "output_type": "display_data"
    }
   ],
   "source": [
    "price.sample(28).to_pandas().hist(bins=30)"
   ]
  },
  {
   "cell_type": "code",
   "execution_count": 26,
   "id": "35738d81",
   "metadata": {},
   "outputs": [],
   "source": [
    "# price.sample(1000)"
   ]
  },
  {
   "cell_type": "code",
   "execution_count": 22,
   "id": "f53bdd19",
   "metadata": {},
   "outputs": [
    {
     "data": {
      "text/html": [
       "<div>\n",
       "<style scoped>\n",
       "    .dataframe tbody tr th:only-of-type {\n",
       "        vertical-align: middle;\n",
       "    }\n",
       "\n",
       "    .dataframe tbody tr th {\n",
       "        vertical-align: top;\n",
       "    }\n",
       "\n",
       "    .dataframe thead th {\n",
       "        text-align: right;\n",
       "    }\n",
       "</style>\n",
       "<table border=\"1\" class=\"dataframe\">\n",
       "  <thead>\n",
       "    <tr style=\"text-align: right;\">\n",
       "      <th></th>\n",
       "      <th>probs</th>\n",
       "      <th>percentiles</th>\n",
       "    </tr>\n",
       "  </thead>\n",
       "  <tbody>\n",
       "    <tr>\n",
       "      <th>0</th>\n",
       "      <td>0.00</td>\n",
       "      <td>1.09</td>\n",
       "    </tr>\n",
       "    <tr>\n",
       "      <th>1</th>\n",
       "      <td>0.25</td>\n",
       "      <td>28.31</td>\n",
       "    </tr>\n",
       "    <tr>\n",
       "      <th>2</th>\n",
       "      <td>0.50</td>\n",
       "      <td>155.11</td>\n",
       "    </tr>\n",
       "    <tr>\n",
       "      <th>3</th>\n",
       "      <td>0.75</td>\n",
       "      <td>411.83</td>\n",
       "    </tr>\n",
       "    <tr>\n",
       "      <th>4</th>\n",
       "      <td>1.00</td>\n",
       "      <td>949.47</td>\n",
       "    </tr>\n",
       "  </tbody>\n",
       "</table>\n",
       "</div>"
      ],
      "text/plain": [
       "   probs  percentiles\n",
       "0   0.00         1.09\n",
       "1   0.25        28.31\n",
       "2   0.50       155.11\n",
       "3   0.75       411.83\n",
       "4   1.00       949.47"
      ]
     },
     "execution_count": 22,
     "metadata": {},
     "output_type": "execute_result"
    }
   ],
   "source": [
    "probs = [0, 0.25, 0.5, 0.75, 1]\n",
    "percentiles = [price.quantile(prob)[0,0] for prob in probs]\n",
    "pd.DataFrame(dict(probs=probs, percentiles=percentiles))"
   ]
  }
 ],
 "metadata": {
  "kernelspec": {
   "display_name": "Python 3",
   "language": "python",
   "name": "python3"
  },
  "language_info": {
   "codemirror_mode": {
    "name": "ipython",
    "version": 3
   },
   "file_extension": ".py",
   "mimetype": "text/x-python",
   "name": "python",
   "nbconvert_exporter": "python",
   "pygments_lexer": "ipython3",
   "version": "3.10.7"
  }
 },
 "nbformat": 4,
 "nbformat_minor": 5
}
