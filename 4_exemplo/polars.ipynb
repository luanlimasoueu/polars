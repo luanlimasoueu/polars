{
 "cells": [
  {
   "cell_type": "code",
   "execution_count": 42,
   "metadata": {},
   "outputs": [
    {
     "name": "stdout",
     "output_type": "stream",
     "text": [
      "shape: (3, 3)\n",
      "┌─────────┬─────────────────────┬───────┐\n",
      "│ integer ┆ date                ┆ float │\n",
      "│ ---     ┆ ---                 ┆ ---   │\n",
      "│ i64     ┆ datetime[μs]        ┆ f64   │\n",
      "╞═════════╪═════════════════════╪═══════╡\n",
      "│ 1       ┆ 2022-01-01 00:00:00 ┆ 4.0   │\n",
      "│ 2       ┆ 2022-01-02 00:00:00 ┆ 5.0   │\n",
      "│ 3       ┆ 2022-01-03 00:00:00 ┆ 6.0   │\n",
      "└─────────┴─────────────────────┴───────┘\n"
     ]
    }
   ],
   "source": [
    "import polars as pl\n",
    "from datetime import datetime\n",
    "\n",
    "df = pl.DataFrame(\n",
    "    {\n",
    "        \"integer\": [1, 2, 3],\n",
    "        \"date\": [\n",
    "            datetime(2022, 1, 1),\n",
    "            datetime(2022, 1, 2),\n",
    "            datetime(2022, 1, 3),\n",
    "        ],\n",
    "        \"float\": [4.0, 5.0, 6.0],\n",
    "    }\n",
    ")\n",
    "\n",
    "print(df)"
   ]
  },
  {
   "cell_type": "code",
   "execution_count": 3,
   "metadata": {},
   "outputs": [],
   "source": [
    "import numpy as np"
   ]
  },
  {
   "cell_type": "code",
   "execution_count": 4,
   "metadata": {},
   "outputs": [],
   "source": [
    "df = pl.DataFrame(\n",
    "    {\n",
    "        \"a\": range(8),\n",
    "        \"b\": np.random.rand(8),\n",
    "        \"d\": [1, 2.0, float(\"nan\"), float(\"nan\"), 0, -5, -42, None],\n",
    "    }\n",
    ")"
   ]
  },
  {
   "cell_type": "code",
   "execution_count": 5,
   "metadata": {},
   "outputs": [
    {
     "data": {
      "text/html": [
       "<div><style>\n",
       ".dataframe > thead > tr,\n",
       ".dataframe > tbody > tr {\n",
       "  text-align: right;\n",
       "  white-space: pre-wrap;\n",
       "}\n",
       "</style>\n",
       "<small>shape: (8, 3)</small><table border=\"1\" class=\"dataframe\"><thead><tr><th>a</th><th>b</th><th>d</th></tr><tr><td>i64</td><td>f64</td><td>f64</td></tr></thead><tbody><tr><td>0</td><td>0.242939</td><td>1.0</td></tr><tr><td>1</td><td>0.772906</td><td>2.0</td></tr><tr><td>2</td><td>0.191597</td><td>NaN</td></tr><tr><td>3</td><td>0.486959</td><td>NaN</td></tr><tr><td>4</td><td>0.796929</td><td>0.0</td></tr><tr><td>5</td><td>0.234152</td><td>-5.0</td></tr><tr><td>6</td><td>0.637966</td><td>-42.0</td></tr><tr><td>7</td><td>0.997262</td><td>null</td></tr></tbody></table></div>"
      ],
      "text/plain": [
       "shape: (8, 3)\n",
       "┌─────┬──────────┬───────┐\n",
       "│ a   ┆ b        ┆ d     │\n",
       "│ --- ┆ ---      ┆ ---   │\n",
       "│ i64 ┆ f64      ┆ f64   │\n",
       "╞═════╪══════════╪═══════╡\n",
       "│ 0   ┆ 0.242939 ┆ 1.0   │\n",
       "│ 1   ┆ 0.772906 ┆ 2.0   │\n",
       "│ 2   ┆ 0.191597 ┆ NaN   │\n",
       "│ 3   ┆ 0.486959 ┆ NaN   │\n",
       "│ 4   ┆ 0.796929 ┆ 0.0   │\n",
       "│ 5   ┆ 0.234152 ┆ -5.0  │\n",
       "│ 6   ┆ 0.637966 ┆ -42.0 │\n",
       "│ 7   ┆ 0.997262 ┆ null  │\n",
       "└─────┴──────────┴───────┘"
      ]
     },
     "execution_count": 5,
     "metadata": {},
     "output_type": "execute_result"
    }
   ],
   "source": [
    "df"
   ]
  },
  {
   "cell_type": "code",
   "execution_count": 6,
   "metadata": {},
   "outputs": [
    {
     "data": {
      "text/html": [
       "<div><style>\n",
       ".dataframe > thead > tr,\n",
       ".dataframe > tbody > tr {\n",
       "  text-align: right;\n",
       "  white-space: pre-wrap;\n",
       "}\n",
       "</style>\n",
       "<small>shape: (8, 3)</small><table border=\"1\" class=\"dataframe\"><thead><tr><th>a</th><th>b</th><th>d</th></tr><tr><td>i64</td><td>f64</td><td>f64</td></tr></thead><tbody><tr><td>0</td><td>0.242939</td><td>1.0</td></tr><tr><td>1</td><td>0.772906</td><td>2.0</td></tr><tr><td>2</td><td>0.191597</td><td>NaN</td></tr><tr><td>3</td><td>0.486959</td><td>NaN</td></tr><tr><td>4</td><td>0.796929</td><td>0.0</td></tr><tr><td>5</td><td>0.234152</td><td>-5.0</td></tr><tr><td>6</td><td>0.637966</td><td>-42.0</td></tr><tr><td>7</td><td>0.997262</td><td>null</td></tr></tbody></table></div>"
      ],
      "text/plain": [
       "shape: (8, 3)\n",
       "┌─────┬──────────┬───────┐\n",
       "│ a   ┆ b        ┆ d     │\n",
       "│ --- ┆ ---      ┆ ---   │\n",
       "│ i64 ┆ f64      ┆ f64   │\n",
       "╞═════╪══════════╪═══════╡\n",
       "│ 0   ┆ 0.242939 ┆ 1.0   │\n",
       "│ 1   ┆ 0.772906 ┆ 2.0   │\n",
       "│ 2   ┆ 0.191597 ┆ NaN   │\n",
       "│ 3   ┆ 0.486959 ┆ NaN   │\n",
       "│ 4   ┆ 0.796929 ┆ 0.0   │\n",
       "│ 5   ┆ 0.234152 ┆ -5.0  │\n",
       "│ 6   ┆ 0.637966 ┆ -42.0 │\n",
       "│ 7   ┆ 0.997262 ┆ null  │\n",
       "└─────┴──────────┴───────┘"
      ]
     },
     "execution_count": 6,
     "metadata": {},
     "output_type": "execute_result"
    }
   ],
   "source": [
    "df.select(pl.col(\"*\"))"
   ]
  },
  {
   "cell_type": "code",
   "execution_count": 7,
   "metadata": {},
   "outputs": [
    {
     "data": {
      "text/html": [
       "<div><style>\n",
       ".dataframe > thead > tr,\n",
       ".dataframe > tbody > tr {\n",
       "  text-align: right;\n",
       "  white-space: pre-wrap;\n",
       "}\n",
       "</style>\n",
       "<small>shape: (8, 2)</small><table border=\"1\" class=\"dataframe\"><thead><tr><th>a</th><th>b</th></tr><tr><td>i64</td><td>f64</td></tr></thead><tbody><tr><td>0</td><td>0.242939</td></tr><tr><td>1</td><td>0.772906</td></tr><tr><td>2</td><td>0.191597</td></tr><tr><td>3</td><td>0.486959</td></tr><tr><td>4</td><td>0.796929</td></tr><tr><td>5</td><td>0.234152</td></tr><tr><td>6</td><td>0.637966</td></tr><tr><td>7</td><td>0.997262</td></tr></tbody></table></div>"
      ],
      "text/plain": [
       "shape: (8, 2)\n",
       "┌─────┬──────────┐\n",
       "│ a   ┆ b        │\n",
       "│ --- ┆ ---      │\n",
       "│ i64 ┆ f64      │\n",
       "╞═════╪══════════╡\n",
       "│ 0   ┆ 0.242939 │\n",
       "│ 1   ┆ 0.772906 │\n",
       "│ 2   ┆ 0.191597 │\n",
       "│ 3   ┆ 0.486959 │\n",
       "│ 4   ┆ 0.796929 │\n",
       "│ 5   ┆ 0.234152 │\n",
       "│ 6   ┆ 0.637966 │\n",
       "│ 7   ┆ 0.997262 │\n",
       "└─────┴──────────┘"
      ]
     },
     "execution_count": 7,
     "metadata": {},
     "output_type": "execute_result"
    }
   ],
   "source": [
    "df.select(pl.col(\"a\", \"b\"))"
   ]
  },
  {
   "cell_type": "code",
   "execution_count": 8,
   "metadata": {},
   "outputs": [
    {
     "data": {
      "text/html": [
       "<div><style>\n",
       ".dataframe > thead > tr,\n",
       ".dataframe > tbody > tr {\n",
       "  text-align: right;\n",
       "  white-space: pre-wrap;\n",
       "}\n",
       "</style>\n",
       "<small>shape: (3, 2)</small><table border=\"1\" class=\"dataframe\"><thead><tr><th>a</th><th>b</th></tr><tr><td>i64</td><td>f64</td></tr></thead><tbody><tr><td>0</td><td>0.242939</td></tr><tr><td>1</td><td>0.772906</td></tr><tr><td>2</td><td>0.191597</td></tr></tbody></table></div>"
      ],
      "text/plain": [
       "shape: (3, 2)\n",
       "┌─────┬──────────┐\n",
       "│ a   ┆ b        │\n",
       "│ --- ┆ ---      │\n",
       "│ i64 ┆ f64      │\n",
       "╞═════╪══════════╡\n",
       "│ 0   ┆ 0.242939 │\n",
       "│ 1   ┆ 0.772906 │\n",
       "│ 2   ┆ 0.191597 │\n",
       "└─────┴──────────┘"
      ]
     },
     "execution_count": 8,
     "metadata": {},
     "output_type": "execute_result"
    }
   ],
   "source": [
    "df.select(pl.col(\"a\"), pl.col(\"b\")).limit(3)"
   ]
  },
  {
   "cell_type": "code",
   "execution_count": 9,
   "metadata": {},
   "outputs": [
    {
     "data": {
      "text/html": [
       "<div><style>\n",
       ".dataframe > thead > tr,\n",
       ".dataframe > tbody > tr {\n",
       "  text-align: right;\n",
       "  white-space: pre-wrap;\n",
       "}\n",
       "</style>\n",
       "<small>shape: (8, 2)</small><table border=\"1\" class=\"dataframe\"><thead><tr><th>b</th><th>d</th></tr><tr><td>f64</td><td>f64</td></tr></thead><tbody><tr><td>0.242939</td><td>1.0</td></tr><tr><td>0.772906</td><td>2.0</td></tr><tr><td>0.191597</td><td>NaN</td></tr><tr><td>0.486959</td><td>NaN</td></tr><tr><td>0.796929</td><td>0.0</td></tr><tr><td>0.234152</td><td>-5.0</td></tr><tr><td>0.637966</td><td>-42.0</td></tr><tr><td>0.997262</td><td>null</td></tr></tbody></table></div>"
      ],
      "text/plain": [
       "shape: (8, 2)\n",
       "┌──────────┬───────┐\n",
       "│ b        ┆ d     │\n",
       "│ ---      ┆ ---   │\n",
       "│ f64      ┆ f64   │\n",
       "╞══════════╪═══════╡\n",
       "│ 0.242939 ┆ 1.0   │\n",
       "│ 0.772906 ┆ 2.0   │\n",
       "│ 0.191597 ┆ NaN   │\n",
       "│ 0.486959 ┆ NaN   │\n",
       "│ 0.796929 ┆ 0.0   │\n",
       "│ 0.234152 ┆ -5.0  │\n",
       "│ 0.637966 ┆ -42.0 │\n",
       "│ 0.997262 ┆ null  │\n",
       "└──────────┴───────┘"
      ]
     },
     "execution_count": 9,
     "metadata": {},
     "output_type": "execute_result"
    }
   ],
   "source": [
    "df.select(pl.exclude(\"a\"))"
   ]
  },
  {
   "cell_type": "code",
   "execution_count": 11,
   "metadata": {},
   "outputs": [
    {
     "data": {
      "text/html": [
       "<div><style>\n",
       ".dataframe > thead > tr,\n",
       ".dataframe > tbody > tr {\n",
       "  text-align: right;\n",
       "  white-space: pre-wrap;\n",
       "}\n",
       "</style>\n",
       "<small>shape: (4, 3)</small><table border=\"1\" class=\"dataframe\"><thead><tr><th>a</th><th>b</th><th>d</th></tr><tr><td>i64</td><td>f64</td><td>f64</td></tr></thead><tbody><tr><td>0</td><td>0.242939</td><td>1.0</td></tr><tr><td>2</td><td>0.191597</td><td>NaN</td></tr><tr><td>3</td><td>0.486959</td><td>NaN</td></tr><tr><td>5</td><td>0.234152</td><td>-5.0</td></tr></tbody></table></div>"
      ],
      "text/plain": [
       "shape: (4, 3)\n",
       "┌─────┬──────────┬──────┐\n",
       "│ a   ┆ b        ┆ d    │\n",
       "│ --- ┆ ---      ┆ ---  │\n",
       "│ i64 ┆ f64      ┆ f64  │\n",
       "╞═════╪══════════╪══════╡\n",
       "│ 0   ┆ 0.242939 ┆ 1.0  │\n",
       "│ 2   ┆ 0.191597 ┆ NaN  │\n",
       "│ 3   ┆ 0.486959 ┆ NaN  │\n",
       "│ 5   ┆ 0.234152 ┆ -5.0 │\n",
       "└─────┴──────────┴──────┘"
      ]
     },
     "execution_count": 11,
     "metadata": {},
     "output_type": "execute_result"
    }
   ],
   "source": [
    "df.filter(\n",
    "    pl.col(\"b\").is_between(0.1,0.6),\n",
    ")"
   ]
  },
  {
   "cell_type": "code",
   "execution_count": 12,
   "metadata": {},
   "outputs": [
    {
     "data": {
      "text/html": [
       "<div><style>\n",
       ".dataframe > thead > tr,\n",
       ".dataframe > tbody > tr {\n",
       "  text-align: right;\n",
       "  white-space: pre-wrap;\n",
       "}\n",
       "</style>\n",
       "<small>shape: (4, 3)</small><table border=\"1\" class=\"dataframe\"><thead><tr><th>a</th><th>b</th><th>d</th></tr><tr><td>i64</td><td>f64</td><td>f64</td></tr></thead><tbody><tr><td>0</td><td>0.242939</td><td>1.0</td></tr><tr><td>1</td><td>0.772906</td><td>2.0</td></tr><tr><td>4</td><td>0.796929</td><td>0.0</td></tr><tr><td>5</td><td>0.234152</td><td>-5.0</td></tr></tbody></table></div>"
      ],
      "text/plain": [
       "shape: (4, 3)\n",
       "┌─────┬──────────┬──────┐\n",
       "│ a   ┆ b        ┆ d    │\n",
       "│ --- ┆ ---      ┆ ---  │\n",
       "│ i64 ┆ f64      ┆ f64  │\n",
       "╞═════╪══════════╪══════╡\n",
       "│ 0   ┆ 0.242939 ┆ 1.0  │\n",
       "│ 1   ┆ 0.772906 ┆ 2.0  │\n",
       "│ 4   ┆ 0.796929 ┆ 0.0  │\n",
       "│ 5   ┆ 0.234152 ┆ -5.0 │\n",
       "└─────┴──────────┴──────┘"
      ]
     },
     "execution_count": 12,
     "metadata": {},
     "output_type": "execute_result"
    }
   ],
   "source": [
    "df.filter((pl.col(\"a\") <= 5) & (pl.col(\"d\").is_not_nan()))"
   ]
  },
  {
   "cell_type": "code",
   "execution_count": 13,
   "metadata": {},
   "outputs": [
    {
     "data": {
      "text/html": [
       "<div><style>\n",
       ".dataframe > thead > tr,\n",
       ".dataframe > tbody > tr {\n",
       "  text-align: right;\n",
       "  white-space: pre-wrap;\n",
       "}\n",
       "</style>\n",
       "<small>shape: (8, 5)</small><table border=\"1\" class=\"dataframe\"><thead><tr><th>a</th><th>b</th><th>d</th><th>e</th><th>b+42</th></tr><tr><td>i64</td><td>f64</td><td>f64</td><td>f64</td><td>f64</td></tr></thead><tbody><tr><td>0</td><td>0.242939</td><td>1.0</td><td>4.360708</td><td>42.242939</td></tr><tr><td>1</td><td>0.772906</td><td>2.0</td><td>4.360708</td><td>42.772906</td></tr><tr><td>2</td><td>0.191597</td><td>NaN</td><td>4.360708</td><td>42.191597</td></tr><tr><td>3</td><td>0.486959</td><td>NaN</td><td>4.360708</td><td>42.486959</td></tr><tr><td>4</td><td>0.796929</td><td>0.0</td><td>4.360708</td><td>42.796929</td></tr><tr><td>5</td><td>0.234152</td><td>-5.0</td><td>4.360708</td><td>42.234152</td></tr><tr><td>6</td><td>0.637966</td><td>-42.0</td><td>4.360708</td><td>42.637966</td></tr><tr><td>7</td><td>0.997262</td><td>null</td><td>4.360708</td><td>42.997262</td></tr></tbody></table></div>"
      ],
      "text/plain": [
       "shape: (8, 5)\n",
       "┌─────┬──────────┬───────┬──────────┬───────────┐\n",
       "│ a   ┆ b        ┆ d     ┆ e        ┆ b+42      │\n",
       "│ --- ┆ ---      ┆ ---   ┆ ---      ┆ ---       │\n",
       "│ i64 ┆ f64      ┆ f64   ┆ f64      ┆ f64       │\n",
       "╞═════╪══════════╪═══════╪══════════╪═══════════╡\n",
       "│ 0   ┆ 0.242939 ┆ 1.0   ┆ 4.360708 ┆ 42.242939 │\n",
       "│ 1   ┆ 0.772906 ┆ 2.0   ┆ 4.360708 ┆ 42.772906 │\n",
       "│ 2   ┆ 0.191597 ┆ NaN   ┆ 4.360708 ┆ 42.191597 │\n",
       "│ 3   ┆ 0.486959 ┆ NaN   ┆ 4.360708 ┆ 42.486959 │\n",
       "│ 4   ┆ 0.796929 ┆ 0.0   ┆ 4.360708 ┆ 42.796929 │\n",
       "│ 5   ┆ 0.234152 ┆ -5.0  ┆ 4.360708 ┆ 42.234152 │\n",
       "│ 6   ┆ 0.637966 ┆ -42.0 ┆ 4.360708 ┆ 42.637966 │\n",
       "│ 7   ┆ 0.997262 ┆ null  ┆ 4.360708 ┆ 42.997262 │\n",
       "└─────┴──────────┴───────┴──────────┴───────────┘"
      ]
     },
     "execution_count": 13,
     "metadata": {},
     "output_type": "execute_result"
    }
   ],
   "source": [
    "df.with_columns(pl.col(\"b\").sum().alias(\"e\"), (pl.col(\"b\") + 42).alias(\"b+42\"))"
   ]
  },
  {
   "cell_type": "code",
   "execution_count": 14,
   "metadata": {},
   "outputs": [],
   "source": [
    "df2 = pl.DataFrame(\n",
    "    {\n",
    "        \"x\": range(8),\n",
    "        \"y\": [\"A\", \"A\", \"A\", \"B\", \"B\", \"C\", \"X\", \"X\"],\n",
    "    }\n",
    ")"
   ]
  },
  {
   "cell_type": "code",
   "execution_count": 15,
   "metadata": {},
   "outputs": [
    {
     "data": {
      "text/html": [
       "<div><style>\n",
       ".dataframe > thead > tr,\n",
       ".dataframe > tbody > tr {\n",
       "  text-align: right;\n",
       "  white-space: pre-wrap;\n",
       "}\n",
       "</style>\n",
       "<small>shape: (4, 2)</small><table border=\"1\" class=\"dataframe\"><thead><tr><th>y</th><th>count</th></tr><tr><td>str</td><td>u32</td></tr></thead><tbody><tr><td>&quot;A&quot;</td><td>3</td></tr><tr><td>&quot;B&quot;</td><td>2</td></tr><tr><td>&quot;C&quot;</td><td>1</td></tr><tr><td>&quot;X&quot;</td><td>2</td></tr></tbody></table></div>"
      ],
      "text/plain": [
       "shape: (4, 2)\n",
       "┌─────┬───────┐\n",
       "│ y   ┆ count │\n",
       "│ --- ┆ ---   │\n",
       "│ str ┆ u32   │\n",
       "╞═════╪═══════╡\n",
       "│ A   ┆ 3     │\n",
       "│ B   ┆ 2     │\n",
       "│ C   ┆ 1     │\n",
       "│ X   ┆ 2     │\n",
       "└─────┴───────┘"
      ]
     },
     "execution_count": 15,
     "metadata": {},
     "output_type": "execute_result"
    }
   ],
   "source": [
    "df2.group_by(\"y\", maintain_order=True).count()"
   ]
  },
  {
   "cell_type": "code",
   "execution_count": 16,
   "metadata": {},
   "outputs": [
    {
     "data": {
      "text/html": [
       "<div><style>\n",
       ".dataframe > thead > tr,\n",
       ".dataframe > tbody > tr {\n",
       "  text-align: right;\n",
       "  white-space: pre-wrap;\n",
       "}\n",
       "</style>\n",
       "<small>shape: (4, 3)</small><table border=\"1\" class=\"dataframe\"><thead><tr><th>y</th><th>count</th><th>sum</th></tr><tr><td>str</td><td>u32</td><td>i64</td></tr></thead><tbody><tr><td>&quot;A&quot;</td><td>3</td><td>3</td></tr><tr><td>&quot;B&quot;</td><td>2</td><td>7</td></tr><tr><td>&quot;C&quot;</td><td>1</td><td>5</td></tr><tr><td>&quot;X&quot;</td><td>2</td><td>13</td></tr></tbody></table></div>"
      ],
      "text/plain": [
       "shape: (4, 3)\n",
       "┌─────┬───────┬─────┐\n",
       "│ y   ┆ count ┆ sum │\n",
       "│ --- ┆ ---   ┆ --- │\n",
       "│ str ┆ u32   ┆ i64 │\n",
       "╞═════╪═══════╪═════╡\n",
       "│ A   ┆ 3     ┆ 3   │\n",
       "│ B   ┆ 2     ┆ 7   │\n",
       "│ C   ┆ 1     ┆ 5   │\n",
       "│ X   ┆ 2     ┆ 13  │\n",
       "└─────┴───────┴─────┘"
      ]
     },
     "execution_count": 16,
     "metadata": {},
     "output_type": "execute_result"
    }
   ],
   "source": [
    "df2.group_by(\"y\", maintain_order=True).agg(\n",
    "    pl.col(\"*\").count().alias(\"count\"),\n",
    "    pl.col(\"*\").sum().alias(\"sum\"),\n",
    ")"
   ]
  },
  {
   "cell_type": "code",
   "execution_count": 17,
   "metadata": {},
   "outputs": [
    {
     "name": "stdout",
     "output_type": "stream",
     "text": [
      "shape: (8, 3)\n",
      "┌─────┬──────────┬──────────┐\n",
      "│ a   ┆ b        ┆ a * b    │\n",
      "│ --- ┆ ---      ┆ ---      │\n",
      "│ i64 ┆ f64      ┆ f64      │\n",
      "╞═════╪══════════╪══════════╡\n",
      "│ 0   ┆ 0.242939 ┆ 0.0      │\n",
      "│ 1   ┆ 0.772906 ┆ 0.772906 │\n",
      "│ 2   ┆ 0.191597 ┆ 0.383193 │\n",
      "│ 3   ┆ 0.486959 ┆ 1.460878 │\n",
      "│ 4   ┆ 0.796929 ┆ 3.187714 │\n",
      "│ 5   ┆ 0.234152 ┆ 1.170759 │\n",
      "│ 6   ┆ 0.637966 ┆ 3.827793 │\n",
      "│ 7   ┆ 0.997262 ┆ 6.980831 │\n",
      "└─────┴──────────┴──────────┘\n"
     ]
    }
   ],
   "source": [
    "df_x = df.with_columns((pl.col(\"a\") * pl.col(\"b\")).alias(\"a * b\")).select(\n",
    "    pl.all().exclude([\"c\", \"d\"])\n",
    ")\n",
    "\n",
    "print(df_x)"
   ]
  },
  {
   "cell_type": "code",
   "execution_count": 18,
   "metadata": {},
   "outputs": [
    {
     "name": "stdout",
     "output_type": "stream",
     "text": [
      "shape: (8, 3)\n",
      "┌─────┬──────────┬──────────┐\n",
      "│ a   ┆ b        ┆ a * b    │\n",
      "│ --- ┆ ---      ┆ ---      │\n",
      "│ i64 ┆ f64      ┆ f64      │\n",
      "╞═════╪══════════╪══════════╡\n",
      "│ 0   ┆ 0.242939 ┆ 0.0      │\n",
      "│ 1   ┆ 0.772906 ┆ 0.772906 │\n",
      "│ 2   ┆ 0.191597 ┆ 0.383193 │\n",
      "│ 3   ┆ 0.486959 ┆ 1.460878 │\n",
      "│ 4   ┆ 0.796929 ┆ 3.187714 │\n",
      "│ 5   ┆ 0.234152 ┆ 1.170759 │\n",
      "│ 6   ┆ 0.637966 ┆ 3.827793 │\n",
      "│ 7   ┆ 0.997262 ┆ 6.980831 │\n",
      "└─────┴──────────┴──────────┘\n"
     ]
    }
   ],
   "source": [
    "df_y = df.with_columns((pl.col(\"a\") * pl.col(\"b\")).alias(\"a * b\")).select(\n",
    "    pl.all().exclude(\"d\")\n",
    ")\n",
    "\n",
    "print(df_y)"
   ]
  },
  {
   "cell_type": "code",
   "execution_count": 19,
   "metadata": {},
   "outputs": [
    {
     "name": "stdout",
     "output_type": "stream",
     "text": [
      "shape: (8, 4)\n",
      "┌─────┬──────────┬───────┬─────┐\n",
      "│ a   ┆ b        ┆ d     ┆ y   │\n",
      "│ --- ┆ ---      ┆ ---   ┆ --- │\n",
      "│ i64 ┆ f64      ┆ f64   ┆ str │\n",
      "╞═════╪══════════╪═══════╪═════╡\n",
      "│ 0   ┆ 0.669424 ┆ 1.0   ┆ A   │\n",
      "│ 1   ┆ 0.756802 ┆ 2.0   ┆ A   │\n",
      "│ 2   ┆ 0.409069 ┆ NaN   ┆ A   │\n",
      "│ 3   ┆ 0.90993  ┆ NaN   ┆ B   │\n",
      "│ 4   ┆ 0.185282 ┆ 0.0   ┆ B   │\n",
      "│ 5   ┆ 0.617747 ┆ -5.0  ┆ C   │\n",
      "│ 6   ┆ 0.912349 ┆ -42.0 ┆ X   │\n",
      "│ 7   ┆ 0.618671 ┆ null  ┆ X   │\n",
      "└─────┴──────────┴───────┴─────┘\n"
     ]
    }
   ],
   "source": [
    "df = pl.DataFrame(\n",
    "    {\n",
    "        \"a\": range(8),\n",
    "        \"b\": np.random.rand(8),\n",
    "        \"d\": [1, 2.0, float(\"nan\"), float(\"nan\"), 0, -5, -42, None],\n",
    "    }\n",
    ")\n",
    "\n",
    "df2 = pl.DataFrame(\n",
    "    {\n",
    "        \"x\": range(8),\n",
    "        \"y\": [\"A\", \"A\", \"A\", \"B\", \"B\", \"C\", \"X\", \"X\"],\n",
    "    }\n",
    ")\n",
    "joined = df.join(df2, left_on=\"a\", right_on=\"x\")\n",
    "print(joined)"
   ]
  },
  {
   "cell_type": "code",
   "execution_count": 20,
   "metadata": {},
   "outputs": [
    {
     "name": "stdout",
     "output_type": "stream",
     "text": [
      "shape: (8, 5)\n",
      "┌─────┬──────────┬───────┬─────┬─────┐\n",
      "│ a   ┆ b        ┆ d     ┆ x   ┆ y   │\n",
      "│ --- ┆ ---      ┆ ---   ┆ --- ┆ --- │\n",
      "│ i64 ┆ f64      ┆ f64   ┆ i64 ┆ str │\n",
      "╞═════╪══════════╪═══════╪═════╪═════╡\n",
      "│ 0   ┆ 0.669424 ┆ 1.0   ┆ 0   ┆ A   │\n",
      "│ 1   ┆ 0.756802 ┆ 2.0   ┆ 1   ┆ A   │\n",
      "│ 2   ┆ 0.409069 ┆ NaN   ┆ 2   ┆ A   │\n",
      "│ 3   ┆ 0.90993  ┆ NaN   ┆ 3   ┆ B   │\n",
      "│ 4   ┆ 0.185282 ┆ 0.0   ┆ 4   ┆ B   │\n",
      "│ 5   ┆ 0.617747 ┆ -5.0  ┆ 5   ┆ C   │\n",
      "│ 6   ┆ 0.912349 ┆ -42.0 ┆ 6   ┆ X   │\n",
      "│ 7   ┆ 0.618671 ┆ null  ┆ 7   ┆ X   │\n",
      "└─────┴──────────┴───────┴─────┴─────┘\n"
     ]
    }
   ],
   "source": [
    "stacked = df.hstack(df2)\n",
    "print(stacked)"
   ]
  },
  {
   "cell_type": "code",
   "execution_count": 21,
   "metadata": {},
   "outputs": [
    {
     "name": "stdout",
     "output_type": "stream",
     "text": [
      "shape: (5, 4)\n",
      "┌──────┬───────┬──────────┬────────┐\n",
      "│ nrs  ┆ names ┆ random   ┆ groups │\n",
      "│ ---  ┆ ---   ┆ ---      ┆ ---    │\n",
      "│ i64  ┆ str   ┆ f64      ┆ str    │\n",
      "╞══════╪═══════╪══════════╪════════╡\n",
      "│ 1    ┆ foo   ┆ 0.5043   ┆ A      │\n",
      "│ 2    ┆ ham   ┆ 0.437099 ┆ A      │\n",
      "│ 3    ┆ spam  ┆ 0.217617 ┆ B      │\n",
      "│ null ┆ egg   ┆ 0.366501 ┆ C      │\n",
      "│ 5    ┆ null  ┆ 0.118551 ┆ B      │\n",
      "└──────┴───────┴──────────┴────────┘\n"
     ]
    }
   ],
   "source": [
    "df = pl.DataFrame(\n",
    "    {\n",
    "        \"nrs\": [1, 2, 3, None, 5],\n",
    "        \"names\": [\"foo\", \"ham\", \"spam\", \"egg\", None],\n",
    "        \"random\": np.random.rand(5),\n",
    "        \"groups\": [\"A\", \"A\", \"B\", \"C\", \"B\"],\n",
    "    }\n",
    ")\n",
    "print(df)"
   ]
  },
  {
   "cell_type": "code",
   "execution_count": 22,
   "metadata": {},
   "outputs": [
    {
     "name": "stdout",
     "output_type": "stream",
     "text": [
      "shape: (5, 4)\n",
      "┌─────────┬─────────┬──────────────┬──────────────┐\n",
      "│ nrs + 5 ┆ nrs - 5 ┆ nrs * random ┆ nrs / random │\n",
      "│ ---     ┆ ---     ┆ ---          ┆ ---          │\n",
      "│ i64     ┆ i64     ┆ f64          ┆ f64          │\n",
      "╞═════════╪═════════╪══════════════╪══════════════╡\n",
      "│ 6       ┆ -4      ┆ 0.5043       ┆ 1.982945     │\n",
      "│ 7       ┆ -3      ┆ 0.874199     ┆ 4.575619     │\n",
      "│ 8       ┆ -2      ┆ 0.65285      ┆ 13.7857      │\n",
      "│ null    ┆ null    ┆ null         ┆ null         │\n",
      "│ 10      ┆ 0       ┆ 0.592753     ┆ 42.176088    │\n",
      "└─────────┴─────────┴──────────────┴──────────────┘\n"
     ]
    }
   ],
   "source": [
    "df_numerical = df.select(\n",
    "    (pl.col(\"nrs\") + 5).alias(\"nrs + 5\"),\n",
    "    (pl.col(\"nrs\") - 5).alias(\"nrs - 5\"),\n",
    "    (pl.col(\"nrs\") * pl.col(\"random\")).alias(\"nrs * random\"),\n",
    "    (pl.col(\"nrs\") / pl.col(\"random\")).alias(\"nrs / random\"),\n",
    ")\n",
    "print(df_numerical)"
   ]
  },
  {
   "cell_type": "code",
   "execution_count": 23,
   "metadata": {},
   "outputs": [
    {
     "name": "stdout",
     "output_type": "stream",
     "text": [
      "shape: (5, 6)\n",
      "┌─────────┬──────────────┬──────────┬──────────┬──────────┬─────────┐\n",
      "│ nrs > 1 ┆ random <= .5 ┆ nrs != 1 ┆ nrs == 1 ┆ and_expr ┆ or_expr │\n",
      "│ ---     ┆ ---          ┆ ---      ┆ ---      ┆ ---      ┆ ---     │\n",
      "│ bool    ┆ bool         ┆ bool     ┆ bool     ┆ bool     ┆ bool    │\n",
      "╞═════════╪══════════════╪══════════╪══════════╪══════════╪═════════╡\n",
      "│ false   ┆ false        ┆ false    ┆ true     ┆ false    ┆ false   │\n",
      "│ true    ┆ true         ┆ true     ┆ false    ┆ true     ┆ true    │\n",
      "│ true    ┆ true         ┆ true     ┆ false    ┆ true     ┆ true    │\n",
      "│ null    ┆ true         ┆ null     ┆ null     ┆ null     ┆ true    │\n",
      "│ true    ┆ true         ┆ true     ┆ false    ┆ true     ┆ true    │\n",
      "└─────────┴──────────────┴──────────┴──────────┴──────────┴─────────┘\n"
     ]
    }
   ],
   "source": [
    "df_logical = df.select(\n",
    "    (pl.col(\"nrs\") > 1).alias(\"nrs > 1\"),\n",
    "    (pl.col(\"random\") <= 0.5).alias(\"random <= .5\"),\n",
    "    (pl.col(\"nrs\") != 1).alias(\"nrs != 1\"),\n",
    "    (pl.col(\"nrs\") == 1).alias(\"nrs == 1\"),\n",
    "    ((pl.col(\"random\") <= 0.5) & (pl.col(\"nrs\") > 1)).alias(\"and_expr\"),  # and\n",
    "    ((pl.col(\"random\") <= 0.5) | (pl.col(\"nrs\") > 1)).alias(\"or_expr\"),  # or\n",
    ")\n",
    "print(df_logical)"
   ]
  },
  {
   "cell_type": "code",
   "execution_count": 24,
   "metadata": {},
   "outputs": [
    {
     "name": "stdout",
     "output_type": "stream",
     "text": [
      "shape: (3, 7)\n",
      "┌─────┬─────┬────────┬────────────┬───────────┬────────────┬─────────────────────┐\n",
      "│ rn  ┆ id  ┆ place  ┆ date       ┆ sales     ┆ has_people ┆ logged_at           │\n",
      "│ --- ┆ --- ┆ ---    ┆ ---        ┆ ---       ┆ ---        ┆ ---                 │\n",
      "│ u32 ┆ i64 ┆ str    ┆ date       ┆ f64       ┆ bool       ┆ datetime[μs]        │\n",
      "╞═════╪═════╪════════╪════════════╪═══════════╪════════════╪═════════════════════╡\n",
      "│ 0   ┆ 9   ┆ Mars   ┆ 2022-01-01 ┆ 33.4      ┆ false      ┆ 2022-12-01 00:00:00 │\n",
      "│ 1   ┆ 4   ┆ Earth  ┆ 2022-01-02 ┆ 2142134.1 ┆ true       ┆ 2022-12-01 00:00:01 │\n",
      "│ 2   ┆ 2   ┆ Saturn ┆ 2022-01-03 ┆ 44.7      ┆ false      ┆ 2022-12-01 00:00:02 │\n",
      "└─────┴─────┴────────┴────────────┴───────────┴────────────┴─────────────────────┘\n"
     ]
    }
   ],
   "source": [
    "from datetime import date, datetime\n",
    "\n",
    "df = pl.DataFrame(\n",
    "    {\n",
    "        \"id\": [9, 4, 2],\n",
    "        \"place\": [\"Mars\", \"Earth\", \"Saturn\"],\n",
    "        \"date\": pl.date_range(date(2022, 1, 1), date(2022, 1, 3), \"1d\", eager=True),\n",
    "        \"sales\": [33.4, 2142134.1, 44.7],\n",
    "        \"has_people\": [False, True, False],\n",
    "        \"logged_at\": pl.datetime_range(\n",
    "            datetime(2022, 12, 1), datetime(2022, 12, 1, 0, 0, 2), \"1s\", eager=True\n",
    "        ),\n",
    "    }\n",
    ").with_row_count(\"rn\")\n",
    "print(df)"
   ]
  },
  {
   "cell_type": "code",
   "execution_count": 25,
   "metadata": {},
   "outputs": [
    {
     "name": "stdout",
     "output_type": "stream",
     "text": [
      "shape: (3, 7)\n",
      "┌─────┬─────┬────────┬────────────┬───────────┬────────────┬─────────────────────┐\n",
      "│ rn  ┆ id  ┆ place  ┆ date       ┆ sales     ┆ has_people ┆ logged_at           │\n",
      "│ --- ┆ --- ┆ ---    ┆ ---        ┆ ---       ┆ ---        ┆ ---                 │\n",
      "│ u32 ┆ i64 ┆ str    ┆ date       ┆ f64       ┆ bool       ┆ datetime[μs]        │\n",
      "╞═════╪═════╪════════╪════════════╪═══════════╪════════════╪═════════════════════╡\n",
      "│ 0   ┆ 9   ┆ Mars   ┆ 2022-01-01 ┆ 33.4      ┆ false      ┆ 2022-12-01 00:00:00 │\n",
      "│ 1   ┆ 4   ┆ Earth  ┆ 2022-01-02 ┆ 2142134.1 ┆ true       ┆ 2022-12-01 00:00:01 │\n",
      "│ 2   ┆ 2   ┆ Saturn ┆ 2022-01-03 ┆ 44.7      ┆ false      ┆ 2022-12-01 00:00:02 │\n",
      "└─────┴─────┴────────┴────────────┴───────────┴────────────┴─────────────────────┘\n"
     ]
    }
   ],
   "source": [
    "out = df.select(pl.col(\"*\"))\n",
    "\n",
    "# Is equivalent to\n",
    "out = df.select(pl.all())\n",
    "print(out)"
   ]
  },
  {
   "cell_type": "code",
   "execution_count": 26,
   "metadata": {},
   "outputs": [
    {
     "name": "stdout",
     "output_type": "stream",
     "text": [
      "shape: (3, 5)\n",
      "┌─────┬────────┬────────────┬───────────┬────────────┐\n",
      "│ id  ┆ place  ┆ date       ┆ sales     ┆ has_people │\n",
      "│ --- ┆ ---    ┆ ---        ┆ ---       ┆ ---        │\n",
      "│ i64 ┆ str    ┆ date       ┆ f64       ┆ bool       │\n",
      "╞═════╪════════╪════════════╪═══════════╪════════════╡\n",
      "│ 9   ┆ Mars   ┆ 2022-01-01 ┆ 33.4      ┆ false      │\n",
      "│ 4   ┆ Earth  ┆ 2022-01-02 ┆ 2142134.1 ┆ true       │\n",
      "│ 2   ┆ Saturn ┆ 2022-01-03 ┆ 44.7      ┆ false      │\n",
      "└─────┴────────┴────────────┴───────────┴────────────┘\n"
     ]
    }
   ],
   "source": [
    "out = df.select(pl.col(\"*\").exclude(\"logged_at\", \"rn\"))\n",
    "print(out)"
   ]
  },
  {
   "cell_type": "code",
   "execution_count": 27,
   "metadata": {},
   "outputs": [
    {
     "name": "stdout",
     "output_type": "stream",
     "text": [
      "shape: (3, 2)\n",
      "┌─────────────┬─────────────┐\n",
      "│ date        ┆ logged_at   │\n",
      "│ ---         ┆ ---         │\n",
      "│ str         ┆ str         │\n",
      "╞═════════════╪═════════════╡\n",
      "│ 2022-Jan-01 ┆ 2022-Dec-01 │\n",
      "│ 2022-Jan-02 ┆ 2022-Dec-01 │\n",
      "│ 2022-Jan-03 ┆ 2022-Dec-01 │\n",
      "└─────────────┴─────────────┘\n"
     ]
    }
   ],
   "source": [
    "out = df.select(pl.col(\"date\", \"logged_at\").dt.to_string(\"%Y-%h-%d\"))\n",
    "print(out)"
   ]
  },
  {
   "cell_type": "code",
   "execution_count": 28,
   "metadata": {},
   "outputs": [
    {
     "name": "stdout",
     "output_type": "stream",
     "text": [
      "shape: (3, 2)\n",
      "┌───────────┬────────────┐\n",
      "│ sales     ┆ has_people │\n",
      "│ ---       ┆ ---        │\n",
      "│ f64       ┆ bool       │\n",
      "╞═══════════╪════════════╡\n",
      "│ 33.4      ┆ false      │\n",
      "│ 2142134.1 ┆ true       │\n",
      "│ 44.7      ┆ false      │\n",
      "└───────────┴────────────┘\n"
     ]
    }
   ],
   "source": [
    "out = df.select(pl.col(\"^.*(as|sa).*$\"))\n",
    "print(out)"
   ]
  },
  {
   "cell_type": "code",
   "execution_count": 29,
   "metadata": {},
   "outputs": [
    {
     "name": "stdout",
     "output_type": "stream",
     "text": [
      "shape: (3, 3)\n",
      "┌─────┬─────┬────────┐\n",
      "│ rn  ┆ id  ┆ place  │\n",
      "│ --- ┆ --- ┆ ---    │\n",
      "│ u32 ┆ i64 ┆ str    │\n",
      "╞═════╪═════╪════════╡\n",
      "│ 0   ┆ 9   ┆ Mars   │\n",
      "│ 1   ┆ 4   ┆ Earth  │\n",
      "│ 2   ┆ 2   ┆ Saturn │\n",
      "└─────┴─────┴────────┘\n"
     ]
    }
   ],
   "source": [
    "import polars.selectors as cs\n",
    "\n",
    "out = df.select(cs.integer(), cs.string())\n",
    "print(out)"
   ]
  },
  {
   "cell_type": "code",
   "execution_count": 30,
   "metadata": {},
   "outputs": [
    {
     "name": "stdout",
     "output_type": "stream",
     "text": [
      "shape: (3, 2)\n",
      "┌─────┬───────────┐\n",
      "│ id  ┆ sales     │\n",
      "│ --- ┆ ---       │\n",
      "│ i64 ┆ f64       │\n",
      "╞═════╪═══════════╡\n",
      "│ 9   ┆ 33.4      │\n",
      "│ 4   ┆ 2142134.1 │\n",
      "│ 2   ┆ 44.7      │\n",
      "└─────┴───────────┘\n"
     ]
    }
   ],
   "source": [
    "out = df.select(cs.numeric() - cs.first())\n",
    "print(out)"
   ]
  },
  {
   "cell_type": "code",
   "execution_count": 31,
   "metadata": {},
   "outputs": [
    {
     "name": "stdout",
     "output_type": "stream",
     "text": [
      "shape: (3, 5)\n",
      "┌─────┬────────┬────────────┬────────────┬─────────────────────┐\n",
      "│ rn  ┆ place  ┆ date       ┆ has_people ┆ logged_at           │\n",
      "│ --- ┆ ---    ┆ ---        ┆ ---        ┆ ---                 │\n",
      "│ u32 ┆ str    ┆ date       ┆ bool       ┆ datetime[μs]        │\n",
      "╞═════╪════════╪════════════╪════════════╪═════════════════════╡\n",
      "│ 0   ┆ Mars   ┆ 2022-01-01 ┆ false      ┆ 2022-12-01 00:00:00 │\n",
      "│ 1   ┆ Earth  ┆ 2022-01-02 ┆ true       ┆ 2022-12-01 00:00:01 │\n",
      "│ 2   ┆ Saturn ┆ 2022-01-03 ┆ false      ┆ 2022-12-01 00:00:02 │\n",
      "└─────┴────────┴────────────┴────────────┴─────────────────────┘\n"
     ]
    }
   ],
   "source": [
    "out = df.select(cs.by_name(\"rn\") | ~cs.numeric())\n",
    "print(out)"
   ]
  },
  {
   "cell_type": "code",
   "execution_count": 32,
   "metadata": {},
   "outputs": [
    {
     "name": "stdout",
     "output_type": "stream",
     "text": [
      "shape: (3, 3)\n",
      "┌─────┬────────────┬─────────────────────┐\n",
      "│ rn  ┆ has_people ┆ logged_at           │\n",
      "│ --- ┆ ---        ┆ ---                 │\n",
      "│ u32 ┆ bool       ┆ datetime[μs]        │\n",
      "╞═════╪════════════╪═════════════════════╡\n",
      "│ 0   ┆ false      ┆ 2022-12-01 00:00:00 │\n",
      "│ 1   ┆ true       ┆ 2022-12-01 00:00:01 │\n",
      "│ 2   ┆ false      ┆ 2022-12-01 00:00:02 │\n",
      "└─────┴────────────┴─────────────────────┘\n"
     ]
    }
   ],
   "source": [
    "out = df.select(cs.contains(\"rn\"), cs.matches(\".*_.*\"))\n",
    "print(out)"
   ]
  },
  {
   "cell_type": "code",
   "execution_count": 33,
   "metadata": {},
   "outputs": [
    {
     "name": "stdout",
     "output_type": "stream",
     "text": [
      "shape: (3, 2)\n",
      "┌─────────────┬─────────────┐\n",
      "│ date        ┆ logged_at   │\n",
      "│ ---         ┆ ---         │\n",
      "│ str         ┆ str         │\n",
      "╞═════════════╪═════════════╡\n",
      "│ 2022-Jan-01 ┆ 2022-Dec-01 │\n",
      "│ 2022-Jan-02 ┆ 2022-Dec-01 │\n",
      "│ 2022-Jan-03 ┆ 2022-Dec-01 │\n",
      "└─────────────┴─────────────┘\n"
     ]
    }
   ],
   "source": [
    "out = df.select(cs.temporal().as_expr().dt.to_string(\"%Y-%h-%d\"))\n",
    "print(out)"
   ]
  },
  {
   "cell_type": "code",
   "execution_count": 34,
   "metadata": {},
   "outputs": [
    {
     "name": "stdout",
     "output_type": "stream",
     "text": [
      "True\n"
     ]
    }
   ],
   "source": [
    "from polars.selectors import is_selector\n",
    "\n",
    "out = cs.temporal()\n",
    "print(is_selector(out))"
   ]
  },
  {
   "cell_type": "code",
   "execution_count": 35,
   "metadata": {},
   "outputs": [
    {
     "name": "stdout",
     "output_type": "stream",
     "text": [
      "('date', 'logged_at')\n"
     ]
    }
   ],
   "source": [
    "from polars.selectors import expand_selector\n",
    "\n",
    "out = cs.temporal().as_expr().dt.to_string(\"%Y-%h-%d\")\n",
    "print(expand_selector(df, out))"
   ]
  },
  {
   "cell_type": "code",
   "execution_count": 36,
   "metadata": {},
   "outputs": [
    {
     "name": "stdout",
     "output_type": "stream",
     "text": [
      "shape: (5, 4)\n",
      "┌──────┬───────┬──────────┬────────┐\n",
      "│ nrs  ┆ names ┆ random   ┆ groups │\n",
      "│ ---  ┆ ---   ┆ ---      ┆ ---    │\n",
      "│ i64  ┆ str   ┆ f64      ┆ str    │\n",
      "╞══════╪═══════╪══════════╪════════╡\n",
      "│ 1    ┆ foo   ┆ 0.870271 ┆ A      │\n",
      "│ 2    ┆ ham   ┆ 0.506531 ┆ A      │\n",
      "│ 3    ┆ spam  ┆ 0.496187 ┆ B      │\n",
      "│ null ┆ egg   ┆ 0.235141 ┆ C      │\n",
      "│ 5    ┆ spam  ┆ 0.890038 ┆ B      │\n",
      "└──────┴───────┴──────────┴────────┘\n"
     ]
    }
   ],
   "source": [
    "df = pl.DataFrame(\n",
    "    {\n",
    "        \"nrs\": [1, 2, 3, None, 5],\n",
    "        \"names\": [\"foo\", \"ham\", \"spam\", \"egg\", \"spam\"],\n",
    "        \"random\": np.random.rand(5),\n",
    "        \"groups\": [\"A\", \"A\", \"B\", \"C\", \"B\"],\n",
    "    }\n",
    ")\n",
    "print(df)"
   ]
  },
  {
   "cell_type": "code",
   "execution_count": 37,
   "metadata": {},
   "outputs": [
    {
     "name": "stdout",
     "output_type": "stream",
     "text": [
      "shape: (5, 1)\n",
      "┌──────┐\n",
      "│ nrs  │\n",
      "│ ---  │\n",
      "│ i64  │\n",
      "╞══════╡\n",
      "│ 6    │\n",
      "│ 7    │\n",
      "│ 8    │\n",
      "│ null │\n",
      "│ 10   │\n",
      "└──────┘\n"
     ]
    }
   ],
   "source": [
    "df_samename = df.select(pl.col(\"nrs\") + 5)\n",
    "print(df_samename)"
   ]
  },
  {
   "cell_type": "code",
   "execution_count": 38,
   "metadata": {},
   "outputs": [
    {
     "name": "stdout",
     "output_type": "stream",
     "text": [
      "column with name 'nrs' has more than one occurrences\n"
     ]
    }
   ],
   "source": [
    "try:\n",
    "    df_samename2 = df.select(pl.col(\"nrs\") + 5, pl.col(\"nrs\") - 5)\n",
    "    print(df_samename2)\n",
    "except Exception as e:\n",
    "    print(e)"
   ]
  },
  {
   "cell_type": "code",
   "execution_count": 39,
   "metadata": {},
   "outputs": [
    {
     "name": "stdout",
     "output_type": "stream",
     "text": [
      "shape: (5, 2)\n",
      "┌─────────┬─────────┐\n",
      "│ nrs + 5 ┆ nrs - 5 │\n",
      "│ ---     ┆ ---     │\n",
      "│ i64     ┆ i64     │\n",
      "╞═════════╪═════════╡\n",
      "│ 6       ┆ -4      │\n",
      "│ 7       ┆ -3      │\n",
      "│ 8       ┆ -2      │\n",
      "│ null    ┆ null    │\n",
      "│ 10      ┆ 0       │\n",
      "└─────────┴─────────┘\n"
     ]
    }
   ],
   "source": [
    "df_alias = df.select(\n",
    "    (pl.col(\"nrs\") + 5).alias(\"nrs + 5\"),\n",
    "    (pl.col(\"nrs\") - 5).alias(\"nrs - 5\"),\n",
    ")\n",
    "print(df_alias)"
   ]
  },
  {
   "cell_type": "code",
   "execution_count": 40,
   "metadata": {},
   "outputs": [
    {
     "name": "stdout",
     "output_type": "stream",
     "text": [
      "shape: (1, 2)\n",
      "┌────────┬───────────────┐\n",
      "│ unique ┆ unique_approx │\n",
      "│ ---    ┆ ---           │\n",
      "│ u32    ┆ u32           │\n",
      "╞════════╪═══════════════╡\n",
      "│ 4      ┆ 4             │\n",
      "└────────┴───────────────┘\n"
     ]
    }
   ],
   "source": [
    "df_alias = df.select(\n",
    "    pl.col(\"names\").n_unique().alias(\"unique\"),\n",
    "    pl.approx_n_unique(\"names\").alias(\"unique_approx\"),\n",
    ")\n",
    "print(df_alias)"
   ]
  },
  {
   "cell_type": "code",
   "execution_count": 41,
   "metadata": {},
   "outputs": [
    {
     "name": "stdout",
     "output_type": "stream",
     "text": [
      "shape: (5, 2)\n",
      "┌──────┬─────────────┐\n",
      "│ nrs  ┆ conditional │\n",
      "│ ---  ┆ ---         │\n",
      "│ i64  ┆ bool        │\n",
      "╞══════╪═════════════╡\n",
      "│ 1    ┆ false       │\n",
      "│ 2    ┆ false       │\n",
      "│ 3    ┆ true        │\n",
      "│ null ┆ false       │\n",
      "│ 5    ┆ true        │\n",
      "└──────┴─────────────┘\n"
     ]
    }
   ],
   "source": [
    "df_conditional = df.select(\n",
    "    pl.col(\"nrs\"),\n",
    "    pl.when(pl.col(\"nrs\") > 2)\n",
    "    .then(pl.lit(True))\n",
    "    .otherwise(pl.lit(False))\n",
    "    .alias(\"conditional\"),\n",
    ")\n",
    "print(df_conditional)"
   ]
  },
  {
   "cell_type": "code",
   "execution_count": null,
   "metadata": {},
   "outputs": [],
   "source": []
  },
  {
   "cell_type": "code",
   "execution_count": null,
   "metadata": {},
   "outputs": [],
   "source": []
  },
  {
   "cell_type": "code",
   "execution_count": null,
   "metadata": {},
   "outputs": [],
   "source": []
  },
  {
   "cell_type": "code",
   "execution_count": null,
   "metadata": {},
   "outputs": [],
   "source": []
  }
 ],
 "metadata": {
  "kernelspec": {
   "display_name": "Python 3",
   "language": "python",
   "name": "python3"
  },
  "language_info": {
   "codemirror_mode": {
    "name": "ipython",
    "version": 3
   },
   "file_extension": ".py",
   "mimetype": "text/x-python",
   "name": "python",
   "nbconvert_exporter": "python",
   "pygments_lexer": "ipython3",
   "version": "3.10.7"
  }
 },
 "nbformat": 4,
 "nbformat_minor": 2
}
