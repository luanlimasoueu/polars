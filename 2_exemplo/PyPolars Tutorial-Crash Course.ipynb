{
 "cells": [
  {
   "cell_type": "markdown",
   "metadata": {},
   "source": [
    "### Exploratory Data Analysis with PyPolars\n",
    "+ PyPolars: It is a DataFrame Library like Pandas\n",
    "+ The goal of Polars is being a fast DataFrame library that utilizes the available cores on your machine. \n",
    "+ Ideal use case is for :: Data too big for pandas and too small for spark.\n",
    "+ Written in Rust with Python Wrappers\n",
    "+ Similar API Like Pandas\n",
    "+ Alternative Package in Rust is Polars\n",
    "+ Polar Bear, Pandas\n",
    "#### Installation\n",
    "```bash\n",
    "pip install py-polars\n",
    "```"
   ]
  },
  {
   "cell_type": "markdown",
   "metadata": {},
   "source": [
    "![](api_polars.svg)"
   ]
  },
  {
   "cell_type": "code",
   "execution_count": 4,
   "metadata": {},
   "outputs": [
    {
     "name": "stdout",
     "output_type": "stream",
     "text": [
      "Requirement already satisfied: polars in c:\\users\\luan lima\\appdata\\local\\programs\\python\\python310\\lib\\site-packages (0.20.3)\n",
      "Note: you may need to restart the kernel to use updated packages.\n"
     ]
    },
    {
     "name": "stderr",
     "output_type": "stream",
     "text": [
      "\n",
      "[notice] A new release of pip available: 22.2.2 -> 23.3.2\n",
      "[notice] To update, run: python.exe -m pip install --upgrade pip\n"
     ]
    }
   ],
   "source": [
    "pip install polars"
   ]
  },
  {
   "cell_type": "code",
   "execution_count": 6,
   "metadata": {},
   "outputs": [],
   "source": [
    "#  Load EDA Pkgs\n",
    "import polars as pl"
   ]
  },
  {
   "cell_type": "code",
   "execution_count": 2,
   "metadata": {
    "collapsed": true,
    "jupyter": {
     "outputs_hidden": true
    }
   },
   "outputs": [
    {
     "data": {
      "text/plain": [
       "['BinaryIO',\n",
       " 'Boolean',\n",
       " 'Callable',\n",
       " 'DTYPE_TO_FFINAME',\n",
       " 'DataFrame',\n",
       " 'Date32',\n",
       " 'Date64',\n",
       " 'Dict',\n",
       " 'DurationMicrosecond',\n",
       " 'DurationMillisecond',\n",
       " 'DurationNanosecond',\n",
       " 'DurationSecond',\n",
       " 'Expr',\n",
       " 'Float32',\n",
       " 'Float64',\n",
       " 'Int16',\n",
       " 'Int32',\n",
       " 'Int64',\n",
       " 'Int8',\n",
       " 'LazyFrame',\n",
       " 'LazyGroupBy',\n",
       " 'List',\n",
       " 'Object',\n",
       " 'Optional',\n",
       " 'PyExpr',\n",
       " 'PyLazyFrame',\n",
       " 'PyLazyGroupBy',\n",
       " 'Series',\n",
       " 'TextIO',\n",
       " 'Time32Millisecond',\n",
       " 'Time32Second',\n",
       " 'Time64Microsecond',\n",
       " 'Time64Nanosecond',\n",
       " 'TimestampMicrosecond',\n",
       " 'TimestampMillisecond',\n",
       " 'TimestampNanosecond',\n",
       " 'TimestampSecond',\n",
       " 'UDF',\n",
       " 'UInt16',\n",
       " 'UInt32',\n",
       " 'UInt64',\n",
       " 'UInt8',\n",
       " 'Union',\n",
       " 'Utf8',\n",
       " 'When',\n",
       " 'WhenThen',\n",
       " '__builtins__',\n",
       " '__cached__',\n",
       " '__doc__',\n",
       " '__file__',\n",
       " '__loader__',\n",
       " '__name__',\n",
       " '__package__',\n",
       " '__path__',\n",
       " '__pdoc__',\n",
       " '__spec__',\n",
       " '__version__',\n",
       " 'arg_where',\n",
       " 'avg',\n",
       " 'binary_expr',\n",
       " 'col',\n",
       " 'count',\n",
       " 'ctypes',\n",
       " 'datatypes',\n",
       " 'dtype_to_ctype',\n",
       " 'dtype_to_int',\n",
       " 'dtype_to_primitive',\n",
       " 'dtypes',\n",
       " 'expr_to_lit_or_expr',\n",
       " 'ffi',\n",
       " 'first',\n",
       " 'frame',\n",
       " 'from_pandas',\n",
       " 'functions',\n",
       " 'get_dummies',\n",
       " 'last',\n",
       " 'lazy',\n",
       " 'list',\n",
       " 'lit',\n",
       " 'max',\n",
       " 'mean',\n",
       " 'median',\n",
       " 'min',\n",
       " 'n_unique',\n",
       " 'np',\n",
       " 'os',\n",
       " 'pycol',\n",
       " 'pylit',\n",
       " 'pypolars',\n",
       " 'pytype_to_polars_type',\n",
       " 'pywhen',\n",
       " 'read_csv',\n",
       " 'read_ipc',\n",
       " 'read_parquet',\n",
       " 'scan_csv',\n",
       " 'scan_parquet',\n",
       " 'series',\n",
       " 'shutil',\n",
       " 'std',\n",
       " 'subprocess',\n",
       " 'sum',\n",
       " 'tempfile',\n",
       " 'udf',\n",
       " 'var',\n",
       " 'version',\n",
       " 'when',\n",
       " 'wrap_df',\n",
       " 'wrap_expr',\n",
       " 'wrap_ldf',\n",
       " 'wrap_s']"
      ]
     },
     "execution_count": 2,
     "metadata": {},
     "output_type": "execute_result"
    }
   ],
   "source": [
    "# Methods/Attrib\n",
    "dir(pl)"
   ]
  },
  {
   "cell_type": "code",
   "execution_count": 3,
   "metadata": {},
   "outputs": [],
   "source": [
    "# Reading CSV\n",
    "df = pl.read_csv(\"data/diamonds.csv\")"
   ]
  },
  {
   "cell_type": "code",
   "execution_count": 4,
   "metadata": {},
   "outputs": [
    {
     "data": {
      "text/plain": [
       "pypolars.frame.DataFrame"
      ]
     },
     "execution_count": 4,
     "metadata": {},
     "output_type": "execute_result"
    }
   ],
   "source": [
    "# Check Type\n",
    "type(df)"
   ]
  },
  {
   "cell_type": "code",
   "execution_count": 5,
   "metadata": {},
   "outputs": [
    {
     "data": {
      "text/plain": [
       "shape: (5, 10)\n",
       "╭───────┬─────────┬───────┬─────────┬─────┬───────┬───────┬───────┬──────╮\n",
       "│ carat ┆ cut     ┆ color ┆ clarity ┆ ... ┆ depth ┆ table ┆ price ┆ x    │\n",
       "│ ---   ┆ ---     ┆ ---   ┆ ---     ┆     ┆ ---   ┆ ---   ┆ ---   ┆ ---  │\n",
       "│ f64   ┆ str     ┆ str   ┆ str     ┆     ┆ f64   ┆ f64   ┆ i64   ┆ f64  │\n",
       "╞═══════╪═════════╪═══════╪═════════╪═════╪═══════╪═══════╪═══════╪══════╡\n",
       "│ 0.23  ┆ Ideal   ┆ E     ┆ SI2     ┆ ... ┆ 61.5  ┆ 55    ┆ 326   ┆ 3.95 │\n",
       "├╌╌╌╌╌╌╌┼╌╌╌╌╌╌╌╌╌┼╌╌╌╌╌╌╌┼╌╌╌╌╌╌╌╌╌┼╌╌╌╌╌┼╌╌╌╌╌╌╌┼╌╌╌╌╌╌╌┼╌╌╌╌╌╌╌┼╌╌╌╌╌╌┤\n",
       "│ 0.21  ┆ Premium ┆ E     ┆ SI1     ┆ ... ┆ 59.8  ┆ 61    ┆ 326   ┆ 3.89 │\n",
       "├╌╌╌╌╌╌╌┼╌╌╌╌╌╌╌╌╌┼╌╌╌╌╌╌╌┼╌╌╌╌╌╌╌╌╌┼╌╌╌╌╌┼╌╌╌╌╌╌╌┼╌╌╌╌╌╌╌┼╌╌╌╌╌╌╌┼╌╌╌╌╌╌┤\n",
       "│ 0.23  ┆ Good    ┆ E     ┆ VS1     ┆ ... ┆ 56.9  ┆ 65    ┆ 327   ┆ 4.05 │\n",
       "├╌╌╌╌╌╌╌┼╌╌╌╌╌╌╌╌╌┼╌╌╌╌╌╌╌┼╌╌╌╌╌╌╌╌╌┼╌╌╌╌╌┼╌╌╌╌╌╌╌┼╌╌╌╌╌╌╌┼╌╌╌╌╌╌╌┼╌╌╌╌╌╌┤\n",
       "│ 0.29  ┆ Premium ┆ I     ┆ VS2     ┆ ... ┆ 62.4  ┆ 58    ┆ 334   ┆ 4.2  │\n",
       "├╌╌╌╌╌╌╌┼╌╌╌╌╌╌╌╌╌┼╌╌╌╌╌╌╌┼╌╌╌╌╌╌╌╌╌┼╌╌╌╌╌┼╌╌╌╌╌╌╌┼╌╌╌╌╌╌╌┼╌╌╌╌╌╌╌┼╌╌╌╌╌╌┤\n",
       "│ 0.31  ┆ Good    ┆ J     ┆ SI2     ┆ ... ┆ 63.3  ┆ 58    ┆ 335   ┆ 4.34 │\n",
       "╰───────┴─────────┴───────┴─────────┴─────┴───────┴───────┴───────┴──────╯"
      ]
     },
     "execution_count": 5,
     "metadata": {},
     "output_type": "execute_result"
    }
   ],
   "source": [
    "# Head/First Rows\n",
    "df.head()"
   ]
  },
  {
   "cell_type": "code",
   "execution_count": 6,
   "metadata": {
    "collapsed": true,
    "jupyter": {
     "outputs_hidden": true
    }
   },
   "outputs": [
    {
     "data": {
      "text/plain": [
       "shape: (10, 10)\n",
       "╭───────┬───────────┬───────┬─────────┬─────┬───────┬───────┬───────┬──────╮\n",
       "│ carat ┆ cut       ┆ color ┆ clarity ┆ ... ┆ depth ┆ table ┆ price ┆ x    │\n",
       "│ ---   ┆ ---       ┆ ---   ┆ ---     ┆     ┆ ---   ┆ ---   ┆ ---   ┆ ---  │\n",
       "│ f64   ┆ str       ┆ str   ┆ str     ┆     ┆ f64   ┆ f64   ┆ i64   ┆ f64  │\n",
       "╞═══════╪═══════════╪═══════╪═════════╪═════╪═══════╪═══════╪═══════╪══════╡\n",
       "│ 0.71  ┆ Premium   ┆ E     ┆ SI1     ┆ ... ┆ 60.5  ┆ 55    ┆ 2756  ┆ 5.79 │\n",
       "├╌╌╌╌╌╌╌┼╌╌╌╌╌╌╌╌╌╌╌┼╌╌╌╌╌╌╌┼╌╌╌╌╌╌╌╌╌┼╌╌╌╌╌┼╌╌╌╌╌╌╌┼╌╌╌╌╌╌╌┼╌╌╌╌╌╌╌┼╌╌╌╌╌╌┤\n",
       "│ 0.71  ┆ Premium   ┆ F     ┆ SI1     ┆ ... ┆ 59.8  ┆ 62    ┆ 2756  ┆ 5.74 │\n",
       "├╌╌╌╌╌╌╌┼╌╌╌╌╌╌╌╌╌╌╌┼╌╌╌╌╌╌╌┼╌╌╌╌╌╌╌╌╌┼╌╌╌╌╌┼╌╌╌╌╌╌╌┼╌╌╌╌╌╌╌┼╌╌╌╌╌╌╌┼╌╌╌╌╌╌┤\n",
       "│ 0.7   ┆ Very Good ┆ E     ┆ VS2     ┆ ... ┆ 60.5  ┆ 59    ┆ 2757  ┆ 5.71 │\n",
       "├╌╌╌╌╌╌╌┼╌╌╌╌╌╌╌╌╌╌╌┼╌╌╌╌╌╌╌┼╌╌╌╌╌╌╌╌╌┼╌╌╌╌╌┼╌╌╌╌╌╌╌┼╌╌╌╌╌╌╌┼╌╌╌╌╌╌╌┼╌╌╌╌╌╌┤\n",
       "│ 0.7   ┆ Very Good ┆ E     ┆ VS2     ┆ ... ┆ 61.2  ┆ 59    ┆ 2757  ┆ 5.69 │\n",
       "├╌╌╌╌╌╌╌┼╌╌╌╌╌╌╌╌╌╌╌┼╌╌╌╌╌╌╌┼╌╌╌╌╌╌╌╌╌┼╌╌╌╌╌┼╌╌╌╌╌╌╌┼╌╌╌╌╌╌╌┼╌╌╌╌╌╌╌┼╌╌╌╌╌╌┤\n",
       "│ ...   ┆ ...       ┆ ...   ┆ ...     ┆ ... ┆ ...   ┆ ...   ┆ ...   ┆ ...  │\n",
       "├╌╌╌╌╌╌╌┼╌╌╌╌╌╌╌╌╌╌╌┼╌╌╌╌╌╌╌┼╌╌╌╌╌╌╌╌╌┼╌╌╌╌╌┼╌╌╌╌╌╌╌┼╌╌╌╌╌╌╌┼╌╌╌╌╌╌╌┼╌╌╌╌╌╌┤\n",
       "│ 0.72  ┆ Ideal     ┆ D     ┆ SI1     ┆ ... ┆ 60.8  ┆ 57    ┆ 2757  ┆ 5.75 │\n",
       "├╌╌╌╌╌╌╌┼╌╌╌╌╌╌╌╌╌╌╌┼╌╌╌╌╌╌╌┼╌╌╌╌╌╌╌╌╌┼╌╌╌╌╌┼╌╌╌╌╌╌╌┼╌╌╌╌╌╌╌┼╌╌╌╌╌╌╌┼╌╌╌╌╌╌┤\n",
       "│ 0.72  ┆ Good      ┆ D     ┆ SI1     ┆ ... ┆ 63.1  ┆ 55    ┆ 2757  ┆ 5.69 │\n",
       "├╌╌╌╌╌╌╌┼╌╌╌╌╌╌╌╌╌╌╌┼╌╌╌╌╌╌╌┼╌╌╌╌╌╌╌╌╌┼╌╌╌╌╌┼╌╌╌╌╌╌╌┼╌╌╌╌╌╌╌┼╌╌╌╌╌╌╌┼╌╌╌╌╌╌┤\n",
       "│ 0.7   ┆ Very Good ┆ D     ┆ SI1     ┆ ... ┆ 62.8  ┆ 60    ┆ 2757  ┆ 5.66 │\n",
       "├╌╌╌╌╌╌╌┼╌╌╌╌╌╌╌╌╌╌╌┼╌╌╌╌╌╌╌┼╌╌╌╌╌╌╌╌╌┼╌╌╌╌╌┼╌╌╌╌╌╌╌┼╌╌╌╌╌╌╌┼╌╌╌╌╌╌╌┼╌╌╌╌╌╌┤\n",
       "│ 0.86  ┆ Premium   ┆ H     ┆ SI2     ┆ ... ┆ 61    ┆ 58    ┆ 2757  ┆ 6.15 │\n",
       "├╌╌╌╌╌╌╌┼╌╌╌╌╌╌╌╌╌╌╌┼╌╌╌╌╌╌╌┼╌╌╌╌╌╌╌╌╌┼╌╌╌╌╌┼╌╌╌╌╌╌╌┼╌╌╌╌╌╌╌┼╌╌╌╌╌╌╌┼╌╌╌╌╌╌┤\n",
       "│ 0.75  ┆ Ideal     ┆ D     ┆ SI2     ┆ ... ┆ 62.2  ┆ 55    ┆ 2757  ┆ 5.83 │\n",
       "╰───────┴───────────┴───────┴─────────┴─────┴───────┴───────┴───────┴──────╯"
      ]
     },
     "execution_count": 6,
     "metadata": {},
     "output_type": "execute_result"
    }
   ],
   "source": [
    "# Last 10 Rows\n",
    "df.tail(10)"
   ]
  },
  {
   "cell_type": "code",
   "execution_count": 7,
   "metadata": {},
   "outputs": [
    {
     "data": {
      "text/plain": [
       "(53940, 10)"
      ]
     },
     "execution_count": 7,
     "metadata": {},
     "output_type": "execute_result"
    }
   ],
   "source": [
    "# Check For Shape\n",
    "df.shape"
   ]
  },
  {
   "cell_type": "code",
   "execution_count": 8,
   "metadata": {},
   "outputs": [
    {
     "data": {
      "text/plain": [
       "[pypolars.datatypes.Float64,\n",
       " pypolars.datatypes.Utf8,\n",
       " pypolars.datatypes.Utf8,\n",
       " pypolars.datatypes.Utf8,\n",
       " pypolars.datatypes.Float64,\n",
       " pypolars.datatypes.Float64,\n",
       " pypolars.datatypes.Int64,\n",
       " pypolars.datatypes.Float64,\n",
       " pypolars.datatypes.Float64,\n",
       " pypolars.datatypes.Float64]"
      ]
     },
     "execution_count": 8,
     "metadata": {},
     "output_type": "execute_result"
    }
   ],
   "source": [
    "# Check For Datatypes\n",
    "df.dtypes"
   ]
  },
  {
   "cell_type": "code",
   "execution_count": 9,
   "metadata": {},
   "outputs": [
    {
     "data": {
      "text/plain": [
       "['carat', 'cut', 'color', 'clarity', 'depth', 'table', 'price', 'x', 'y', 'z']"
      ]
     },
     "execution_count": 9,
     "metadata": {},
     "output_type": "execute_result"
    }
   ],
   "source": [
    "# Check For Column Names\n",
    "df.columns"
   ]
  },
  {
   "cell_type": "code",
   "execution_count": 10,
   "metadata": {
    "collapsed": true,
    "jupyter": {
     "outputs_hidden": true
    }
   },
   "outputs": [
    {
     "data": {
      "text/plain": [
       "['__add__',\n",
       " '__class__',\n",
       " '__delattr__',\n",
       " '__dict__',\n",
       " '__dir__',\n",
       " '__doc__',\n",
       " '__eq__',\n",
       " '__format__',\n",
       " '__ge__',\n",
       " '__getattr__',\n",
       " '__getattribute__',\n",
       " '__getitem__',\n",
       " '__gt__',\n",
       " '__hash__',\n",
       " '__init__',\n",
       " '__init_subclass__',\n",
       " '__iter__',\n",
       " '__le__',\n",
       " '__len__',\n",
       " '__lt__',\n",
       " '__module__',\n",
       " '__mul__',\n",
       " '__ne__',\n",
       " '__new__',\n",
       " '__reduce__',\n",
       " '__reduce_ex__',\n",
       " '__repr__',\n",
       " '__setattr__',\n",
       " '__setitem__',\n",
       " '__sizeof__',\n",
       " '__str__',\n",
       " '__sub__',\n",
       " '__subclasshook__',\n",
       " '__truediv__',\n",
       " '__weakref__',\n",
       " '_df',\n",
       " '_from_pydf',\n",
       " '_rechunk',\n",
       " 'clone',\n",
       " 'columns',\n",
       " 'drop',\n",
       " 'drop_duplicates',\n",
       " 'drop_in_place',\n",
       " 'drop_nulls',\n",
       " 'dtypes',\n",
       " 'explode',\n",
       " 'fill_none',\n",
       " 'frame_equal',\n",
       " 'get_columns',\n",
       " 'groupby',\n",
       " 'head',\n",
       " 'height',\n",
       " 'hstack',\n",
       " 'insert_at_idx',\n",
       " 'is_duplicated',\n",
       " 'is_unique',\n",
       " 'join',\n",
       " 'lazy',\n",
       " 'max',\n",
       " 'mean',\n",
       " 'median',\n",
       " 'melt',\n",
       " 'min',\n",
       " 'n_chunks',\n",
       " 'pipe',\n",
       " 'quantile',\n",
       " 'read_csv',\n",
       " 'read_ipc',\n",
       " 'read_parquet',\n",
       " 'replace',\n",
       " 'replace_at_idx',\n",
       " 'sample',\n",
       " 'select_at_idx',\n",
       " 'shape',\n",
       " 'shift',\n",
       " 'slice',\n",
       " 'sort',\n",
       " 'std',\n",
       " 'sum',\n",
       " 'tail',\n",
       " 'to_csv',\n",
       " 'to_dummies',\n",
       " 'to_ipc',\n",
       " 'to_numpy',\n",
       " 'to_pandas',\n",
       " 'var',\n",
       " 'vstack',\n",
       " 'width']"
      ]
     },
     "execution_count": 10,
     "metadata": {},
     "output_type": "execute_result"
    }
   ],
   "source": [
    "# Method/Attrib on DF\n",
    "dir(df)"
   ]
  },
  {
   "cell_type": "code",
   "execution_count": 11,
   "metadata": {
    "collapsed": true,
    "jupyter": {
     "outputs_hidden": true
    }
   },
   "outputs": [
    {
     "ename": "AttributeError",
     "evalue": "describe not found",
     "output_type": "error",
     "traceback": [
      "\u001b[0;31m---------------------------------------------------------------------------\u001b[0m",
      "\u001b[0;31mRuntimeError\u001b[0m                              Traceback (most recent call last)",
      "\u001b[0;32m/usr/local/lib/python3.7/dist-packages/pypolars/frame.py\u001b[0m in \u001b[0;36m__getattr__\u001b[0;34m(self, item)\u001b[0m\n\u001b[1;32m    260\u001b[0m         \u001b[0;32mtry\u001b[0m\u001b[0;34m:\u001b[0m\u001b[0;34m\u001b[0m\u001b[0;34m\u001b[0m\u001b[0m\n\u001b[0;32m--> 261\u001b[0;31m             \u001b[0;32mreturn\u001b[0m \u001b[0mwrap_s\u001b[0m\u001b[0;34m(\u001b[0m\u001b[0mself\u001b[0m\u001b[0;34m.\u001b[0m\u001b[0m_df\u001b[0m\u001b[0;34m.\u001b[0m\u001b[0mcolumn\u001b[0m\u001b[0;34m(\u001b[0m\u001b[0mitem\u001b[0m\u001b[0;34m)\u001b[0m\u001b[0;34m)\u001b[0m\u001b[0;34m\u001b[0m\u001b[0;34m\u001b[0m\u001b[0m\n\u001b[0m\u001b[1;32m    262\u001b[0m         \u001b[0;32mexcept\u001b[0m \u001b[0mRuntimeError\u001b[0m\u001b[0;34m:\u001b[0m\u001b[0;34m\u001b[0m\u001b[0;34m\u001b[0m\u001b[0m\n",
      "\u001b[0;31mRuntimeError\u001b[0m: Any(NotFound(\"describe\"))",
      "\nDuring handling of the above exception, another exception occurred:\n",
      "\u001b[0;31mAttributeError\u001b[0m                            Traceback (most recent call last)",
      "\u001b[0;32m<ipython-input-11-f517d93c89f7>\u001b[0m in \u001b[0;36m<module>\u001b[0;34m\u001b[0m\n\u001b[1;32m      1\u001b[0m \u001b[0;31m# Not Working\u001b[0m\u001b[0;34m\u001b[0m\u001b[0;34m\u001b[0m\u001b[0;34m\u001b[0m\u001b[0m\n\u001b[0;32m----> 2\u001b[0;31m \u001b[0mdf\u001b[0m\u001b[0;34m.\u001b[0m\u001b[0mdescribe\u001b[0m\u001b[0;34m(\u001b[0m\u001b[0;34m)\u001b[0m\u001b[0;34m\u001b[0m\u001b[0;34m\u001b[0m\u001b[0m\n\u001b[0m",
      "\u001b[0;32m/usr/local/lib/python3.7/dist-packages/pypolars/frame.py\u001b[0m in \u001b[0;36m__getattr__\u001b[0;34m(self, item)\u001b[0m\n\u001b[1;32m    261\u001b[0m             \u001b[0;32mreturn\u001b[0m \u001b[0mwrap_s\u001b[0m\u001b[0;34m(\u001b[0m\u001b[0mself\u001b[0m\u001b[0;34m.\u001b[0m\u001b[0m_df\u001b[0m\u001b[0;34m.\u001b[0m\u001b[0mcolumn\u001b[0m\u001b[0;34m(\u001b[0m\u001b[0mitem\u001b[0m\u001b[0;34m)\u001b[0m\u001b[0;34m)\u001b[0m\u001b[0;34m\u001b[0m\u001b[0;34m\u001b[0m\u001b[0m\n\u001b[1;32m    262\u001b[0m         \u001b[0;32mexcept\u001b[0m \u001b[0mRuntimeError\u001b[0m\u001b[0;34m:\u001b[0m\u001b[0;34m\u001b[0m\u001b[0;34m\u001b[0m\u001b[0m\n\u001b[0;32m--> 263\u001b[0;31m             \u001b[0;32mraise\u001b[0m \u001b[0mAttributeError\u001b[0m\u001b[0;34m(\u001b[0m\u001b[0;34mf\"{item} not found\"\u001b[0m\u001b[0;34m)\u001b[0m\u001b[0;34m\u001b[0m\u001b[0;34m\u001b[0m\u001b[0m\n\u001b[0m\u001b[1;32m    264\u001b[0m \u001b[0;34m\u001b[0m\u001b[0m\n\u001b[1;32m    265\u001b[0m     \u001b[0;32mdef\u001b[0m \u001b[0m__iter__\u001b[0m\u001b[0;34m(\u001b[0m\u001b[0mself\u001b[0m\u001b[0;34m)\u001b[0m\u001b[0;34m:\u001b[0m\u001b[0;34m\u001b[0m\u001b[0;34m\u001b[0m\u001b[0m\n",
      "\u001b[0;31mAttributeError\u001b[0m: describe not found"
     ]
    }
   ],
   "source": [
    "# Not Working\n",
    "df.describe()"
   ]
  },
  {
   "cell_type": "code",
   "execution_count": 12,
   "metadata": {},
   "outputs": [
    {
     "data": {
      "text/html": [
       "<div>\n",
       "<style scoped>\n",
       "    .dataframe tbody tr th:only-of-type {\n",
       "        vertical-align: middle;\n",
       "    }\n",
       "\n",
       "    .dataframe tbody tr th {\n",
       "        vertical-align: top;\n",
       "    }\n",
       "\n",
       "    .dataframe thead th {\n",
       "        text-align: right;\n",
       "    }\n",
       "</style>\n",
       "<table border=\"1\" class=\"dataframe\">\n",
       "  <thead>\n",
       "    <tr style=\"text-align: right;\">\n",
       "      <th></th>\n",
       "      <th>carat</th>\n",
       "      <th>depth</th>\n",
       "      <th>table</th>\n",
       "      <th>price</th>\n",
       "      <th>x</th>\n",
       "      <th>y</th>\n",
       "      <th>z</th>\n",
       "    </tr>\n",
       "  </thead>\n",
       "  <tbody>\n",
       "    <tr>\n",
       "      <th>count</th>\n",
       "      <td>53940.000000</td>\n",
       "      <td>53940.000000</td>\n",
       "      <td>53940.000000</td>\n",
       "      <td>53940.000000</td>\n",
       "      <td>53940.000000</td>\n",
       "      <td>53940.000000</td>\n",
       "      <td>53940.000000</td>\n",
       "    </tr>\n",
       "    <tr>\n",
       "      <th>mean</th>\n",
       "      <td>0.797940</td>\n",
       "      <td>61.749405</td>\n",
       "      <td>57.457184</td>\n",
       "      <td>3932.799722</td>\n",
       "      <td>5.731157</td>\n",
       "      <td>5.734526</td>\n",
       "      <td>3.538734</td>\n",
       "    </tr>\n",
       "    <tr>\n",
       "      <th>std</th>\n",
       "      <td>0.474011</td>\n",
       "      <td>1.432621</td>\n",
       "      <td>2.234491</td>\n",
       "      <td>3989.439738</td>\n",
       "      <td>1.121761</td>\n",
       "      <td>1.142135</td>\n",
       "      <td>0.705699</td>\n",
       "    </tr>\n",
       "    <tr>\n",
       "      <th>min</th>\n",
       "      <td>0.200000</td>\n",
       "      <td>43.000000</td>\n",
       "      <td>43.000000</td>\n",
       "      <td>326.000000</td>\n",
       "      <td>0.000000</td>\n",
       "      <td>0.000000</td>\n",
       "      <td>0.000000</td>\n",
       "    </tr>\n",
       "    <tr>\n",
       "      <th>25%</th>\n",
       "      <td>0.400000</td>\n",
       "      <td>61.000000</td>\n",
       "      <td>56.000000</td>\n",
       "      <td>950.000000</td>\n",
       "      <td>4.710000</td>\n",
       "      <td>4.720000</td>\n",
       "      <td>2.910000</td>\n",
       "    </tr>\n",
       "    <tr>\n",
       "      <th>50%</th>\n",
       "      <td>0.700000</td>\n",
       "      <td>61.800000</td>\n",
       "      <td>57.000000</td>\n",
       "      <td>2401.000000</td>\n",
       "      <td>5.700000</td>\n",
       "      <td>5.710000</td>\n",
       "      <td>3.530000</td>\n",
       "    </tr>\n",
       "    <tr>\n",
       "      <th>75%</th>\n",
       "      <td>1.040000</td>\n",
       "      <td>62.500000</td>\n",
       "      <td>59.000000</td>\n",
       "      <td>5324.250000</td>\n",
       "      <td>6.540000</td>\n",
       "      <td>6.540000</td>\n",
       "      <td>4.040000</td>\n",
       "    </tr>\n",
       "    <tr>\n",
       "      <th>max</th>\n",
       "      <td>5.010000</td>\n",
       "      <td>79.000000</td>\n",
       "      <td>95.000000</td>\n",
       "      <td>18823.000000</td>\n",
       "      <td>10.740000</td>\n",
       "      <td>58.900000</td>\n",
       "      <td>31.800000</td>\n",
       "    </tr>\n",
       "  </tbody>\n",
       "</table>\n",
       "</div>"
      ],
      "text/plain": [
       "              carat         depth         table         price             x  \\\n",
       "count  53940.000000  53940.000000  53940.000000  53940.000000  53940.000000   \n",
       "mean       0.797940     61.749405     57.457184   3932.799722      5.731157   \n",
       "std        0.474011      1.432621      2.234491   3989.439738      1.121761   \n",
       "min        0.200000     43.000000     43.000000    326.000000      0.000000   \n",
       "25%        0.400000     61.000000     56.000000    950.000000      4.710000   \n",
       "50%        0.700000     61.800000     57.000000   2401.000000      5.700000   \n",
       "75%        1.040000     62.500000     59.000000   5324.250000      6.540000   \n",
       "max        5.010000     79.000000     95.000000  18823.000000     10.740000   \n",
       "\n",
       "                  y             z  \n",
       "count  53940.000000  53940.000000  \n",
       "mean       5.734526      3.538734  \n",
       "std        1.142135      0.705699  \n",
       "min        0.000000      0.000000  \n",
       "25%        4.720000      2.910000  \n",
       "50%        5.710000      3.530000  \n",
       "75%        6.540000      4.040000  \n",
       "max       58.900000     31.800000  "
      ]
     },
     "execution_count": 12,
     "metadata": {},
     "output_type": "execute_result"
    }
   ],
   "source": [
    "# Alternative Using Pandas\n",
    "df.to_pandas().describe()"
   ]
  },
  {
   "cell_type": "markdown",
   "metadata": {},
   "source": [
    "#### Selection \n",
    "+ By Columns By Name/Index\n",
    "+ By Rows "
   ]
  },
  {
   "cell_type": "code",
   "execution_count": 17,
   "metadata": {},
   "outputs": [
    {
     "data": {
      "text/plain": [
       "['carat', 'cut', 'color', 'clarity', 'depth', 'table', 'price', 'x', 'y', 'z']"
      ]
     },
     "execution_count": 17,
     "metadata": {},
     "output_type": "execute_result"
    }
   ],
   "source": [
    "df.columns"
   ]
  },
  {
   "cell_type": "code",
   "execution_count": 18,
   "metadata": {
    "collapsed": true,
    "jupyter": {
     "outputs_hidden": true
    }
   },
   "outputs": [
    {
     "data": {
      "text/plain": [
       "Series: 'carat' [f64]\n",
       "[\n",
       "\t0.23\n",
       "\t0.21\n",
       "\t0.23\n",
       "\t0.29\n",
       "\t0.31\n",
       "\t0.24\n",
       "\t0.24\n",
       "\t0.26\n",
       "\t0.22\n",
       "\t0.23\n",
       "]"
      ]
     },
     "execution_count": 18,
     "metadata": {},
     "output_type": "execute_result"
    }
   ],
   "source": [
    "# Select Columns By Col Name\n",
    "# pandas:: df['carat']\n",
    "df['carat']"
   ]
  },
  {
   "cell_type": "code",
   "execution_count": 19,
   "metadata": {
    "collapsed": true,
    "jupyter": {
     "outputs_hidden": true
    }
   },
   "outputs": [
    {
     "data": {
      "text/plain": [
       "Series: 'carat' [f64]\n",
       "[\n",
       "\t0.23\n",
       "\t0.21\n",
       "\t0.23\n",
       "\t0.29\n",
       "\t0.31\n",
       "\t0.24\n",
       "\t0.24\n",
       "\t0.26\n",
       "\t0.22\n",
       "\t0.23\n",
       "]"
      ]
     },
     "execution_count": 19,
     "metadata": {},
     "output_type": "execute_result"
    }
   ],
   "source": [
    "# Select Columns By Index\n",
    "df[0]"
   ]
  },
  {
   "cell_type": "code",
   "execution_count": 20,
   "metadata": {
    "collapsed": true,
    "jupyter": {
     "outputs_hidden": true
    }
   },
   "outputs": [
    {
     "data": {
      "text/plain": [
       "shape: (53940, 2)\n",
       "╭───────┬───────╮\n",
       "│ carat ┆ price │\n",
       "│ ---   ┆ ---   │\n",
       "│ f64   ┆ i64   │\n",
       "╞═══════╪═══════╡\n",
       "│ 0.23  ┆ 326   │\n",
       "├╌╌╌╌╌╌╌┼╌╌╌╌╌╌╌┤\n",
       "│ 0.21  ┆ 326   │\n",
       "├╌╌╌╌╌╌╌┼╌╌╌╌╌╌╌┤\n",
       "│ 0.23  ┆ 327   │\n",
       "├╌╌╌╌╌╌╌┼╌╌╌╌╌╌╌┤\n",
       "│ 0.29  ┆ 334   │\n",
       "├╌╌╌╌╌╌╌┼╌╌╌╌╌╌╌┤\n",
       "│ ...   ┆ ...   │\n",
       "├╌╌╌╌╌╌╌┼╌╌╌╌╌╌╌┤\n",
       "│ 0.72  ┆ 2757  │\n",
       "├╌╌╌╌╌╌╌┼╌╌╌╌╌╌╌┤\n",
       "│ 0.72  ┆ 2757  │\n",
       "├╌╌╌╌╌╌╌┼╌╌╌╌╌╌╌┤\n",
       "│ 0.7   ┆ 2757  │\n",
       "├╌╌╌╌╌╌╌┼╌╌╌╌╌╌╌┤\n",
       "│ 0.86  ┆ 2757  │\n",
       "├╌╌╌╌╌╌╌┼╌╌╌╌╌╌╌┤\n",
       "│ 0.75  ┆ 2757  │\n",
       "╰───────┴───────╯"
      ]
     },
     "execution_count": 20,
     "metadata": {},
     "output_type": "execute_result"
    }
   ],
   "source": [
    "# Select Multiple Columns\n",
    "df[['carat','price']]"
   ]
  },
  {
   "cell_type": "code",
   "execution_count": 22,
   "metadata": {},
   "outputs": [
    {
     "data": {
      "text/plain": [
       "Series: 'carat' [f64]\n",
       "[\n",
       "\t0.23\n",
       "\t0.21\n",
       "\t0.23\n",
       "\t0.29\n",
       "\t0.31\n",
       "\t0.24\n",
       "\t0.24\n",
       "\t0.26\n",
       "\t0.22\n",
       "\t0.23\n",
       "]"
      ]
     },
     "execution_count": 22,
     "metadata": {},
     "output_type": "execute_result"
    }
   ],
   "source": [
    "# Select By Index Position for columns\n",
    "#  df[0] same in pandas\n",
    "df.select_at_idx(0)"
   ]
  },
  {
   "cell_type": "code",
   "execution_count": 23,
   "metadata": {},
   "outputs": [
    {
     "data": {
      "text/plain": [
       "shape: (3, 10)\n",
       "╭───────┬─────────┬───────┬─────────┬─────┬───────┬───────┬───────┬──────╮\n",
       "│ carat ┆ cut     ┆ color ┆ clarity ┆ ... ┆ depth ┆ table ┆ price ┆ x    │\n",
       "│ ---   ┆ ---     ┆ ---   ┆ ---     ┆     ┆ ---   ┆ ---   ┆ ---   ┆ ---  │\n",
       "│ f64   ┆ str     ┆ str   ┆ str     ┆     ┆ f64   ┆ f64   ┆ i64   ┆ f64  │\n",
       "╞═══════╪═════════╪═══════╪═════════╪═════╪═══════╪═══════╪═══════╪══════╡\n",
       "│ 0.23  ┆ Ideal   ┆ E     ┆ SI2     ┆ ... ┆ 61.5  ┆ 55    ┆ 326   ┆ 3.95 │\n",
       "├╌╌╌╌╌╌╌┼╌╌╌╌╌╌╌╌╌┼╌╌╌╌╌╌╌┼╌╌╌╌╌╌╌╌╌┼╌╌╌╌╌┼╌╌╌╌╌╌╌┼╌╌╌╌╌╌╌┼╌╌╌╌╌╌╌┼╌╌╌╌╌╌┤\n",
       "│ 0.21  ┆ Premium ┆ E     ┆ SI1     ┆ ... ┆ 59.8  ┆ 61    ┆ 326   ┆ 3.89 │\n",
       "├╌╌╌╌╌╌╌┼╌╌╌╌╌╌╌╌╌┼╌╌╌╌╌╌╌┼╌╌╌╌╌╌╌╌╌┼╌╌╌╌╌┼╌╌╌╌╌╌╌┼╌╌╌╌╌╌╌┼╌╌╌╌╌╌╌┼╌╌╌╌╌╌┤\n",
       "│ 0.23  ┆ Good    ┆ E     ┆ VS1     ┆ ... ┆ 56.9  ┆ 65    ┆ 327   ┆ 4.05 │\n",
       "╰───────┴─────────┴───────┴─────────┴─────┴───────┴───────┴───────┴──────╯"
      ]
     },
     "execution_count": 23,
     "metadata": {},
     "output_type": "execute_result"
    }
   ],
   "source": [
    "# Select By Rows\n",
    "# Select rows 0 to 3 and all columns\n",
    "# df.iloc[0:3]\n",
    "df[0:3]"
   ]
  },
  {
   "cell_type": "code",
   "execution_count": 24,
   "metadata": {},
   "outputs": [
    {
     "data": {
      "text/plain": [
       "shape: (3, 10)\n",
       "╭───────┬─────────┬───────┬─────────┬─────┬───────┬───────┬───────┬──────╮\n",
       "│ carat ┆ cut     ┆ color ┆ clarity ┆ ... ┆ depth ┆ table ┆ price ┆ x    │\n",
       "│ ---   ┆ ---     ┆ ---   ┆ ---     ┆     ┆ ---   ┆ ---   ┆ ---   ┆ ---  │\n",
       "│ f64   ┆ str     ┆ str   ┆ str     ┆     ┆ f64   ┆ f64   ┆ i64   ┆ f64  │\n",
       "╞═══════╪═════════╪═══════╪═════════╪═════╪═══════╪═══════╪═══════╪══════╡\n",
       "│ 0.23  ┆ Ideal   ┆ E     ┆ SI2     ┆ ... ┆ 61.5  ┆ 55    ┆ 326   ┆ 3.95 │\n",
       "├╌╌╌╌╌╌╌┼╌╌╌╌╌╌╌╌╌┼╌╌╌╌╌╌╌┼╌╌╌╌╌╌╌╌╌┼╌╌╌╌╌┼╌╌╌╌╌╌╌┼╌╌╌╌╌╌╌┼╌╌╌╌╌╌╌┼╌╌╌╌╌╌┤\n",
       "│ 0.21  ┆ Premium ┆ E     ┆ SI1     ┆ ... ┆ 59.8  ┆ 61    ┆ 326   ┆ 3.89 │\n",
       "├╌╌╌╌╌╌╌┼╌╌╌╌╌╌╌╌╌┼╌╌╌╌╌╌╌┼╌╌╌╌╌╌╌╌╌┼╌╌╌╌╌┼╌╌╌╌╌╌╌┼╌╌╌╌╌╌╌┼╌╌╌╌╌╌╌┼╌╌╌╌╌╌┤\n",
       "│ 0.23  ┆ Good    ┆ E     ┆ VS1     ┆ ... ┆ 56.9  ┆ 65    ┆ 327   ┆ 4.05 │\n",
       "╰───────┴─────────┴───────┴─────────┴─────┴───────┴───────┴───────┴──────╯"
      ]
     },
     "execution_count": 24,
     "metadata": {},
     "output_type": "execute_result"
    }
   ],
   "source": [
    "# SLicing 0 to length of rows\n",
    "# df.iloc[0:3]\n",
    "df.slice(0,3)"
   ]
  },
  {
   "cell_type": "code",
   "execution_count": 28,
   "metadata": {},
   "outputs": [
    {
     "data": {
      "text/plain": [
       "shape: (3, 1)\n",
       "╭───────╮\n",
       "│ carat │\n",
       "│ ---   │\n",
       "│ f64   │\n",
       "╞═══════╡\n",
       "│ 0.23  │\n",
       "├╌╌╌╌╌╌╌┤\n",
       "│ 0.21  │\n",
       "├╌╌╌╌╌╌╌┤\n",
       "│ 0.23  │\n",
       "╰───────╯"
      ]
     },
     "execution_count": 28,
     "metadata": {},
     "output_type": "execute_result"
    }
   ],
   "source": [
    "# Select from 3 rows of a column\n",
    "df[0:3,\"carat\"]"
   ]
  },
  {
   "cell_type": "code",
   "execution_count": 29,
   "metadata": {},
   "outputs": [
    {
     "data": {
      "text/plain": [
       "shape: (3, 1)\n",
       "╭───────╮\n",
       "│ carat │\n",
       "│ ---   │\n",
       "│ f64   │\n",
       "╞═══════╡\n",
       "│ 0.23  │\n",
       "├╌╌╌╌╌╌╌┤\n",
       "│ 0.31  │\n",
       "├╌╌╌╌╌╌╌┤\n",
       "│ 0.3   │\n",
       "╰───────╯"
      ]
     },
     "execution_count": 29,
     "metadata": {},
     "output_type": "execute_result"
    }
   ],
   "source": [
    "# Select from different rows of a column\n",
    "df[[0,4,10],\"carat\"]"
   ]
  },
  {
   "cell_type": "code",
   "execution_count": 30,
   "metadata": {},
   "outputs": [
    {
     "data": {
      "text/plain": [
       "shape: (3, 2)\n",
       "╭───────┬───────╮\n",
       "│ carat ┆ cut   │\n",
       "│ ---   ┆ ---   │\n",
       "│ f64   ┆ str   │\n",
       "╞═══════╪═══════╡\n",
       "│ 0.23  ┆ Ideal │\n",
       "├╌╌╌╌╌╌╌┼╌╌╌╌╌╌╌┤\n",
       "│ 0.31  ┆ Good  │\n",
       "├╌╌╌╌╌╌╌┼╌╌╌╌╌╌╌┤\n",
       "│ 0.3   ┆ Good  │\n",
       "╰───────┴───────╯"
      ]
     },
     "execution_count": 30,
     "metadata": {},
     "output_type": "execute_result"
    }
   ],
   "source": [
    "# Select from different rows of a multiple columns\n",
    "df[[0,4,10],[\"carat\",\"cut\"]]"
   ]
  },
  {
   "cell_type": "code",
   "execution_count": 31,
   "metadata": {},
   "outputs": [
    {
     "data": {
      "text/plain": [
       "shape: (5, 10)\n",
       "╭───────┬─────────┬───────┬─────────┬─────┬───────┬───────┬───────┬──────╮\n",
       "│ carat ┆ cut     ┆ color ┆ clarity ┆ ... ┆ depth ┆ table ┆ price ┆ x    │\n",
       "│ ---   ┆ ---     ┆ ---   ┆ ---     ┆     ┆ ---   ┆ ---   ┆ ---   ┆ ---  │\n",
       "│ f64   ┆ str     ┆ str   ┆ str     ┆     ┆ f64   ┆ f64   ┆ i64   ┆ f64  │\n",
       "╞═══════╪═════════╪═══════╪═════════╪═════╪═══════╪═══════╪═══════╪══════╡\n",
       "│ 0.23  ┆ Ideal   ┆ E     ┆ SI2     ┆ ... ┆ 61.5  ┆ 55    ┆ 326   ┆ 3.95 │\n",
       "├╌╌╌╌╌╌╌┼╌╌╌╌╌╌╌╌╌┼╌╌╌╌╌╌╌┼╌╌╌╌╌╌╌╌╌┼╌╌╌╌╌┼╌╌╌╌╌╌╌┼╌╌╌╌╌╌╌┼╌╌╌╌╌╌╌┼╌╌╌╌╌╌┤\n",
       "│ 0.21  ┆ Premium ┆ E     ┆ SI1     ┆ ... ┆ 59.8  ┆ 61    ┆ 326   ┆ 3.89 │\n",
       "├╌╌╌╌╌╌╌┼╌╌╌╌╌╌╌╌╌┼╌╌╌╌╌╌╌┼╌╌╌╌╌╌╌╌╌┼╌╌╌╌╌┼╌╌╌╌╌╌╌┼╌╌╌╌╌╌╌┼╌╌╌╌╌╌╌┼╌╌╌╌╌╌┤\n",
       "│ 0.23  ┆ Good    ┆ E     ┆ VS1     ┆ ... ┆ 56.9  ┆ 65    ┆ 327   ┆ 4.05 │\n",
       "├╌╌╌╌╌╌╌┼╌╌╌╌╌╌╌╌╌┼╌╌╌╌╌╌╌┼╌╌╌╌╌╌╌╌╌┼╌╌╌╌╌┼╌╌╌╌╌╌╌┼╌╌╌╌╌╌╌┼╌╌╌╌╌╌╌┼╌╌╌╌╌╌┤\n",
       "│ 0.29  ┆ Premium ┆ I     ┆ VS2     ┆ ... ┆ 62.4  ┆ 58    ┆ 334   ┆ 4.2  │\n",
       "├╌╌╌╌╌╌╌┼╌╌╌╌╌╌╌╌╌┼╌╌╌╌╌╌╌┼╌╌╌╌╌╌╌╌╌┼╌╌╌╌╌┼╌╌╌╌╌╌╌┼╌╌╌╌╌╌╌┼╌╌╌╌╌╌╌┼╌╌╌╌╌╌┤\n",
       "│ 0.31  ┆ Good    ┆ J     ┆ SI2     ┆ ... ┆ 63.3  ┆ 58    ┆ 335   ┆ 4.34 │\n",
       "╰───────┴─────────┴───────┴─────────┴─────┴───────┴───────┴───────┴──────╯"
      ]
     },
     "execution_count": 31,
     "metadata": {},
     "output_type": "execute_result"
    }
   ],
   "source": [
    "# Value Counts\n",
    "df.head()"
   ]
  },
  {
   "cell_type": "code",
   "execution_count": 32,
   "metadata": {},
   "outputs": [
    {
     "data": {
      "text/plain": [
       "shape: (5, 2)\n",
       "╭───────────┬────────╮\n",
       "│ cut       ┆ counts │\n",
       "│ ---       ┆ ---    │\n",
       "│ str       ┆ u32    │\n",
       "╞═══════════╪════════╡\n",
       "│ Ideal     ┆ 21551  │\n",
       "├╌╌╌╌╌╌╌╌╌╌╌┼╌╌╌╌╌╌╌╌┤\n",
       "│ Premium   ┆ 13791  │\n",
       "├╌╌╌╌╌╌╌╌╌╌╌┼╌╌╌╌╌╌╌╌┤\n",
       "│ Very Good ┆ 12082  │\n",
       "├╌╌╌╌╌╌╌╌╌╌╌┼╌╌╌╌╌╌╌╌┤\n",
       "│ Good      ┆ 4906   │\n",
       "├╌╌╌╌╌╌╌╌╌╌╌┼╌╌╌╌╌╌╌╌┤\n",
       "│ Fair      ┆ 1610   │\n",
       "╰───────────┴────────╯"
      ]
     },
     "execution_count": 32,
     "metadata": {},
     "output_type": "execute_result"
    }
   ],
   "source": [
    "df['cut'].value_counts()"
   ]
  },
  {
   "cell_type": "code",
   "execution_count": null,
   "metadata": {},
   "outputs": [],
   "source": [
    "# No Describe\n"
   ]
  },
  {
   "cell_type": "markdown",
   "metadata": {},
   "source": [
    "#### Applying Fxn and Filter\n",
    "+ apply fxn\n",
    "+ boolean index\n",
    "+ conditions"
   ]
  },
  {
   "cell_type": "code",
   "execution_count": 33,
   "metadata": {},
   "outputs": [
    {
     "data": {
      "text/plain": [
       "Series: 'cut' [str]\n",
       "[\n",
       "\t\"Very ...\"\n",
       "\t\"Good\"\n",
       "\t\"Fair\"\n",
       "\t\"Ideal...\"\n",
       "\t\"Premi...\"\n",
       "]"
      ]
     },
     "execution_count": 33,
     "metadata": {},
     "output_type": "execute_result"
    }
   ],
   "source": [
    "# Get Unique Values\n",
    "df['cut'].unique()"
   ]
  },
  {
   "cell_type": "code",
   "execution_count": 34,
   "metadata": {
    "collapsed": true,
    "jupyter": {
     "outputs_hidden": true
    }
   },
   "outputs": [
    {
     "data": {
      "text/plain": [
       "Series: 'cut' [bool]\n",
       "[\n",
       "\ttrue\n",
       "\tfalse\n",
       "\tfalse\n",
       "\tfalse\n",
       "\tfalse\n",
       "\tfalse\n",
       "\tfalse\n",
       "\tfalse\n",
       "\tfalse\n",
       "\tfalse\n",
       "]"
      ]
     },
     "execution_count": 34,
     "metadata": {},
     "output_type": "execute_result"
    }
   ],
   "source": [
    "# Boolean Indexing & Condition & Find \n",
    "# Find all rows/datapoint with cut as ideal\n",
    "df['cut'] == \"Ideal\""
   ]
  },
  {
   "cell_type": "code",
   "execution_count": 35,
   "metadata": {
    "collapsed": true,
    "jupyter": {
     "outputs_hidden": true
    }
   },
   "outputs": [
    {
     "data": {
      "text/plain": [
       "shape: (21551, 10)\n",
       "╭───────┬───────┬───────┬─────────┬─────┬───────┬───────┬───────┬──────╮\n",
       "│ carat ┆ cut   ┆ color ┆ clarity ┆ ... ┆ depth ┆ table ┆ price ┆ x    │\n",
       "│ ---   ┆ ---   ┆ ---   ┆ ---     ┆     ┆ ---   ┆ ---   ┆ ---   ┆ ---  │\n",
       "│ f64   ┆ str   ┆ str   ┆ str     ┆     ┆ f64   ┆ f64   ┆ i64   ┆ f64  │\n",
       "╞═══════╪═══════╪═══════╪═════════╪═════╪═══════╪═══════╪═══════╪══════╡\n",
       "│ 0.23  ┆ Ideal ┆ E     ┆ SI2     ┆ ... ┆ 61.5  ┆ 55    ┆ 326   ┆ 3.95 │\n",
       "├╌╌╌╌╌╌╌┼╌╌╌╌╌╌╌┼╌╌╌╌╌╌╌┼╌╌╌╌╌╌╌╌╌┼╌╌╌╌╌┼╌╌╌╌╌╌╌┼╌╌╌╌╌╌╌┼╌╌╌╌╌╌╌┼╌╌╌╌╌╌┤\n",
       "│ 0.23  ┆ Ideal ┆ J     ┆ VS1     ┆ ... ┆ 62.8  ┆ 56    ┆ 340   ┆ 3.93 │\n",
       "├╌╌╌╌╌╌╌┼╌╌╌╌╌╌╌┼╌╌╌╌╌╌╌┼╌╌╌╌╌╌╌╌╌┼╌╌╌╌╌┼╌╌╌╌╌╌╌┼╌╌╌╌╌╌╌┼╌╌╌╌╌╌╌┼╌╌╌╌╌╌┤\n",
       "│ 0.31  ┆ Ideal ┆ J     ┆ SI2     ┆ ... ┆ 62.2  ┆ 54    ┆ 344   ┆ 4.35 │\n",
       "├╌╌╌╌╌╌╌┼╌╌╌╌╌╌╌┼╌╌╌╌╌╌╌┼╌╌╌╌╌╌╌╌╌┼╌╌╌╌╌┼╌╌╌╌╌╌╌┼╌╌╌╌╌╌╌┼╌╌╌╌╌╌╌┼╌╌╌╌╌╌┤\n",
       "│ 0.3   ┆ Ideal ┆ I     ┆ SI2     ┆ ... ┆ 62    ┆ 54    ┆ 348   ┆ 4.31 │\n",
       "├╌╌╌╌╌╌╌┼╌╌╌╌╌╌╌┼╌╌╌╌╌╌╌┼╌╌╌╌╌╌╌╌╌┼╌╌╌╌╌┼╌╌╌╌╌╌╌┼╌╌╌╌╌╌╌┼╌╌╌╌╌╌╌┼╌╌╌╌╌╌┤\n",
       "│ ...   ┆ ...   ┆ ...   ┆ ...     ┆ ... ┆ ...   ┆ ...   ┆ ...   ┆ ...  │\n",
       "├╌╌╌╌╌╌╌┼╌╌╌╌╌╌╌┼╌╌╌╌╌╌╌┼╌╌╌╌╌╌╌╌╌┼╌╌╌╌╌┼╌╌╌╌╌╌╌┼╌╌╌╌╌╌╌┼╌╌╌╌╌╌╌┼╌╌╌╌╌╌┤\n",
       "│ 0.79  ┆ Ideal ┆ I     ┆ SI1     ┆ ... ┆ 61.6  ┆ 56    ┆ 2756  ┆ 5.95 │\n",
       "├╌╌╌╌╌╌╌┼╌╌╌╌╌╌╌┼╌╌╌╌╌╌╌┼╌╌╌╌╌╌╌╌╌┼╌╌╌╌╌┼╌╌╌╌╌╌╌┼╌╌╌╌╌╌╌┼╌╌╌╌╌╌╌┼╌╌╌╌╌╌┤\n",
       "│ 0.71  ┆ Ideal ┆ E     ┆ SI1     ┆ ... ┆ 61.9  ┆ 56    ┆ 2756  ┆ 5.71 │\n",
       "├╌╌╌╌╌╌╌┼╌╌╌╌╌╌╌┼╌╌╌╌╌╌╌┼╌╌╌╌╌╌╌╌╌┼╌╌╌╌╌┼╌╌╌╌╌╌╌┼╌╌╌╌╌╌╌┼╌╌╌╌╌╌╌┼╌╌╌╌╌╌┤\n",
       "│ 0.71  ┆ Ideal ┆ G     ┆ VS1     ┆ ... ┆ 61.4  ┆ 56    ┆ 2756  ┆ 5.76 │\n",
       "├╌╌╌╌╌╌╌┼╌╌╌╌╌╌╌┼╌╌╌╌╌╌╌┼╌╌╌╌╌╌╌╌╌┼╌╌╌╌╌┼╌╌╌╌╌╌╌┼╌╌╌╌╌╌╌┼╌╌╌╌╌╌╌┼╌╌╌╌╌╌┤\n",
       "│ 0.72  ┆ Ideal ┆ D     ┆ SI1     ┆ ... ┆ 60.8  ┆ 57    ┆ 2757  ┆ 5.75 │\n",
       "├╌╌╌╌╌╌╌┼╌╌╌╌╌╌╌┼╌╌╌╌╌╌╌┼╌╌╌╌╌╌╌╌╌┼╌╌╌╌╌┼╌╌╌╌╌╌╌┼╌╌╌╌╌╌╌┼╌╌╌╌╌╌╌┼╌╌╌╌╌╌┤\n",
       "│ 0.75  ┆ Ideal ┆ D     ┆ SI2     ┆ ... ┆ 62.2  ┆ 55    ┆ 2757  ┆ 5.83 │\n",
       "╰───────┴───────┴───────┴─────────┴─────┴───────┴───────┴───────┴──────╯"
      ]
     },
     "execution_count": 35,
     "metadata": {},
     "output_type": "execute_result"
    }
   ],
   "source": [
    "# Boolean Indexing & Condition & Find \n",
    "# Find all rows/datapoint with cut as ideal\n",
    "df[df['cut'] == \"Ideal\"]"
   ]
  },
  {
   "cell_type": "code",
   "execution_count": 37,
   "metadata": {
    "collapsed": true,
    "jupyter": {
     "outputs_hidden": true
    }
   },
   "outputs": [
    {
     "data": {
      "text/plain": [
       "shape: (53940, 10)\n",
       "╭───────┬───────────┬───────┬─────────┬─────┬───────┬───────┬───────┬──────╮\n",
       "│ carat ┆ cut       ┆ color ┆ clarity ┆ ... ┆ depth ┆ table ┆ price ┆ x    │\n",
       "│ ---   ┆ ---       ┆ ---   ┆ ---     ┆     ┆ ---   ┆ ---   ┆ ---   ┆ ---  │\n",
       "│ f64   ┆ str       ┆ str   ┆ str     ┆     ┆ f64   ┆ f64   ┆ i64   ┆ f64  │\n",
       "╞═══════╪═══════════╪═══════╪═════════╪═════╪═══════╪═══════╪═══════╪══════╡\n",
       "│ 0.23  ┆ Ideal     ┆ E     ┆ SI2     ┆ ... ┆ 61.5  ┆ 55    ┆ 326   ┆ 3.95 │\n",
       "├╌╌╌╌╌╌╌┼╌╌╌╌╌╌╌╌╌╌╌┼╌╌╌╌╌╌╌┼╌╌╌╌╌╌╌╌╌┼╌╌╌╌╌┼╌╌╌╌╌╌╌┼╌╌╌╌╌╌╌┼╌╌╌╌╌╌╌┼╌╌╌╌╌╌┤\n",
       "│ 0.21  ┆ Premium   ┆ E     ┆ SI1     ┆ ... ┆ 59.8  ┆ 61    ┆ 326   ┆ 3.89 │\n",
       "├╌╌╌╌╌╌╌┼╌╌╌╌╌╌╌╌╌╌╌┼╌╌╌╌╌╌╌┼╌╌╌╌╌╌╌╌╌┼╌╌╌╌╌┼╌╌╌╌╌╌╌┼╌╌╌╌╌╌╌┼╌╌╌╌╌╌╌┼╌╌╌╌╌╌┤\n",
       "│ 0.23  ┆ Good      ┆ E     ┆ VS1     ┆ ... ┆ 56.9  ┆ 65    ┆ 327   ┆ 4.05 │\n",
       "├╌╌╌╌╌╌╌┼╌╌╌╌╌╌╌╌╌╌╌┼╌╌╌╌╌╌╌┼╌╌╌╌╌╌╌╌╌┼╌╌╌╌╌┼╌╌╌╌╌╌╌┼╌╌╌╌╌╌╌┼╌╌╌╌╌╌╌┼╌╌╌╌╌╌┤\n",
       "│ 0.29  ┆ Premium   ┆ I     ┆ VS2     ┆ ... ┆ 62.4  ┆ 58    ┆ 334   ┆ 4.2  │\n",
       "├╌╌╌╌╌╌╌┼╌╌╌╌╌╌╌╌╌╌╌┼╌╌╌╌╌╌╌┼╌╌╌╌╌╌╌╌╌┼╌╌╌╌╌┼╌╌╌╌╌╌╌┼╌╌╌╌╌╌╌┼╌╌╌╌╌╌╌┼╌╌╌╌╌╌┤\n",
       "│ ...   ┆ ...       ┆ ...   ┆ ...     ┆ ... ┆ ...   ┆ ...   ┆ ...   ┆ ...  │\n",
       "├╌╌╌╌╌╌╌┼╌╌╌╌╌╌╌╌╌╌╌┼╌╌╌╌╌╌╌┼╌╌╌╌╌╌╌╌╌┼╌╌╌╌╌┼╌╌╌╌╌╌╌┼╌╌╌╌╌╌╌┼╌╌╌╌╌╌╌┼╌╌╌╌╌╌┤\n",
       "│ 0.72  ┆ Ideal     ┆ D     ┆ SI1     ┆ ... ┆ 60.8  ┆ 57    ┆ 2757  ┆ 5.75 │\n",
       "├╌╌╌╌╌╌╌┼╌╌╌╌╌╌╌╌╌╌╌┼╌╌╌╌╌╌╌┼╌╌╌╌╌╌╌╌╌┼╌╌╌╌╌┼╌╌╌╌╌╌╌┼╌╌╌╌╌╌╌┼╌╌╌╌╌╌╌┼╌╌╌╌╌╌┤\n",
       "│ 0.72  ┆ Good      ┆ D     ┆ SI1     ┆ ... ┆ 63.1  ┆ 55    ┆ 2757  ┆ 5.69 │\n",
       "├╌╌╌╌╌╌╌┼╌╌╌╌╌╌╌╌╌╌╌┼╌╌╌╌╌╌╌┼╌╌╌╌╌╌╌╌╌┼╌╌╌╌╌┼╌╌╌╌╌╌╌┼╌╌╌╌╌╌╌┼╌╌╌╌╌╌╌┼╌╌╌╌╌╌┤\n",
       "│ 0.7   ┆ Very Good ┆ D     ┆ SI1     ┆ ... ┆ 62.8  ┆ 60    ┆ 2757  ┆ 5.66 │\n",
       "├╌╌╌╌╌╌╌┼╌╌╌╌╌╌╌╌╌╌╌┼╌╌╌╌╌╌╌┼╌╌╌╌╌╌╌╌╌┼╌╌╌╌╌┼╌╌╌╌╌╌╌┼╌╌╌╌╌╌╌┼╌╌╌╌╌╌╌┼╌╌╌╌╌╌┤\n",
       "│ 0.86  ┆ Premium   ┆ H     ┆ SI2     ┆ ... ┆ 61    ┆ 58    ┆ 2757  ┆ 6.15 │\n",
       "├╌╌╌╌╌╌╌┼╌╌╌╌╌╌╌╌╌╌╌┼╌╌╌╌╌╌╌┼╌╌╌╌╌╌╌╌╌┼╌╌╌╌╌┼╌╌╌╌╌╌╌┼╌╌╌╌╌╌╌┼╌╌╌╌╌╌╌┼╌╌╌╌╌╌┤\n",
       "│ 0.75  ┆ Ideal     ┆ D     ┆ SI2     ┆ ... ┆ 62.2  ┆ 55    ┆ 2757  ┆ 5.83 │\n",
       "╰───────┴───────────┴───────┴─────────┴─────┴───────┴───────┴───────┴──────╯"
      ]
     },
     "execution_count": 37,
     "metadata": {},
     "output_type": "execute_result"
    }
   ],
   "source": [
    "# Check For Price More than A Value (300)\n",
    "df[df['price'] > 300]"
   ]
  },
  {
   "cell_type": "code",
   "execution_count": null,
   "metadata": {},
   "outputs": [],
   "source": [
    "#### Apply A Fxn on A DataFrame or Series\n",
    "+ .apply()\n",
    "+ .lazy() + filter\n",
    "+ .to_pandas()."
   ]
  },
  {
   "cell_type": "code",
   "execution_count": 40,
   "metadata": {},
   "outputs": [
    {
     "data": {
      "text/plain": [
       "shape: (5, 10)\n",
       "╭───────┬─────────┬───────┬─────────┬─────┬───────┬───────┬───────┬──────╮\n",
       "│ carat ┆ cut     ┆ color ┆ clarity ┆ ... ┆ depth ┆ table ┆ price ┆ x    │\n",
       "│ ---   ┆ ---     ┆ ---   ┆ ---     ┆     ┆ ---   ┆ ---   ┆ ---   ┆ ---  │\n",
       "│ f64   ┆ str     ┆ str   ┆ str     ┆     ┆ f64   ┆ f64   ┆ i64   ┆ f64  │\n",
       "╞═══════╪═════════╪═══════╪═════════╪═════╪═══════╪═══════╪═══════╪══════╡\n",
       "│ 0.23  ┆ Ideal   ┆ E     ┆ SI2     ┆ ... ┆ 61.5  ┆ 55    ┆ 326   ┆ 3.95 │\n",
       "├╌╌╌╌╌╌╌┼╌╌╌╌╌╌╌╌╌┼╌╌╌╌╌╌╌┼╌╌╌╌╌╌╌╌╌┼╌╌╌╌╌┼╌╌╌╌╌╌╌┼╌╌╌╌╌╌╌┼╌╌╌╌╌╌╌┼╌╌╌╌╌╌┤\n",
       "│ 0.21  ┆ Premium ┆ E     ┆ SI1     ┆ ... ┆ 59.8  ┆ 61    ┆ 326   ┆ 3.89 │\n",
       "├╌╌╌╌╌╌╌┼╌╌╌╌╌╌╌╌╌┼╌╌╌╌╌╌╌┼╌╌╌╌╌╌╌╌╌┼╌╌╌╌╌┼╌╌╌╌╌╌╌┼╌╌╌╌╌╌╌┼╌╌╌╌╌╌╌┼╌╌╌╌╌╌┤\n",
       "│ 0.23  ┆ Good    ┆ E     ┆ VS1     ┆ ... ┆ 56.9  ┆ 65    ┆ 327   ┆ 4.05 │\n",
       "├╌╌╌╌╌╌╌┼╌╌╌╌╌╌╌╌╌┼╌╌╌╌╌╌╌┼╌╌╌╌╌╌╌╌╌┼╌╌╌╌╌┼╌╌╌╌╌╌╌┼╌╌╌╌╌╌╌┼╌╌╌╌╌╌╌┼╌╌╌╌╌╌┤\n",
       "│ 0.29  ┆ Premium ┆ I     ┆ VS2     ┆ ... ┆ 62.4  ┆ 58    ┆ 334   ┆ 4.2  │\n",
       "├╌╌╌╌╌╌╌┼╌╌╌╌╌╌╌╌╌┼╌╌╌╌╌╌╌┼╌╌╌╌╌╌╌╌╌┼╌╌╌╌╌┼╌╌╌╌╌╌╌┼╌╌╌╌╌╌╌┼╌╌╌╌╌╌╌┼╌╌╌╌╌╌┤\n",
       "│ 0.31  ┆ Good    ┆ J     ┆ SI2     ┆ ... ┆ 63.3  ┆ 58    ┆ 335   ┆ 4.34 │\n",
       "╰───────┴─────────┴───────┴─────────┴─────┴───────┴───────┴───────┴──────╯"
      ]
     },
     "execution_count": 40,
     "metadata": {},
     "output_type": "execute_result"
    }
   ],
   "source": [
    "df.head()"
   ]
  },
  {
   "cell_type": "code",
   "execution_count": 41,
   "metadata": {
    "collapsed": true,
    "jupyter": {
     "outputs_hidden": true
    }
   },
   "outputs": [
    {
     "data": {
      "text/plain": [
       "Series: 'x' [i64]\n",
       "[\n",
       "\t4\n",
       "\t4\n",
       "\t4\n",
       "\t4\n",
       "\t4\n",
       "\t4\n",
       "\t4\n",
       "\t4\n",
       "\t4\n",
       "\t4\n",
       "]"
      ]
     },
     "execution_count": 41,
     "metadata": {},
     "output_type": "execute_result"
    }
   ],
   "source": [
    "# Method 1\n",
    "df['x'].apply(round)"
   ]
  },
  {
   "cell_type": "code",
   "execution_count": 42,
   "metadata": {
    "collapsed": true,
    "jupyter": {
     "outputs_hidden": true
    }
   },
   "outputs": [
    {
     "data": {
      "text/plain": [
       "Series: 'x' [i64]\n",
       "[\n",
       "\t4\n",
       "\t4\n",
       "\t4\n",
       "\t4\n",
       "\t4\n",
       "\t4\n",
       "\t4\n",
       "\t4\n",
       "\t4\n",
       "\t4\n",
       "]"
      ]
     },
     "execution_count": 42,
     "metadata": {},
     "output_type": "execute_result"
    }
   ],
   "source": [
    "# Method 2 Using Lambda\n",
    "df['x'].apply(lambda x : round(x))"
   ]
  },
  {
   "cell_type": "code",
   "execution_count": 44,
   "metadata": {},
   "outputs": [
    {
     "data": {
      "text/plain": [
       "Series: 'cut' [str]\n",
       "[\n",
       "\t\"Very ...\"\n",
       "\t\"Premi...\"\n",
       "\t\"Ideal...\"\n",
       "\t\"Good\"\n",
       "\t\"Fair\"\n",
       "]"
      ]
     },
     "execution_count": 44,
     "metadata": {},
     "output_type": "execute_result"
    }
   ],
   "source": [
    "# Method 3 : Using Custom Fxn\n",
    "df['cut'].unique()"
   ]
  },
  {
   "cell_type": "code",
   "execution_count": 45,
   "metadata": {},
   "outputs": [],
   "source": [
    "# Convert to A Dictionary For Map\n",
    "mydict = {v:k for k,v in enumerate(df['cut'].unique())}"
   ]
  },
  {
   "cell_type": "code",
   "execution_count": 46,
   "metadata": {},
   "outputs": [
    {
     "data": {
      "text/plain": [
       "{'Ideal': 0, 'Very Good': 1, 'Good': 2, 'Fair': 3, 'Premium': 4}"
      ]
     },
     "execution_count": 46,
     "metadata": {},
     "output_type": "execute_result"
    }
   ],
   "source": [
    "mydict"
   ]
  },
  {
   "cell_type": "code",
   "execution_count": 56,
   "metadata": {
    "collapsed": true,
    "jupyter": {
     "outputs_hidden": true
    }
   },
   "outputs": [
    {
     "ename": "TypeError",
     "evalue": "'dict' object is not callable",
     "output_type": "error",
     "traceback": [
      "\u001b[0;31m---------------------------------------------------------------------------\u001b[0m",
      "\u001b[0;31mTypeError\u001b[0m                                 Traceback (most recent call last)",
      "\u001b[0;32m<ipython-input-56-a91f1064400e>\u001b[0m in \u001b[0;36m<module>\u001b[0;34m\u001b[0m\n\u001b[0;32m----> 1\u001b[0;31m \u001b[0mdf\u001b[0m\u001b[0;34m[\u001b[0m\u001b[0;34m'cut'\u001b[0m\u001b[0;34m]\u001b[0m\u001b[0;34m.\u001b[0m\u001b[0mapply\u001b[0m\u001b[0;34m(\u001b[0m\u001b[0mmydict\u001b[0m\u001b[0;34m)\u001b[0m\u001b[0;34m\u001b[0m\u001b[0;34m\u001b[0m\u001b[0m\n\u001b[0m",
      "\u001b[0;32m/usr/local/lib/python3.7/dist-packages/pypolars/series.py\u001b[0m in \u001b[0;36mapply\u001b[0;34m(self, func, dtype_out, sniff_dtype)\u001b[0m\n\u001b[1;32m    898\u001b[0m             \u001b[0mdtype_out\u001b[0m \u001b[0;34m=\u001b[0m \u001b[0mBoolean\u001b[0m\u001b[0;34m\u001b[0m\u001b[0;34m\u001b[0m\u001b[0m\n\u001b[1;32m    899\u001b[0m \u001b[0;34m\u001b[0m\u001b[0m\n\u001b[0;32m--> 900\u001b[0;31m         \u001b[0;32mreturn\u001b[0m \u001b[0mwrap_s\u001b[0m\u001b[0;34m(\u001b[0m\u001b[0mself\u001b[0m\u001b[0;34m.\u001b[0m\u001b[0m_s\u001b[0m\u001b[0;34m.\u001b[0m\u001b[0mapply_lambda\u001b[0m\u001b[0;34m(\u001b[0m\u001b[0mfunc\u001b[0m\u001b[0;34m,\u001b[0m \u001b[0mdtype_out\u001b[0m\u001b[0;34m)\u001b[0m\u001b[0;34m)\u001b[0m\u001b[0;34m\u001b[0m\u001b[0;34m\u001b[0m\u001b[0m\n\u001b[0m\u001b[1;32m    901\u001b[0m \u001b[0;34m\u001b[0m\u001b[0m\n\u001b[1;32m    902\u001b[0m     \u001b[0;32mdef\u001b[0m \u001b[0mshift\u001b[0m\u001b[0;34m(\u001b[0m\u001b[0mself\u001b[0m\u001b[0;34m,\u001b[0m \u001b[0mperiods\u001b[0m\u001b[0;34m:\u001b[0m \u001b[0mint\u001b[0m\u001b[0;34m)\u001b[0m \u001b[0;34m->\u001b[0m \u001b[0;34m\"Series\"\u001b[0m\u001b[0;34m:\u001b[0m\u001b[0;34m\u001b[0m\u001b[0;34m\u001b[0m\u001b[0m\n",
      "\u001b[0;31mTypeError\u001b[0m: 'dict' object is not callable"
     ]
    }
   ],
   "source": [
    "# WOnt work\n",
    "df['cut'].apply(mydict)"
   ]
  },
  {
   "cell_type": "code",
   "execution_count": 57,
   "metadata": {},
   "outputs": [],
   "source": [
    "def mapcut_values(x):\n",
    "    for k,v in mydict.items():\n",
    "        if x == k:\n",
    "            return v\n",
    "        "
   ]
  },
  {
   "cell_type": "code",
   "execution_count": 58,
   "metadata": {},
   "outputs": [
    {
     "data": {
      "text/plain": [
       "0"
      ]
     },
     "execution_count": 58,
     "metadata": {},
     "output_type": "execute_result"
    }
   ],
   "source": [
    "mapcut_values(\"Ideal\")"
   ]
  },
  {
   "cell_type": "code",
   "execution_count": 59,
   "metadata": {
    "collapsed": true,
    "jupyter": {
     "outputs_hidden": true
    }
   },
   "outputs": [
    {
     "data": {
      "text/plain": [
       "Series: 'cut' [i64]\n",
       "[\n",
       "\t0\n",
       "\t4\n",
       "\t2\n",
       "\t4\n",
       "\t2\n",
       "\t1\n",
       "\t1\n",
       "\t1\n",
       "\t3\n",
       "\t1\n",
       "]"
      ]
     },
     "execution_count": 59,
     "metadata": {},
     "output_type": "execute_result"
    }
   ],
   "source": [
    "df['cut'].apply(lambda x :mapcut_values(x))"
   ]
  },
  {
   "cell_type": "code",
   "execution_count": 62,
   "metadata": {},
   "outputs": [],
   "source": [
    "# Method 4\n",
    "# lazy API\n",
    "import pypolars.lazy as plazy"
   ]
  },
  {
   "cell_type": "code",
   "execution_count": 63,
   "metadata": {},
   "outputs": [
    {
     "data": {
      "text/plain": [
       "['Callable',\n",
       " 'DataFrame',\n",
       " 'Dict',\n",
       " 'Expr',\n",
       " 'LazyFrame',\n",
       " 'LazyGroupBy',\n",
       " 'List',\n",
       " 'Optional',\n",
       " 'PyExpr',\n",
       " 'PyLazyFrame',\n",
       " 'PyLazyGroupBy',\n",
       " 'Series',\n",
       " 'UDF',\n",
       " 'Union',\n",
       " 'When',\n",
       " 'WhenThen',\n",
       " '__builtins__',\n",
       " '__cached__',\n",
       " '__doc__',\n",
       " '__file__',\n",
       " '__loader__',\n",
       " '__name__',\n",
       " '__package__',\n",
       " '__path__',\n",
       " '__spec__',\n",
       " '_selection_to_pyexpr_list',\n",
       " 'avg',\n",
       " 'binary_expr',\n",
       " 'col',\n",
       " 'count',\n",
       " 'datatypes',\n",
       " 'expr_to_lit_or_expr',\n",
       " 'first',\n",
       " 'last',\n",
       " 'list',\n",
       " 'lit',\n",
       " 'max',\n",
       " 'mean',\n",
       " 'median',\n",
       " 'min',\n",
       " 'n_unique',\n",
       " 'os',\n",
       " 'pycol',\n",
       " 'pylit',\n",
       " 'pywhen',\n",
       " 'shutil',\n",
       " 'std',\n",
       " 'subprocess',\n",
       " 'sum',\n",
       " 'tempfile',\n",
       " 'udf',\n",
       " 'var',\n",
       " 'when',\n",
       " 'wrap_df',\n",
       " 'wrap_expr',\n",
       " 'wrap_ldf']"
      ]
     },
     "execution_count": 63,
     "metadata": {},
     "output_type": "execute_result"
    }
   ],
   "source": [
    "# Methods/\n",
    "dir(plazy)"
   ]
  },
  {
   "cell_type": "code",
   "execution_count": 64,
   "metadata": {},
   "outputs": [],
   "source": [
    "# Define your fxn\n",
    "def cust_mapcut_values(s: plazy.Series) -> plazy.Series:\n",
    "    return s.apply(lambda x: mydict[x])\n",
    "# Return \n"
   ]
  },
  {
   "cell_type": "code",
   "execution_count": 65,
   "metadata": {},
   "outputs": [
    {
     "data": {
      "text/plain": [
       "<pypolars.lazy.LazyFrame at 0x7f93c05666d0>"
      ]
     },
     "execution_count": 65,
     "metadata": {},
     "output_type": "execute_result"
    }
   ],
   "source": [
    "df.lazy().with_column(plazy.col('cut').map(cust_mapcut_values))"
   ]
  },
  {
   "cell_type": "code",
   "execution_count": 66,
   "metadata": {},
   "outputs": [],
   "source": [
    "output = df.lazy().with_column(plazy.col('cut').map(cust_mapcut_values))"
   ]
  },
  {
   "cell_type": "code",
   "execution_count": 67,
   "metadata": {},
   "outputs": [
    {
     "data": {
      "text/plain": [
       "shape: (53940, 10)\n",
       "╭───────┬─────┬───────┬─────────┬─────┬───────┬───────┬───────┬──────╮\n",
       "│ carat ┆ cut ┆ color ┆ clarity ┆ ... ┆ depth ┆ table ┆ price ┆ x    │\n",
       "│ ---   ┆ --- ┆ ---   ┆ ---     ┆     ┆ ---   ┆ ---   ┆ ---   ┆ ---  │\n",
       "│ f64   ┆ i64 ┆ str   ┆ str     ┆     ┆ f64   ┆ f64   ┆ i64   ┆ f64  │\n",
       "╞═══════╪═════╪═══════╪═════════╪═════╪═══════╪═══════╪═══════╪══════╡\n",
       "│ 0.23  ┆ 0   ┆ E     ┆ SI2     ┆ ... ┆ 61.5  ┆ 55    ┆ 326   ┆ 3.95 │\n",
       "├╌╌╌╌╌╌╌┼╌╌╌╌╌┼╌╌╌╌╌╌╌┼╌╌╌╌╌╌╌╌╌┼╌╌╌╌╌┼╌╌╌╌╌╌╌┼╌╌╌╌╌╌╌┼╌╌╌╌╌╌╌┼╌╌╌╌╌╌┤\n",
       "│ 0.21  ┆ 4   ┆ E     ┆ SI1     ┆ ... ┆ 59.8  ┆ 61    ┆ 326   ┆ 3.89 │\n",
       "├╌╌╌╌╌╌╌┼╌╌╌╌╌┼╌╌╌╌╌╌╌┼╌╌╌╌╌╌╌╌╌┼╌╌╌╌╌┼╌╌╌╌╌╌╌┼╌╌╌╌╌╌╌┼╌╌╌╌╌╌╌┼╌╌╌╌╌╌┤\n",
       "│ 0.23  ┆ 2   ┆ E     ┆ VS1     ┆ ... ┆ 56.9  ┆ 65    ┆ 327   ┆ 4.05 │\n",
       "├╌╌╌╌╌╌╌┼╌╌╌╌╌┼╌╌╌╌╌╌╌┼╌╌╌╌╌╌╌╌╌┼╌╌╌╌╌┼╌╌╌╌╌╌╌┼╌╌╌╌╌╌╌┼╌╌╌╌╌╌╌┼╌╌╌╌╌╌┤\n",
       "│ 0.29  ┆ 4   ┆ I     ┆ VS2     ┆ ... ┆ 62.4  ┆ 58    ┆ 334   ┆ 4.2  │\n",
       "├╌╌╌╌╌╌╌┼╌╌╌╌╌┼╌╌╌╌╌╌╌┼╌╌╌╌╌╌╌╌╌┼╌╌╌╌╌┼╌╌╌╌╌╌╌┼╌╌╌╌╌╌╌┼╌╌╌╌╌╌╌┼╌╌╌╌╌╌┤\n",
       "│ ...   ┆ ... ┆ ...   ┆ ...     ┆ ... ┆ ...   ┆ ...   ┆ ...   ┆ ...  │\n",
       "├╌╌╌╌╌╌╌┼╌╌╌╌╌┼╌╌╌╌╌╌╌┼╌╌╌╌╌╌╌╌╌┼╌╌╌╌╌┼╌╌╌╌╌╌╌┼╌╌╌╌╌╌╌┼╌╌╌╌╌╌╌┼╌╌╌╌╌╌┤\n",
       "│ 0.72  ┆ 0   ┆ D     ┆ SI1     ┆ ... ┆ 60.8  ┆ 57    ┆ 2757  ┆ 5.75 │\n",
       "├╌╌╌╌╌╌╌┼╌╌╌╌╌┼╌╌╌╌╌╌╌┼╌╌╌╌╌╌╌╌╌┼╌╌╌╌╌┼╌╌╌╌╌╌╌┼╌╌╌╌╌╌╌┼╌╌╌╌╌╌╌┼╌╌╌╌╌╌┤\n",
       "│ 0.72  ┆ 2   ┆ D     ┆ SI1     ┆ ... ┆ 63.1  ┆ 55    ┆ 2757  ┆ 5.69 │\n",
       "├╌╌╌╌╌╌╌┼╌╌╌╌╌┼╌╌╌╌╌╌╌┼╌╌╌╌╌╌╌╌╌┼╌╌╌╌╌┼╌╌╌╌╌╌╌┼╌╌╌╌╌╌╌┼╌╌╌╌╌╌╌┼╌╌╌╌╌╌┤\n",
       "│ 0.7   ┆ 1   ┆ D     ┆ SI1     ┆ ... ┆ 62.8  ┆ 60    ┆ 2757  ┆ 5.66 │\n",
       "├╌╌╌╌╌╌╌┼╌╌╌╌╌┼╌╌╌╌╌╌╌┼╌╌╌╌╌╌╌╌╌┼╌╌╌╌╌┼╌╌╌╌╌╌╌┼╌╌╌╌╌╌╌┼╌╌╌╌╌╌╌┼╌╌╌╌╌╌┤\n",
       "│ 0.86  ┆ 4   ┆ H     ┆ SI2     ┆ ... ┆ 61    ┆ 58    ┆ 2757  ┆ 6.15 │\n",
       "├╌╌╌╌╌╌╌┼╌╌╌╌╌┼╌╌╌╌╌╌╌┼╌╌╌╌╌╌╌╌╌┼╌╌╌╌╌┼╌╌╌╌╌╌╌┼╌╌╌╌╌╌╌┼╌╌╌╌╌╌╌┼╌╌╌╌╌╌┤\n",
       "│ 0.75  ┆ 0   ┆ D     ┆ SI2     ┆ ... ┆ 62.2  ┆ 55    ┆ 2757  ┆ 5.83 │\n",
       "╰───────┴─────┴───────┴─────────┴─────┴───────┴───────┴───────┴──────╯"
      ]
     },
     "execution_count": 67,
     "metadata": {},
     "output_type": "execute_result"
    }
   ],
   "source": [
    "output.collect()"
   ]
  },
  {
   "cell_type": "code",
   "execution_count": 68,
   "metadata": {},
   "outputs": [
    {
     "data": {
      "text/plain": [
       "pypolars.lazy.LazyFrame"
      ]
     },
     "execution_count": 68,
     "metadata": {},
     "output_type": "execute_result"
    }
   ],
   "source": [
    "type(output)"
   ]
  },
  {
   "cell_type": "code",
   "execution_count": 69,
   "metadata": {},
   "outputs": [],
   "source": [
    "# Method 5:using Pandas\n",
    "df2 = df.to_pandas()"
   ]
  },
  {
   "cell_type": "code",
   "execution_count": 70,
   "metadata": {},
   "outputs": [
    {
     "data": {
      "text/plain": [
       "pandas.core.frame.DataFrame"
      ]
     },
     "execution_count": 70,
     "metadata": {},
     "output_type": "execute_result"
    }
   ],
   "source": [
    "type(df2)"
   ]
  },
  {
   "cell_type": "code",
   "execution_count": 71,
   "metadata": {},
   "outputs": [
    {
     "data": {
      "text/plain": [
       "0        0\n",
       "1        4\n",
       "2        2\n",
       "3        4\n",
       "4        2\n",
       "        ..\n",
       "53935    0\n",
       "53936    2\n",
       "53937    1\n",
       "53938    4\n",
       "53939    0\n",
       "Name: cut, Length: 53940, dtype: int64"
      ]
     },
     "execution_count": 71,
     "metadata": {},
     "output_type": "execute_result"
    }
   ],
   "source": [
    "df2['cut'].map(mydict)"
   ]
  },
  {
   "cell_type": "code",
   "execution_count": 72,
   "metadata": {},
   "outputs": [],
   "source": [
    "### Groupby Using Pypolars"
   ]
  },
  {
   "cell_type": "code",
   "execution_count": 78,
   "metadata": {},
   "outputs": [
    {
     "data": {
      "text/plain": [
       "shape: (5, 2)\n",
       "╭───────────┬───────────╮\n",
       "│ cut       ┆ price_sum │\n",
       "│ ---       ┆ ---       │\n",
       "│ str       ┆ i64       │\n",
       "╞═══════════╪═══════════╡\n",
       "│ Ideal     ┆ 74513487  │\n",
       "├╌╌╌╌╌╌╌╌╌╌╌┼╌╌╌╌╌╌╌╌╌╌╌┤\n",
       "│ Premium   ┆ 63221498  │\n",
       "├╌╌╌╌╌╌╌╌╌╌╌┼╌╌╌╌╌╌╌╌╌╌╌┤\n",
       "│ Fair      ┆ 7017600   │\n",
       "├╌╌╌╌╌╌╌╌╌╌╌┼╌╌╌╌╌╌╌╌╌╌╌┤\n",
       "│ Good      ┆ 19275009  │\n",
       "├╌╌╌╌╌╌╌╌╌╌╌┼╌╌╌╌╌╌╌╌╌╌╌┤\n",
       "│ Very Good ┆ 48107623  │\n",
       "╰───────────┴───────────╯"
      ]
     },
     "execution_count": 78,
     "metadata": {},
     "output_type": "execute_result"
    }
   ],
   "source": [
    "# df.groupby('cut')['price'].sum()\n",
    "df.groupby('cut').select('price').sum()"
   ]
  },
  {
   "cell_type": "code",
   "execution_count": 80,
   "metadata": {},
   "outputs": [
    {
     "data": {
      "text/plain": [
       "shape: (5, 2)\n",
       "╭───────────┬─────────────╮\n",
       "│ cut       ┆ price_count │\n",
       "│ ---       ┆ ---         │\n",
       "│ str       ┆ u32         │\n",
       "╞═══════════╪═════════════╡\n",
       "│ Ideal     ┆ 21551       │\n",
       "├╌╌╌╌╌╌╌╌╌╌╌┼╌╌╌╌╌╌╌╌╌╌╌╌╌┤\n",
       "│ Premium   ┆ 13791       │\n",
       "├╌╌╌╌╌╌╌╌╌╌╌┼╌╌╌╌╌╌╌╌╌╌╌╌╌┤\n",
       "│ Fair      ┆ 1610        │\n",
       "├╌╌╌╌╌╌╌╌╌╌╌┼╌╌╌╌╌╌╌╌╌╌╌╌╌┤\n",
       "│ Very Good ┆ 12082       │\n",
       "├╌╌╌╌╌╌╌╌╌╌╌┼╌╌╌╌╌╌╌╌╌╌╌╌╌┤\n",
       "│ Good      ┆ 4906        │\n",
       "╰───────────┴─────────────╯"
      ]
     },
     "execution_count": 80,
     "metadata": {},
     "output_type": "execute_result"
    }
   ],
   "source": [
    "df.groupby('cut').select('price').count()"
   ]
  },
  {
   "cell_type": "code",
   "execution_count": 81,
   "metadata": {
    "collapsed": true,
    "jupyter": {
     "outputs_hidden": true
    }
   },
   "outputs": [
    {
     "data": {
      "text/plain": [
       "shape: (5, 3)\n",
       "╭───────────┬───────────┬────────────╮\n",
       "│ cut       ┆ price_sum ┆ carat_sum  │\n",
       "│ ---       ┆ ---       ┆ ---        │\n",
       "│ str       ┆ i64       ┆ f64        │\n",
       "╞═══════════╪═══════════╪════════════╡\n",
       "│ Very Good ┆ 48107623  ┆ 9742.7     │\n",
       "├╌╌╌╌╌╌╌╌╌╌╌┼╌╌╌╌╌╌╌╌╌╌╌┼╌╌╌╌╌╌╌╌╌╌╌╌┤\n",
       "│ Fair      ┆ 7017600   ┆ 1684.28    │\n",
       "├╌╌╌╌╌╌╌╌╌╌╌┼╌╌╌╌╌╌╌╌╌╌╌┼╌╌╌╌╌╌╌╌╌╌╌╌┤\n",
       "│ Premium   ┆ 63221498  ┆ 1.230095e4 │\n",
       "├╌╌╌╌╌╌╌╌╌╌╌┼╌╌╌╌╌╌╌╌╌╌╌┼╌╌╌╌╌╌╌╌╌╌╌╌┤\n",
       "│ Ideal     ┆ 74513487  ┆ 1.514684e4 │\n",
       "├╌╌╌╌╌╌╌╌╌╌╌┼╌╌╌╌╌╌╌╌╌╌╌┼╌╌╌╌╌╌╌╌╌╌╌╌┤\n",
       "│ Good      ┆ 19275009  ┆ 4166.1     │\n",
       "╰───────────┴───────────┴────────────╯"
      ]
     },
     "execution_count": 81,
     "metadata": {},
     "output_type": "execute_result"
    }
   ],
   "source": [
    "# Selecting Multiple COlumns From Groupby\n",
    "df.groupby('cut').select(['price','carat']).sum()"
   ]
  },
  {
   "cell_type": "code",
   "execution_count": 82,
   "metadata": {
    "collapsed": true,
    "jupyter": {
     "outputs_hidden": true
    }
   },
   "outputs": [
    {
     "data": {
      "text/plain": [
       "shape: (35, 4)\n",
       "╭───────────┬───────┬───────────┬───────────╮\n",
       "│ cut       ┆ color ┆ price_sum ┆ carat_sum │\n",
       "│ ---       ┆ ---   ┆ ---       ┆ ---       │\n",
       "│ str       ┆ str   ┆ i64       ┆ f64       │\n",
       "╞═══════════╪═══════╪═══════════╪═══════════╡\n",
       "│ Ideal     ┆ D     ┆ 7450854   ┆ 1603.38   │\n",
       "├╌╌╌╌╌╌╌╌╌╌╌┼╌╌╌╌╌╌╌┼╌╌╌╌╌╌╌╌╌╌╌┼╌╌╌╌╌╌╌╌╌╌╌┤\n",
       "│ Fair      ┆ G     ┆ 1331126   ┆ 321.48    │\n",
       "├╌╌╌╌╌╌╌╌╌╌╌┼╌╌╌╌╌╌╌┼╌╌╌╌╌╌╌╌╌╌╌┼╌╌╌╌╌╌╌╌╌╌╌┤\n",
       "│ Fair      ┆ E     ┆ 824838    ┆ 191.88    │\n",
       "├╌╌╌╌╌╌╌╌╌╌╌┼╌╌╌╌╌╌╌┼╌╌╌╌╌╌╌╌╌╌╌┼╌╌╌╌╌╌╌╌╌╌╌┤\n",
       "│ Fair      ┆ F     ┆ 1194025   ┆ 282.27    │\n",
       "├╌╌╌╌╌╌╌╌╌╌╌┼╌╌╌╌╌╌╌┼╌╌╌╌╌╌╌╌╌╌╌┼╌╌╌╌╌╌╌╌╌╌╌┤\n",
       "│ ...       ┆ ...   ┆ ...       ┆ ...       │\n",
       "├╌╌╌╌╌╌╌╌╌╌╌┼╌╌╌╌╌╌╌┼╌╌╌╌╌╌╌╌╌╌╌┼╌╌╌╌╌╌╌╌╌╌╌┤\n",
       "│ Premium   ┆ G     ┆ 13160170  ┆ 2460.51   │\n",
       "├╌╌╌╌╌╌╌╌╌╌╌┼╌╌╌╌╌╌╌┼╌╌╌╌╌╌╌╌╌╌╌┼╌╌╌╌╌╌╌╌╌╌╌┤\n",
       "│ Very Good ┆ E     ┆ 7715165   ┆ 1623.16   │\n",
       "├╌╌╌╌╌╌╌╌╌╌╌┼╌╌╌╌╌╌╌┼╌╌╌╌╌╌╌╌╌╌╌┼╌╌╌╌╌╌╌╌╌╌╌┤\n",
       "│ Fair      ┆ J     ┆ 592103    ┆ 159.6     │\n",
       "├╌╌╌╌╌╌╌╌╌╌╌┼╌╌╌╌╌╌╌┼╌╌╌╌╌╌╌╌╌╌╌┼╌╌╌╌╌╌╌╌╌╌╌┤\n",
       "│ Very Good ┆ G     ┆ 8903461   ┆ 1762.87   │\n",
       "├╌╌╌╌╌╌╌╌╌╌╌┼╌╌╌╌╌╌╌┼╌╌╌╌╌╌╌╌╌╌╌┼╌╌╌╌╌╌╌╌╌╌╌┤\n",
       "│ Ideal     ┆ I     ┆ 9317974   ┆ 1910.97   │\n",
       "╰───────────┴───────┴───────────┴───────────╯"
      ]
     },
     "execution_count": 82,
     "metadata": {},
     "output_type": "execute_result"
    }
   ],
   "source": [
    "# Multiple Groupby + Selecting Multiple Columns From Groupby + Sum\n",
    "df.groupby(['cut','color']).select(['price','carat']).sum()"
   ]
  },
  {
   "cell_type": "code",
   "execution_count": 89,
   "metadata": {
    "collapsed": true,
    "jupyter": {
     "outputs_hidden": true
    }
   },
   "outputs": [
    {
     "data": {
      "text/plain": [
       "shape: (35, 10)\n",
       "╭────────────┬───────┬────────────┬────────────┬─────┬───────────┬───────────┬───────────┬─────────╮\n",
       "│ cut        ┆ color ┆ carat_firs ┆ clarity_fi ┆ ... ┆ depth_fir ┆ table_fir ┆ price_fir ┆ x_first │\n",
       "│ ---        ┆ ---   ┆ t          ┆ rst        ┆     ┆ st        ┆ st        ┆ st        ┆ ---     │\n",
       "│ str        ┆ str   ┆ ---        ┆ ---        ┆     ┆ ---       ┆ ---       ┆ ---       ┆ f64     │\n",
       "│            ┆       ┆ f64        ┆ str        ┆     ┆ f64       ┆ f64       ┆ i64       ┆         │\n",
       "╞════════════╪═══════╪════════════╪════════════╪═════╪═══════════╪═══════════╪═══════════╪═════════╡\n",
       "│ Very Good  ┆ F     ┆ 0.23       ┆ VS1        ┆ ... ┆ 60.9      ┆ 57        ┆ 357       ┆ 3.96    │\n",
       "├╌╌╌╌╌╌╌╌╌╌╌╌┼╌╌╌╌╌╌╌┼╌╌╌╌╌╌╌╌╌╌╌╌┼╌╌╌╌╌╌╌╌╌╌╌╌┼╌╌╌╌╌┼╌╌╌╌╌╌╌╌╌╌╌┼╌╌╌╌╌╌╌╌╌╌╌┼╌╌╌╌╌╌╌╌╌╌╌┼╌╌╌╌╌╌╌╌╌┤\n",
       "│ Very Good  ┆ J     ┆ 0.24       ┆ VVS2       ┆ ... ┆ 62.8      ┆ 57        ┆ 336       ┆ 3.94    │\n",
       "├╌╌╌╌╌╌╌╌╌╌╌╌┼╌╌╌╌╌╌╌┼╌╌╌╌╌╌╌╌╌╌╌╌┼╌╌╌╌╌╌╌╌╌╌╌╌┼╌╌╌╌╌┼╌╌╌╌╌╌╌╌╌╌╌┼╌╌╌╌╌╌╌╌╌╌╌┼╌╌╌╌╌╌╌╌╌╌╌┼╌╌╌╌╌╌╌╌╌┤\n",
       "│ Fair       ┆ J     ┆ 1.05       ┆ SI2        ┆ ... ┆ 65.8      ┆ 59        ┆ 2789      ┆ 6.41    │\n",
       "├╌╌╌╌╌╌╌╌╌╌╌╌┼╌╌╌╌╌╌╌┼╌╌╌╌╌╌╌╌╌╌╌╌┼╌╌╌╌╌╌╌╌╌╌╌╌┼╌╌╌╌╌┼╌╌╌╌╌╌╌╌╌╌╌┼╌╌╌╌╌╌╌╌╌╌╌┼╌╌╌╌╌╌╌╌╌╌╌┼╌╌╌╌╌╌╌╌╌┤\n",
       "│ Fair       ┆ E     ┆ 0.22       ┆ VS2        ┆ ... ┆ 65.1      ┆ 61        ┆ 337       ┆ 3.87    │\n",
       "├╌╌╌╌╌╌╌╌╌╌╌╌┼╌╌╌╌╌╌╌┼╌╌╌╌╌╌╌╌╌╌╌╌┼╌╌╌╌╌╌╌╌╌╌╌╌┼╌╌╌╌╌┼╌╌╌╌╌╌╌╌╌╌╌┼╌╌╌╌╌╌╌╌╌╌╌┼╌╌╌╌╌╌╌╌╌╌╌┼╌╌╌╌╌╌╌╌╌┤\n",
       "│ ...        ┆ ...   ┆ ...        ┆ ...        ┆ ... ┆ ...       ┆ ...       ┆ ...       ┆ ...     │\n",
       "├╌╌╌╌╌╌╌╌╌╌╌╌┼╌╌╌╌╌╌╌┼╌╌╌╌╌╌╌╌╌╌╌╌┼╌╌╌╌╌╌╌╌╌╌╌╌┼╌╌╌╌╌┼╌╌╌╌╌╌╌╌╌╌╌┼╌╌╌╌╌╌╌╌╌╌╌┼╌╌╌╌╌╌╌╌╌╌╌┼╌╌╌╌╌╌╌╌╌┤\n",
       "│ Ideal      ┆ F     ┆ 0.81       ┆ SI2        ┆ ... ┆ 58.8      ┆ 57        ┆ 2761      ┆ 6.14    │\n",
       "├╌╌╌╌╌╌╌╌╌╌╌╌┼╌╌╌╌╌╌╌┼╌╌╌╌╌╌╌╌╌╌╌╌┼╌╌╌╌╌╌╌╌╌╌╌╌┼╌╌╌╌╌┼╌╌╌╌╌╌╌╌╌╌╌┼╌╌╌╌╌╌╌╌╌╌╌┼╌╌╌╌╌╌╌╌╌╌╌┼╌╌╌╌╌╌╌╌╌┤\n",
       "│ Ideal      ┆ D     ┆ 0.3        ┆ SI1        ┆ ... ┆ 62.5      ┆ 57        ┆ 552       ┆ 4.29    │\n",
       "├╌╌╌╌╌╌╌╌╌╌╌╌┼╌╌╌╌╌╌╌┼╌╌╌╌╌╌╌╌╌╌╌╌┼╌╌╌╌╌╌╌╌╌╌╌╌┼╌╌╌╌╌┼╌╌╌╌╌╌╌╌╌╌╌┼╌╌╌╌╌╌╌╌╌╌╌┼╌╌╌╌╌╌╌╌╌╌╌┼╌╌╌╌╌╌╌╌╌┤\n",
       "│ Very Good  ┆ D     ┆ 0.23       ┆ VS2        ┆ ... ┆ 60.5      ┆ 61        ┆ 357       ┆ 3.96    │\n",
       "├╌╌╌╌╌╌╌╌╌╌╌╌┼╌╌╌╌╌╌╌┼╌╌╌╌╌╌╌╌╌╌╌╌┼╌╌╌╌╌╌╌╌╌╌╌╌┼╌╌╌╌╌┼╌╌╌╌╌╌╌╌╌╌╌┼╌╌╌╌╌╌╌╌╌╌╌┼╌╌╌╌╌╌╌╌╌╌╌┼╌╌╌╌╌╌╌╌╌┤\n",
       "│ Premium    ┆ E     ┆ 0.21       ┆ SI1        ┆ ... ┆ 59.8      ┆ 61        ┆ 326       ┆ 3.89    │\n",
       "├╌╌╌╌╌╌╌╌╌╌╌╌┼╌╌╌╌╌╌╌┼╌╌╌╌╌╌╌╌╌╌╌╌┼╌╌╌╌╌╌╌╌╌╌╌╌┼╌╌╌╌╌┼╌╌╌╌╌╌╌╌╌╌╌┼╌╌╌╌╌╌╌╌╌╌╌┼╌╌╌╌╌╌╌╌╌╌╌┼╌╌╌╌╌╌╌╌╌┤\n",
       "│ Premium    ┆ J     ┆ 0.3        ┆ SI2        ┆ ... ┆ 59.3      ┆ 61        ┆ 405       ┆ 4.43    │\n",
       "╰────────────┴───────┴────────────┴────────────┴─────┴───────────┴───────────┴───────────┴─────────╯"
      ]
     },
     "execution_count": 89,
     "metadata": {},
     "output_type": "execute_result"
    }
   ],
   "source": [
    "# Select Every Column + Fxn\n",
    "df.groupby(['cut','color']).select_all().first()"
   ]
  },
  {
   "cell_type": "code",
   "execution_count": 90,
   "metadata": {},
   "outputs": [
    {
     "data": {
      "text/plain": [
       "shape: (35, 9)\n",
       "╭────────────┬───────┬───────────┬───────────┬─────┬───────────┬───────────┬───────────┬───────────╮\n",
       "│ cut        ┆ color ┆ carat_sum ┆ depth_sum ┆ ... ┆ table_sum ┆ price_sum ┆ x_sum     ┆ y_sum     │\n",
       "│ ---        ┆ ---   ┆ ---       ┆ ---       ┆     ┆ ---       ┆ ---       ┆ ---       ┆ ---       │\n",
       "│ str        ┆ str   ┆ f64       ┆ f64       ┆     ┆ f64       ┆ i64       ┆ f64       ┆ f64       │\n",
       "╞════════════╪═══════╪═══════════╪═══════════╪═════╪═══════════╪═══════════╪═══════════╪═══════════╡\n",
       "│ Ideal      ┆ H     ┆ 2490.52   ┆ 1.922989e ┆ ... ┆ 1.743336e ┆ 12115278  ┆ 1.785324e ┆ 1.788149e │\n",
       "│            ┆       ┆           ┆ 5         ┆     ┆ 5         ┆           ┆ 4         ┆ 4         │\n",
       "├╌╌╌╌╌╌╌╌╌╌╌╌┼╌╌╌╌╌╌╌┼╌╌╌╌╌╌╌╌╌╌╌┼╌╌╌╌╌╌╌╌╌╌╌┼╌╌╌╌╌┼╌╌╌╌╌╌╌╌╌╌╌┼╌╌╌╌╌╌╌╌╌╌╌┼╌╌╌╌╌╌╌╌╌╌╌┼╌╌╌╌╌╌╌╌╌╌╌┤\n",
       "│ Very Good  ┆ J     ┆ 768.32    ┆ 4.19696e4 ┆ ... ┆ 3.95123e4 ┆ 3460182   ┆ 4380.41   ┆ 4403.66   │\n",
       "├╌╌╌╌╌╌╌╌╌╌╌╌┼╌╌╌╌╌╌╌┼╌╌╌╌╌╌╌╌╌╌╌┼╌╌╌╌╌╌╌╌╌╌╌┼╌╌╌╌╌┼╌╌╌╌╌╌╌╌╌╌╌┼╌╌╌╌╌╌╌╌╌╌╌┼╌╌╌╌╌╌╌╌╌╌╌┼╌╌╌╌╌╌╌╌╌╌╌┤\n",
       "│ Ideal      ┆ G     ┆ 3422.29   ┆ 3.013436e ┆ ... ┆ 2.730272e ┆ 18171930  ┆ 2.691677e ┆ 2.697925e │\n",
       "│            ┆       ┆           ┆ 5         ┆     ┆ 5         ┆           ┆ 4         ┆ 4         │\n",
       "├╌╌╌╌╌╌╌╌╌╌╌╌┼╌╌╌╌╌╌╌┼╌╌╌╌╌╌╌╌╌╌╌┼╌╌╌╌╌╌╌╌╌╌╌┼╌╌╌╌╌┼╌╌╌╌╌╌╌╌╌╌╌┼╌╌╌╌╌╌╌╌╌╌╌┼╌╌╌╌╌╌╌╌╌╌╌┼╌╌╌╌╌╌╌╌╌╌╌┤\n",
       "│ Ideal      ┆ D     ┆ 1603.38   ┆ 1.747965e ┆ ... ┆ 1.586066e ┆ 7450854   ┆ 1.469912e ┆ 1.47261e4 │\n",
       "│            ┆       ┆           ┆ 5         ┆     ┆ 5         ┆           ┆ 4         ┆           │\n",
       "├╌╌╌╌╌╌╌╌╌╌╌╌┼╌╌╌╌╌╌╌┼╌╌╌╌╌╌╌╌╌╌╌┼╌╌╌╌╌╌╌╌╌╌╌┼╌╌╌╌╌┼╌╌╌╌╌╌╌╌╌╌╌┼╌╌╌╌╌╌╌╌╌╌╌┼╌╌╌╌╌╌╌╌╌╌╌┼╌╌╌╌╌╌╌╌╌╌╌┤\n",
       "│ ...        ┆ ...   ┆ ...       ┆ ...       ┆ ... ┆ ...       ┆ ...       ┆ ...       ┆ ...       │\n",
       "├╌╌╌╌╌╌╌╌╌╌╌╌┼╌╌╌╌╌╌╌┼╌╌╌╌╌╌╌╌╌╌╌┼╌╌╌╌╌╌╌╌╌╌╌┼╌╌╌╌╌┼╌╌╌╌╌╌╌╌╌╌╌┼╌╌╌╌╌╌╌╌╌╌╌┼╌╌╌╌╌╌╌╌╌╌╌┼╌╌╌╌╌╌╌╌╌╌╌┤\n",
       "│ Fair       ┆ D     ┆ 149.98    ┆ 1.04399e4 ┆ ... ┆ 9612      ┆ 699443    ┆ 980.99    ┆ 972       │\n",
       "├╌╌╌╌╌╌╌╌╌╌╌╌┼╌╌╌╌╌╌╌┼╌╌╌╌╌╌╌╌╌╌╌┼╌╌╌╌╌╌╌╌╌╌╌┼╌╌╌╌╌┼╌╌╌╌╌╌╌╌╌╌╌┼╌╌╌╌╌╌╌╌╌╌╌┼╌╌╌╌╌╌╌╌╌╌╌┼╌╌╌╌╌╌╌╌╌╌╌┤\n",
       "│ Very Good  ┆ E     ┆ 1623.16   ┆ 1.481526e ┆ ... ┆ 1.392933e ┆ 7715165   ┆ 1.303792e ┆ 1.311171e │\n",
       "│            ┆       ┆           ┆ 5         ┆     ┆ 5         ┆           ┆ 4         ┆ 4         │\n",
       "├╌╌╌╌╌╌╌╌╌╌╌╌┼╌╌╌╌╌╌╌┼╌╌╌╌╌╌╌╌╌╌╌┼╌╌╌╌╌╌╌╌╌╌╌┼╌╌╌╌╌┼╌╌╌╌╌╌╌╌╌╌╌┼╌╌╌╌╌╌╌╌╌╌╌┼╌╌╌╌╌╌╌╌╌╌╌┼╌╌╌╌╌╌╌╌╌╌╌┤\n",
       "│ Ideal      ┆ J     ┆ 952.98    ┆ 5.53925e4 ┆ ... ┆ 5.01873e4 ┆ 4406695   ┆ 5662.76   ┆ 5673.56   │\n",
       "├╌╌╌╌╌╌╌╌╌╌╌╌┼╌╌╌╌╌╌╌┼╌╌╌╌╌╌╌╌╌╌╌┼╌╌╌╌╌╌╌╌╌╌╌┼╌╌╌╌╌┼╌╌╌╌╌╌╌╌╌╌╌┼╌╌╌╌╌╌╌╌╌╌╌┼╌╌╌╌╌╌╌╌╌╌╌┼╌╌╌╌╌╌╌╌╌╌╌┤\n",
       "│ Fair       ┆ E     ┆ 191.88    ┆ 1.41836e4 ┆ ... ┆ 1.32977e4 ┆ 824838    ┆ 1323.63   ┆ 1312.24   │\n",
       "├╌╌╌╌╌╌╌╌╌╌╌╌┼╌╌╌╌╌╌╌┼╌╌╌╌╌╌╌╌╌╌╌┼╌╌╌╌╌╌╌╌╌╌╌┼╌╌╌╌╌┼╌╌╌╌╌╌╌╌╌╌╌┼╌╌╌╌╌╌╌╌╌╌╌┼╌╌╌╌╌╌╌╌╌╌╌┼╌╌╌╌╌╌╌╌╌╌╌┤\n",
       "│ Premium    ┆ F     ┆ 1927.82   ┆ 1.42797e5 ┆ ... ┆ 1.367814e ┆ 10081319  ┆ 1.369857e ┆ 1.362389e │\n",
       "│            ┆       ┆           ┆           ┆     ┆ 5         ┆           ┆ 4         ┆ 4         │\n",
       "╰────────────┴───────┴───────────┴───────────┴─────┴───────────┴───────────┴───────────┴───────────╯"
      ]
     },
     "execution_count": 90,
     "metadata": {},
     "output_type": "execute_result"
    }
   ],
   "source": [
    "# Select Every Column + Fxn\n",
    "df.groupby(['cut','color']).select_all().sum()"
   ]
  },
  {
   "cell_type": "markdown",
   "metadata": {},
   "source": [
    "#### Plotting with Pypolars\n",
    "+ No Direct Connection to Matplotlib\n",
    "    - df[].plot(kind='bar')\n",
    "+ Alternative is to use .to_pandas()"
   ]
  },
  {
   "cell_type": "code",
   "execution_count": 91,
   "metadata": {},
   "outputs": [],
   "source": [
    "# Load Data Vis Pkgs\n",
    "import matplotlib.pyplot as plt\n",
    "import seaborn as sns"
   ]
  },
  {
   "cell_type": "code",
   "execution_count": 92,
   "metadata": {},
   "outputs": [],
   "source": [
    "# Load EDA Pkgs\n",
    "# pip install py-polars\n",
    "import pypolars as pl"
   ]
  },
  {
   "cell_type": "code",
   "execution_count": 95,
   "metadata": {},
   "outputs": [],
   "source": [
    "# Create A Series\n",
    "x = pl.Series('X',['A','B','C'])\n",
    "y = pl.Series('Y',[3,5,4])"
   ]
  },
  {
   "cell_type": "code",
   "execution_count": 96,
   "metadata": {
    "collapsed": true,
    "jupyter": {
     "outputs_hidden": true
    }
   },
   "outputs": [
    {
     "data": {
      "text/plain": [
       "['__add__',\n",
       " '__array_ufunc__',\n",
       " '__class__',\n",
       " '__delattr__',\n",
       " '__dict__',\n",
       " '__dir__',\n",
       " '__doc__',\n",
       " '__eq__',\n",
       " '__floordiv__',\n",
       " '__format__',\n",
       " '__ge__',\n",
       " '__getattribute__',\n",
       " '__getitem__',\n",
       " '__gt__',\n",
       " '__hash__',\n",
       " '__init__',\n",
       " '__init_subclass__',\n",
       " '__invert__',\n",
       " '__iter__',\n",
       " '__le__',\n",
       " '__len__',\n",
       " '__lt__',\n",
       " '__module__',\n",
       " '__mul__',\n",
       " '__ne__',\n",
       " '__new__',\n",
       " '__radd__',\n",
       " '__reduce__',\n",
       " '__reduce_ex__',\n",
       " '__repr__',\n",
       " '__rfloordiv__',\n",
       " '__rmul__',\n",
       " '__rsub__',\n",
       " '__rtruediv__',\n",
       " '__setattr__',\n",
       " '__setitem__',\n",
       " '__sizeof__',\n",
       " '__str__',\n",
       " '__sub__',\n",
       " '__subclasshook__',\n",
       " '__truediv__',\n",
       " '__weakref__',\n",
       " '_from_pyseries',\n",
       " '_s',\n",
       " 'append',\n",
       " 'apply',\n",
       " 'arg_true',\n",
       " 'arg_unique',\n",
       " 'argsort',\n",
       " 'as_duration',\n",
       " 'cast',\n",
       " 'chunk_lengths',\n",
       " 'clone',\n",
       " 'datetime_str_fmt',\n",
       " 'day',\n",
       " 'drop_nulls',\n",
       " 'dtype',\n",
       " 'explode',\n",
       " 'fill_none',\n",
       " 'filter',\n",
       " 'head',\n",
       " 'hour',\n",
       " 'inner',\n",
       " 'is_duplicated',\n",
       " 'is_float',\n",
       " 'is_not_null',\n",
       " 'is_null',\n",
       " 'is_numeric',\n",
       " 'is_unique',\n",
       " 'len',\n",
       " 'limit',\n",
       " 'max',\n",
       " 'mean',\n",
       " 'min',\n",
       " 'minute',\n",
       " 'month',\n",
       " 'n_chunks',\n",
       " 'name',\n",
       " 'nanosecond',\n",
       " 'null_count',\n",
       " 'ordinal_day',\n",
       " 'parse_date',\n",
       " 'rechunk',\n",
       " 'rename',\n",
       " 'rolling_max',\n",
       " 'rolling_mean',\n",
       " 'rolling_min',\n",
       " 'rolling_sum',\n",
       " 'sample',\n",
       " 'second',\n",
       " 'series_equal',\n",
       " 'set',\n",
       " 'set_at_idx',\n",
       " 'shift',\n",
       " 'slice',\n",
       " 'sort',\n",
       " 'std',\n",
       " 'str_contains',\n",
       " 'str_lengths',\n",
       " 'str_parse_date',\n",
       " 'str_replace',\n",
       " 'str_replace_all',\n",
       " 'str_to_lowercase',\n",
       " 'str_to_uppercase',\n",
       " 'sum',\n",
       " 'tail',\n",
       " 'take',\n",
       " 'take_every',\n",
       " 'to_dummies',\n",
       " 'to_list',\n",
       " 'to_numpy',\n",
       " 'unique',\n",
       " 'value_counts',\n",
       " 'var',\n",
       " 'view',\n",
       " 'year',\n",
       " 'zip_with']"
      ]
     },
     "execution_count": 96,
     "metadata": {},
     "output_type": "execute_result"
    }
   ],
   "source": [
    "dir(x)"
   ]
  },
  {
   "cell_type": "code",
   "execution_count": 97,
   "metadata": {},
   "outputs": [
    {
     "data": {
      "text/plain": [
       "<BarContainer object of 3 artists>"
      ]
     },
     "execution_count": 97,
     "metadata": {},
     "output_type": "execute_result"
    },
    {
     "data": {
      "image/png": "[encoded data removed]",
      "text/plain": [
       "<Figure size 432x288 with 1 Axes>"
      ]
     },
     "metadata": {
      "needs_background": "light"
     },
     "output_type": "display_data"
    }
   ],
   "source": [
    "# Bar Chart Using Matplotlib\n",
    "plt.bar(x,y)"
   ]
  },
  {
   "cell_type": "code",
   "execution_count": 98,
   "metadata": {},
   "outputs": [],
   "source": [
    "# Load Dataset\n",
    "df = pl.read_csv(\"data/diamonds.csv\")"
   ]
  },
  {
   "cell_type": "code",
   "execution_count": 99,
   "metadata": {},
   "outputs": [
    {
     "data": {
      "text/plain": [
       "shape: (5, 10)\n",
       "╭───────┬─────────┬───────┬─────────┬─────┬───────┬───────┬───────┬──────╮\n",
       "│ carat ┆ cut     ┆ color ┆ clarity ┆ ... ┆ depth ┆ table ┆ price ┆ x    │\n",
       "│ ---   ┆ ---     ┆ ---   ┆ ---     ┆     ┆ ---   ┆ ---   ┆ ---   ┆ ---  │\n",
       "│ f64   ┆ str     ┆ str   ┆ str     ┆     ┆ f64   ┆ f64   ┆ i64   ┆ f64  │\n",
       "╞═══════╪═════════╪═══════╪═════════╪═════╪═══════╪═══════╪═══════╪══════╡\n",
       "│ 0.23  ┆ Ideal   ┆ E     ┆ SI2     ┆ ... ┆ 61.5  ┆ 55    ┆ 326   ┆ 3.95 │\n",
       "├╌╌╌╌╌╌╌┼╌╌╌╌╌╌╌╌╌┼╌╌╌╌╌╌╌┼╌╌╌╌╌╌╌╌╌┼╌╌╌╌╌┼╌╌╌╌╌╌╌┼╌╌╌╌╌╌╌┼╌╌╌╌╌╌╌┼╌╌╌╌╌╌┤\n",
       "│ 0.21  ┆ Premium ┆ E     ┆ SI1     ┆ ... ┆ 59.8  ┆ 61    ┆ 326   ┆ 3.89 │\n",
       "├╌╌╌╌╌╌╌┼╌╌╌╌╌╌╌╌╌┼╌╌╌╌╌╌╌┼╌╌╌╌╌╌╌╌╌┼╌╌╌╌╌┼╌╌╌╌╌╌╌┼╌╌╌╌╌╌╌┼╌╌╌╌╌╌╌┼╌╌╌╌╌╌┤\n",
       "│ 0.23  ┆ Good    ┆ E     ┆ VS1     ┆ ... ┆ 56.9  ┆ 65    ┆ 327   ┆ 4.05 │\n",
       "├╌╌╌╌╌╌╌┼╌╌╌╌╌╌╌╌╌┼╌╌╌╌╌╌╌┼╌╌╌╌╌╌╌╌╌┼╌╌╌╌╌┼╌╌╌╌╌╌╌┼╌╌╌╌╌╌╌┼╌╌╌╌╌╌╌┼╌╌╌╌╌╌┤\n",
       "│ 0.29  ┆ Premium ┆ I     ┆ VS2     ┆ ... ┆ 62.4  ┆ 58    ┆ 334   ┆ 4.2  │\n",
       "├╌╌╌╌╌╌╌┼╌╌╌╌╌╌╌╌╌┼╌╌╌╌╌╌╌┼╌╌╌╌╌╌╌╌╌┼╌╌╌╌╌┼╌╌╌╌╌╌╌┼╌╌╌╌╌╌╌┼╌╌╌╌╌╌╌┼╌╌╌╌╌╌┤\n",
       "│ 0.31  ┆ Good    ┆ J     ┆ SI2     ┆ ... ┆ 63.3  ┆ 58    ┆ 335   ┆ 4.34 │\n",
       "╰───────┴─────────┴───────┴─────────┴─────┴───────┴───────┴───────┴──────╯"
      ]
     },
     "execution_count": 99,
     "metadata": {},
     "output_type": "execute_result"
    }
   ],
   "source": [
    "df.head()"
   ]
  },
  {
   "cell_type": "code",
   "execution_count": 100,
   "metadata": {
    "collapsed": true,
    "jupyter": {
     "outputs_hidden": true
    }
   },
   "outputs": [
    {
     "data": {
      "text/plain": [
       "shape: (5, 2)\n",
       "╭───────────┬────────╮\n",
       "│ cut       ┆ counts │\n",
       "│ ---       ┆ ---    │\n",
       "│ str       ┆ u32    │\n",
       "╞═══════════╪════════╡\n",
       "│ Ideal     ┆ 21551  │\n",
       "├╌╌╌╌╌╌╌╌╌╌╌┼╌╌╌╌╌╌╌╌┤\n",
       "│ Premium   ┆ 13791  │\n",
       "├╌╌╌╌╌╌╌╌╌╌╌┼╌╌╌╌╌╌╌╌┤\n",
       "│ Very Good ┆ 12082  │\n",
       "├╌╌╌╌╌╌╌╌╌╌╌┼╌╌╌╌╌╌╌╌┤\n",
       "│ Good      ┆ 4906   │\n",
       "├╌╌╌╌╌╌╌╌╌╌╌┼╌╌╌╌╌╌╌╌┤\n",
       "│ Fair      ┆ 1610   │\n",
       "╰───────────┴────────╯"
      ]
     },
     "execution_count": 100,
     "metadata": {},
     "output_type": "execute_result"
    }
   ],
   "source": [
    "df['cut'].value_counts()"
   ]
  },
  {
   "cell_type": "code",
   "execution_count": 101,
   "metadata": {},
   "outputs": [
    {
     "data": {
      "text/plain": [
       "pypolars.frame.DataFrame"
      ]
     },
     "execution_count": 101,
     "metadata": {},
     "output_type": "execute_result"
    }
   ],
   "source": [
    "# type\n",
    "type(df['cut'].value_counts())"
   ]
  },
  {
   "cell_type": "code",
   "execution_count": 102,
   "metadata": {
    "collapsed": true,
    "jupyter": {
     "outputs_hidden": true
    }
   },
   "outputs": [
    {
     "ename": "AttributeError",
     "evalue": "plot not found",
     "output_type": "error",
     "traceback": [
      "\u001b[0;31m---------------------------------------------------------------------------\u001b[0m",
      "\u001b[0;31mRuntimeError\u001b[0m                              Traceback (most recent call last)",
      "\u001b[0;32m/usr/local/lib/python3.7/dist-packages/pypolars/frame.py\u001b[0m in \u001b[0;36m__getattr__\u001b[0;34m(self, item)\u001b[0m\n\u001b[1;32m    260\u001b[0m         \u001b[0;32mtry\u001b[0m\u001b[0;34m:\u001b[0m\u001b[0;34m\u001b[0m\u001b[0;34m\u001b[0m\u001b[0m\n\u001b[0;32m--> 261\u001b[0;31m             \u001b[0;32mreturn\u001b[0m \u001b[0mwrap_s\u001b[0m\u001b[0;34m(\u001b[0m\u001b[0mself\u001b[0m\u001b[0;34m.\u001b[0m\u001b[0m_df\u001b[0m\u001b[0;34m.\u001b[0m\u001b[0mcolumn\u001b[0m\u001b[0;34m(\u001b[0m\u001b[0mitem\u001b[0m\u001b[0;34m)\u001b[0m\u001b[0;34m)\u001b[0m\u001b[0;34m\u001b[0m\u001b[0;34m\u001b[0m\u001b[0m\n\u001b[0m\u001b[1;32m    262\u001b[0m         \u001b[0;32mexcept\u001b[0m \u001b[0mRuntimeError\u001b[0m\u001b[0;34m:\u001b[0m\u001b[0;34m\u001b[0m\u001b[0;34m\u001b[0m\u001b[0m\n",
      "\u001b[0;31mRuntimeError\u001b[0m: Any(NotFound(\"plot\"))",
      "\nDuring handling of the above exception, another exception occurred:\n",
      "\u001b[0;31mAttributeError\u001b[0m                            Traceback (most recent call last)",
      "\u001b[0;32m<ipython-input-102-6c9e7394c03c>\u001b[0m in \u001b[0;36m<module>\u001b[0;34m\u001b[0m\n\u001b[1;32m      1\u001b[0m \u001b[0;31m# In Pandas\u001b[0m\u001b[0;34m\u001b[0m\u001b[0;34m\u001b[0m\u001b[0;34m\u001b[0m\u001b[0m\n\u001b[0;32m----> 2\u001b[0;31m \u001b[0mdf\u001b[0m\u001b[0;34m[\u001b[0m\u001b[0;34m'cut'\u001b[0m\u001b[0;34m]\u001b[0m\u001b[0;34m.\u001b[0m\u001b[0mvalue_counts\u001b[0m\u001b[0;34m(\u001b[0m\u001b[0;34m)\u001b[0m\u001b[0;34m.\u001b[0m\u001b[0mplot\u001b[0m\u001b[0;34m(\u001b[0m\u001b[0mkind\u001b[0m\u001b[0;34m=\u001b[0m\u001b[0;34m'bar'\u001b[0m\u001b[0;34m)\u001b[0m\u001b[0;34m\u001b[0m\u001b[0;34m\u001b[0m\u001b[0m\n\u001b[0m",
      "\u001b[0;32m/usr/local/lib/python3.7/dist-packages/pypolars/frame.py\u001b[0m in \u001b[0;36m__getattr__\u001b[0;34m(self, item)\u001b[0m\n\u001b[1;32m    261\u001b[0m             \u001b[0;32mreturn\u001b[0m \u001b[0mwrap_s\u001b[0m\u001b[0;34m(\u001b[0m\u001b[0mself\u001b[0m\u001b[0;34m.\u001b[0m\u001b[0m_df\u001b[0m\u001b[0;34m.\u001b[0m\u001b[0mcolumn\u001b[0m\u001b[0;34m(\u001b[0m\u001b[0mitem\u001b[0m\u001b[0;34m)\u001b[0m\u001b[0;34m)\u001b[0m\u001b[0;34m\u001b[0m\u001b[0;34m\u001b[0m\u001b[0m\n\u001b[1;32m    262\u001b[0m         \u001b[0;32mexcept\u001b[0m \u001b[0mRuntimeError\u001b[0m\u001b[0;34m:\u001b[0m\u001b[0;34m\u001b[0m\u001b[0;34m\u001b[0m\u001b[0m\n\u001b[0;32m--> 263\u001b[0;31m             \u001b[0;32mraise\u001b[0m \u001b[0mAttributeError\u001b[0m\u001b[0;34m(\u001b[0m\u001b[0;34mf\"{item} not found\"\u001b[0m\u001b[0;34m)\u001b[0m\u001b[0;34m\u001b[0m\u001b[0;34m\u001b[0m\u001b[0m\n\u001b[0m\u001b[1;32m    264\u001b[0m \u001b[0;34m\u001b[0m\u001b[0m\n\u001b[1;32m    265\u001b[0m     \u001b[0;32mdef\u001b[0m \u001b[0m__iter__\u001b[0m\u001b[0;34m(\u001b[0m\u001b[0mself\u001b[0m\u001b[0;34m)\u001b[0m\u001b[0;34m:\u001b[0m\u001b[0;34m\u001b[0m\u001b[0;34m\u001b[0m\u001b[0m\n",
      "\u001b[0;31mAttributeError\u001b[0m: plot not found"
     ]
    }
   ],
   "source": [
    "# In Pandas\n",
    "df['cut'].value_counts().plot(kind='bar')"
   ]
  },
  {
   "cell_type": "code",
   "execution_count": 103,
   "metadata": {},
   "outputs": [],
   "source": [
    "# Method : Separately\n",
    "vc = df['cut'].value_counts()"
   ]
  },
  {
   "cell_type": "code",
   "execution_count": 104,
   "metadata": {},
   "outputs": [
    {
     "data": {
      "text/plain": [
       "shape: (5, 2)\n",
       "╭───────────┬────────╮\n",
       "│ cut       ┆ counts │\n",
       "│ ---       ┆ ---    │\n",
       "│ str       ┆ u32    │\n",
       "╞═══════════╪════════╡\n",
       "│ Ideal     ┆ 21551  │\n",
       "├╌╌╌╌╌╌╌╌╌╌╌┼╌╌╌╌╌╌╌╌┤\n",
       "│ Premium   ┆ 13791  │\n",
       "├╌╌╌╌╌╌╌╌╌╌╌┼╌╌╌╌╌╌╌╌┤\n",
       "│ Very Good ┆ 12082  │\n",
       "├╌╌╌╌╌╌╌╌╌╌╌┼╌╌╌╌╌╌╌╌┤\n",
       "│ Good      ┆ 4906   │\n",
       "├╌╌╌╌╌╌╌╌╌╌╌┼╌╌╌╌╌╌╌╌┤\n",
       "│ Fair      ┆ 1610   │\n",
       "╰───────────┴────────╯"
      ]
     },
     "execution_count": 104,
     "metadata": {},
     "output_type": "execute_result"
    }
   ],
   "source": [
    "vc.head()"
   ]
  },
  {
   "cell_type": "code",
   "execution_count": 105,
   "metadata": {},
   "outputs": [
    {
     "data": {
      "text/plain": [
       "<BarContainer object of 5 artists>"
      ]
     },
     "execution_count": 105,
     "metadata": {},
     "output_type": "execute_result"
    },
    {
     "data": {
      "image/png": "[encoded data removed]",
      "text/plain": [
       "<Figure size 432x288 with 1 Axes>"
      ]
     },
     "metadata": {
      "needs_background": "light"
     },
     "output_type": "display_data"
    }
   ],
   "source": [
    "plt.bar(vc['cut'],vc['counts'])"
   ]
  },
  {
   "cell_type": "code",
   "execution_count": 107,
   "metadata": {},
   "outputs": [
    {
     "data": {
      "text/plain": [
       "<matplotlib.axes._subplots.AxesSubplot at 0x7f93a76f7450>"
      ]
     },
     "execution_count": 107,
     "metadata": {},
     "output_type": "execute_result"
    },
    {
     "data": {
      "image/png": "[encoded data removed]",
      "text/plain": [
       "<Figure size 432x288 with 1 Axes>"
      ]
     },
     "metadata": {
      "needs_background": "light"
     },
     "output_type": "display_data"
    }
   ],
   "source": [
    "# Method 2: Indirect via to_pandas()\n",
    "df['cut'].value_counts().to_pandas().plot(kind='bar')"
   ]
  },
  {
   "cell_type": "code",
   "execution_count": 108,
   "metadata": {
    "collapsed": true,
    "jupyter": {
     "outputs_hidden": true
    }
   },
   "outputs": [
    {
     "data": {
      "text/plain": [
       "shape: (53940, 10)\n",
       "╭───────┬───────────┬───────┬─────────┬─────┬───────┬───────┬───────┬──────╮\n",
       "│ carat ┆ cut       ┆ color ┆ clarity ┆ ... ┆ depth ┆ table ┆ price ┆ x    │\n",
       "│ ---   ┆ ---       ┆ ---   ┆ ---     ┆     ┆ ---   ┆ ---   ┆ ---   ┆ ---  │\n",
       "│ f64   ┆ str       ┆ str   ┆ str     ┆     ┆ f64   ┆ f64   ┆ i64   ┆ f64  │\n",
       "╞═══════╪═══════════╪═══════╪═════════╪═════╪═══════╪═══════╪═══════╪══════╡\n",
       "│ 0.23  ┆ Ideal     ┆ E     ┆ SI2     ┆ ... ┆ 61.5  ┆ 55    ┆ 326   ┆ 3.95 │\n",
       "├╌╌╌╌╌╌╌┼╌╌╌╌╌╌╌╌╌╌╌┼╌╌╌╌╌╌╌┼╌╌╌╌╌╌╌╌╌┼╌╌╌╌╌┼╌╌╌╌╌╌╌┼╌╌╌╌╌╌╌┼╌╌╌╌╌╌╌┼╌╌╌╌╌╌┤\n",
       "│ 0.21  ┆ Premium   ┆ E     ┆ SI1     ┆ ... ┆ 59.8  ┆ 61    ┆ 326   ┆ 3.89 │\n",
       "├╌╌╌╌╌╌╌┼╌╌╌╌╌╌╌╌╌╌╌┼╌╌╌╌╌╌╌┼╌╌╌╌╌╌╌╌╌┼╌╌╌╌╌┼╌╌╌╌╌╌╌┼╌╌╌╌╌╌╌┼╌╌╌╌╌╌╌┼╌╌╌╌╌╌┤\n",
       "│ 0.23  ┆ Good      ┆ E     ┆ VS1     ┆ ... ┆ 56.9  ┆ 65    ┆ 327   ┆ 4.05 │\n",
       "├╌╌╌╌╌╌╌┼╌╌╌╌╌╌╌╌╌╌╌┼╌╌╌╌╌╌╌┼╌╌╌╌╌╌╌╌╌┼╌╌╌╌╌┼╌╌╌╌╌╌╌┼╌╌╌╌╌╌╌┼╌╌╌╌╌╌╌┼╌╌╌╌╌╌┤\n",
       "│ 0.29  ┆ Premium   ┆ I     ┆ VS2     ┆ ... ┆ 62.4  ┆ 58    ┆ 334   ┆ 4.2  │\n",
       "├╌╌╌╌╌╌╌┼╌╌╌╌╌╌╌╌╌╌╌┼╌╌╌╌╌╌╌┼╌╌╌╌╌╌╌╌╌┼╌╌╌╌╌┼╌╌╌╌╌╌╌┼╌╌╌╌╌╌╌┼╌╌╌╌╌╌╌┼╌╌╌╌╌╌┤\n",
       "│ ...   ┆ ...       ┆ ...   ┆ ...     ┆ ... ┆ ...   ┆ ...   ┆ ...   ┆ ...  │\n",
       "├╌╌╌╌╌╌╌┼╌╌╌╌╌╌╌╌╌╌╌┼╌╌╌╌╌╌╌┼╌╌╌╌╌╌╌╌╌┼╌╌╌╌╌┼╌╌╌╌╌╌╌┼╌╌╌╌╌╌╌┼╌╌╌╌╌╌╌┼╌╌╌╌╌╌┤\n",
       "│ 0.72  ┆ Ideal     ┆ D     ┆ SI1     ┆ ... ┆ 60.8  ┆ 57    ┆ 2757  ┆ 5.75 │\n",
       "├╌╌╌╌╌╌╌┼╌╌╌╌╌╌╌╌╌╌╌┼╌╌╌╌╌╌╌┼╌╌╌╌╌╌╌╌╌┼╌╌╌╌╌┼╌╌╌╌╌╌╌┼╌╌╌╌╌╌╌┼╌╌╌╌╌╌╌┼╌╌╌╌╌╌┤\n",
       "│ 0.72  ┆ Good      ┆ D     ┆ SI1     ┆ ... ┆ 63.1  ┆ 55    ┆ 2757  ┆ 5.69 │\n",
       "├╌╌╌╌╌╌╌┼╌╌╌╌╌╌╌╌╌╌╌┼╌╌╌╌╌╌╌┼╌╌╌╌╌╌╌╌╌┼╌╌╌╌╌┼╌╌╌╌╌╌╌┼╌╌╌╌╌╌╌┼╌╌╌╌╌╌╌┼╌╌╌╌╌╌┤\n",
       "│ 0.7   ┆ Very Good ┆ D     ┆ SI1     ┆ ... ┆ 62.8  ┆ 60    ┆ 2757  ┆ 5.66 │\n",
       "├╌╌╌╌╌╌╌┼╌╌╌╌╌╌╌╌╌╌╌┼╌╌╌╌╌╌╌┼╌╌╌╌╌╌╌╌╌┼╌╌╌╌╌┼╌╌╌╌╌╌╌┼╌╌╌╌╌╌╌┼╌╌╌╌╌╌╌┼╌╌╌╌╌╌┤\n",
       "│ 0.86  ┆ Premium   ┆ H     ┆ SI2     ┆ ... ┆ 61    ┆ 58    ┆ 2757  ┆ 6.15 │\n",
       "├╌╌╌╌╌╌╌┼╌╌╌╌╌╌╌╌╌╌╌┼╌╌╌╌╌╌╌┼╌╌╌╌╌╌╌╌╌┼╌╌╌╌╌┼╌╌╌╌╌╌╌┼╌╌╌╌╌╌╌┼╌╌╌╌╌╌╌┼╌╌╌╌╌╌┤\n",
       "│ 0.75  ┆ Ideal     ┆ D     ┆ SI2     ┆ ... ┆ 62.2  ┆ 55    ┆ 2757  ┆ 5.83 │\n",
       "╰───────┴───────────┴───────┴─────────┴─────┴───────┴───────┴───────┴──────╯"
      ]
     },
     "execution_count": 108,
     "metadata": {},
     "output_type": "execute_result"
    }
   ],
   "source": [
    "# Using Seaborn\n",
    "df"
   ]
  },
  {
   "cell_type": "code",
   "execution_count": 109,
   "metadata": {},
   "outputs": [],
   "source": [
    "import seaborn as sns"
   ]
  },
  {
   "cell_type": "code",
   "execution_count": 112,
   "metadata": {},
   "outputs": [
    {
     "data": {
      "text/plain": [
       "<seaborn.axisgrid.FacetGrid at 0x7f93a7649590>"
      ]
     },
     "execution_count": 112,
     "metadata": {},
     "output_type": "execute_result"
    },
    {
     "data": {
      "image/png": "[encoded data removed]",
      "text/plain": [
       "<Figure size 447.5x360 with 1 Axes>"
      ]
     },
     "metadata": {
      "needs_background": "light"
     },
     "output_type": "display_data"
    }
   ],
   "source": [
    "# Works in Pandas\n",
    "# Convert to pandas\n",
    "sns.displot(data=df.to_pandas(),x='price',hue='cut')"
   ]
  },
  {
   "cell_type": "code",
   "execution_count": null,
   "metadata": {},
   "outputs": [],
   "source": []
  }
 ],
 "metadata": {
  "kernelspec": {
   "display_name": "Python 3",
   "language": "python",
   "name": "python3"
  },
  "language_info": {
   "codemirror_mode": {
    "name": "ipython",
    "version": 3
   },
   "file_extension": ".py",
   "mimetype": "text/x-python",
   "name": "python",
   "nbconvert_exporter": "python",
   "pygments_lexer": "ipython3",
   "version": "3.10.7"
  }
 },
 "nbformat": 4,
 "nbformat_minor": 4
}
