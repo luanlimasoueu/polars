{
 "cells": [
  {
   "cell_type": "code",
   "execution_count": 1,
   "metadata": {},
   "outputs": [
    {
     "data": {
      "text/html": [
       "<div><style>\n",
       ".dataframe > thead > tr,\n",
       ".dataframe > tbody > tr {\n",
       "  text-align: right;\n",
       "  white-space: pre-wrap;\n",
       "}\n",
       "</style>\n",
       "<small>shape: (5_000, 3)</small><table border=\"1\" class=\"dataframe\"><thead><tr><th>sqft</th><th>year</th><th>building_type</th></tr><tr><td>f64</td><td>i64</td><td>str</td></tr></thead><tbody><tr><td>707.529256</td><td>1996</td><td>&quot;C&quot;</td></tr><tr><td>1025.203348</td><td>2020</td><td>&quot;C&quot;</td></tr><tr><td>568.548657</td><td>2012</td><td>&quot;A&quot;</td></tr><tr><td>895.109864</td><td>2000</td><td>&quot;A&quot;</td></tr><tr><td>206.532754</td><td>2011</td><td>&quot;A&quot;</td></tr><tr><td>3383.637351</td><td>2018</td><td>&quot;B&quot;</td></tr><tr><td>9.753627</td><td>2007</td><td>&quot;A&quot;</td></tr><tr><td>2809.215763</td><td>2004</td><td>&quot;B&quot;</td></tr><tr><td>575.332756</td><td>2021</td><td>&quot;A&quot;</td></tr><tr><td>300.534013</td><td>2003</td><td>&quot;A&quot;</td></tr><tr><td>541.135894</td><td>2017</td><td>&quot;A&quot;</td></tr><tr><td>312.145612</td><td>2014</td><td>&quot;B&quot;</td></tr><tr><td>&hellip;</td><td>&hellip;</td><td>&hellip;</td></tr><tr><td>1231.193702</td><td>2003</td><td>&quot;C&quot;</td></tr><tr><td>130.880251</td><td>2011</td><td>&quot;A&quot;</td></tr><tr><td>197.842124</td><td>2003</td><td>&quot;A&quot;</td></tr><tr><td>1230.728039</td><td>2012</td><td>&quot;C&quot;</td></tr><tr><td>90.221593</td><td>2006</td><td>&quot;B&quot;</td></tr><tr><td>932.780032</td><td>2002</td><td>&quot;A&quot;</td></tr><tr><td>18.457988</td><td>2015</td><td>&quot;B&quot;</td></tr><tr><td>710.435755</td><td>2003</td><td>&quot;C&quot;</td></tr><tr><td>408.872783</td><td>2009</td><td>&quot;C&quot;</td></tr><tr><td>57.562059</td><td>2019</td><td>&quot;C&quot;</td></tr><tr><td>3728.088949</td><td>2020</td><td>&quot;C&quot;</td></tr><tr><td>686.678345</td><td>2011</td><td>&quot;C&quot;</td></tr></tbody></table></div>"
      ],
      "text/plain": [
       "shape: (5_000, 3)\n",
       "┌─────────────┬──────┬───────────────┐\n",
       "│ sqft        ┆ year ┆ building_type │\n",
       "│ ---         ┆ ---  ┆ ---           │\n",
       "│ f64         ┆ i64  ┆ str           │\n",
       "╞═════════════╪══════╪═══════════════╡\n",
       "│ 707.529256  ┆ 1996 ┆ C             │\n",
       "│ 1025.203348 ┆ 2020 ┆ C             │\n",
       "│ 568.548657  ┆ 2012 ┆ A             │\n",
       "│ 895.109864  ┆ 2000 ┆ A             │\n",
       "│ …           ┆ …    ┆ …             │\n",
       "│ 408.872783  ┆ 2009 ┆ C             │\n",
       "│ 57.562059   ┆ 2019 ┆ C             │\n",
       "│ 3728.088949 ┆ 2020 ┆ C             │\n",
       "│ 686.678345  ┆ 2011 ┆ C             │\n",
       "└─────────────┴──────┴───────────────┘"
      ]
     },
     "execution_count": 1,
     "metadata": {},
     "output_type": "execute_result"
    }
   ],
   "source": [
    "import numpy as np\n",
    "import polars as pl\n",
    "\n",
    "num_rows = 5000\n",
    "rng = np.random.default_rng(seed=7)\n",
    "\n",
    "buildings_data = {\n",
    "     \"sqft\": rng.exponential(scale=1000, size=num_rows),\n",
    "      \"year\": rng.integers(low=1995, high=2023, size=num_rows),\n",
    "     \"building_type\": rng.choice([\"A\", \"B\", \"C\"], size=num_rows),\n",
    "  }\n",
    "buildings = pl.DataFrame(buildings_data)\n",
    "buildings"
   ]
  },
  {
   "cell_type": "code",
   "execution_count": 2,
   "metadata": {},
   "outputs": [
    {
     "data": {
      "text/plain": [
       "OrderedDict([('sqft', Float64), ('year', Int64), ('building_type', String)])"
      ]
     },
     "execution_count": 2,
     "metadata": {},
     "output_type": "execute_result"
    }
   ],
   "source": [
    "buildings.schema"
   ]
  },
  {
   "cell_type": "code",
   "execution_count": 3,
   "metadata": {},
   "outputs": [
    {
     "data": {
      "text/html": [
       "<div><style>\n",
       ".dataframe > thead > tr,\n",
       ".dataframe > tbody > tr {\n",
       "  text-align: right;\n",
       "  white-space: pre-wrap;\n",
       "}\n",
       "</style>\n",
       "<small>shape: (5, 3)</small><table border=\"1\" class=\"dataframe\"><thead><tr><th>sqft</th><th>year</th><th>building_type</th></tr><tr><td>f64</td><td>i64</td><td>str</td></tr></thead><tbody><tr><td>707.529256</td><td>1996</td><td>&quot;C&quot;</td></tr><tr><td>1025.203348</td><td>2020</td><td>&quot;C&quot;</td></tr><tr><td>568.548657</td><td>2012</td><td>&quot;A&quot;</td></tr><tr><td>895.109864</td><td>2000</td><td>&quot;A&quot;</td></tr><tr><td>206.532754</td><td>2011</td><td>&quot;A&quot;</td></tr></tbody></table></div>"
      ],
      "text/plain": [
       "shape: (5, 3)\n",
       "┌─────────────┬──────┬───────────────┐\n",
       "│ sqft        ┆ year ┆ building_type │\n",
       "│ ---         ┆ ---  ┆ ---           │\n",
       "│ f64         ┆ i64  ┆ str           │\n",
       "╞═════════════╪══════╪═══════════════╡\n",
       "│ 707.529256  ┆ 1996 ┆ C             │\n",
       "│ 1025.203348 ┆ 2020 ┆ C             │\n",
       "│ 568.548657  ┆ 2012 ┆ A             │\n",
       "│ 895.109864  ┆ 2000 ┆ A             │\n",
       "│ 206.532754  ┆ 2011 ┆ A             │\n",
       "└─────────────┴──────┴───────────────┘"
      ]
     },
     "execution_count": 3,
     "metadata": {},
     "output_type": "execute_result"
    }
   ],
   "source": [
    "buildings.head()"
   ]
  },
  {
   "cell_type": "code",
   "execution_count": 4,
   "metadata": {},
   "outputs": [
    {
     "data": {
      "text/html": [
       "<div><style>\n",
       ".dataframe > thead > tr,\n",
       ".dataframe > tbody > tr {\n",
       "  text-align: right;\n",
       "  white-space: pre-wrap;\n",
       "}\n",
       "</style>\n",
       "<small>shape: (9, 4)</small><table border=\"1\" class=\"dataframe\"><thead><tr><th>describe</th><th>sqft</th><th>year</th><th>building_type</th></tr><tr><td>str</td><td>f64</td><td>f64</td><td>str</td></tr></thead><tbody><tr><td>&quot;count&quot;</td><td>5000.0</td><td>5000.0</td><td>&quot;5000&quot;</td></tr><tr><td>&quot;null_count&quot;</td><td>0.0</td><td>0.0</td><td>&quot;0&quot;</td></tr><tr><td>&quot;mean&quot;</td><td>994.094456</td><td>2008.5258</td><td>null</td></tr><tr><td>&quot;std&quot;</td><td>1016.641569</td><td>8.062353</td><td>null</td></tr><tr><td>&quot;min&quot;</td><td>1.133256</td><td>1995.0</td><td>&quot;A&quot;</td></tr><tr><td>&quot;25%&quot;</td><td>286.807549</td><td>2001.0</td><td>null</td></tr><tr><td>&quot;50%&quot;</td><td>669.406964</td><td>2009.0</td><td>null</td></tr><tr><td>&quot;75%&quot;</td><td>1342.909782</td><td>2015.0</td><td>null</td></tr><tr><td>&quot;max&quot;</td><td>9307.793917</td><td>2022.0</td><td>&quot;C&quot;</td></tr></tbody></table></div>"
      ],
      "text/plain": [
       "shape: (9, 4)\n",
       "┌────────────┬─────────────┬───────────┬───────────────┐\n",
       "│ describe   ┆ sqft        ┆ year      ┆ building_type │\n",
       "│ ---        ┆ ---         ┆ ---       ┆ ---           │\n",
       "│ str        ┆ f64         ┆ f64       ┆ str           │\n",
       "╞════════════╪═════════════╪═══════════╪═══════════════╡\n",
       "│ count      ┆ 5000.0      ┆ 5000.0    ┆ 5000          │\n",
       "│ null_count ┆ 0.0         ┆ 0.0       ┆ 0             │\n",
       "│ mean       ┆ 994.094456  ┆ 2008.5258 ┆ null          │\n",
       "│ std        ┆ 1016.641569 ┆ 8.062353  ┆ null          │\n",
       "│ min        ┆ 1.133256    ┆ 1995.0    ┆ A             │\n",
       "│ 25%        ┆ 286.807549  ┆ 2001.0    ┆ null          │\n",
       "│ 50%        ┆ 669.406964  ┆ 2009.0    ┆ null          │\n",
       "│ 75%        ┆ 1342.909782 ┆ 2015.0    ┆ null          │\n",
       "│ max        ┆ 9307.793917 ┆ 2022.0    ┆ C             │\n",
       "└────────────┴─────────────┴───────────┴───────────────┘"
      ]
     },
     "execution_count": 4,
     "metadata": {},
     "output_type": "execute_result"
    }
   ],
   "source": [
    "buildings.describe()"
   ]
  },
  {
   "cell_type": "code",
   "execution_count": 5,
   "metadata": {},
   "outputs": [
    {
     "data": {
      "text/html": [
       "<div><style>\n",
       ".dataframe > thead > tr,\n",
       ".dataframe > tbody > tr {\n",
       "  text-align: right;\n",
       "  white-space: pre-wrap;\n",
       "}\n",
       "</style>\n",
       "<small>shape: (5_000, 1)</small><table border=\"1\" class=\"dataframe\"><thead><tr><th>sqft</th></tr><tr><td>f64</td></tr></thead><tbody><tr><td>707.529256</td></tr><tr><td>1025.203348</td></tr><tr><td>568.548657</td></tr><tr><td>895.109864</td></tr><tr><td>206.532754</td></tr><tr><td>3383.637351</td></tr><tr><td>9.753627</td></tr><tr><td>2809.215763</td></tr><tr><td>575.332756</td></tr><tr><td>300.534013</td></tr><tr><td>541.135894</td></tr><tr><td>312.145612</td></tr><tr><td>&hellip;</td></tr><tr><td>1231.193702</td></tr><tr><td>130.880251</td></tr><tr><td>197.842124</td></tr><tr><td>1230.728039</td></tr><tr><td>90.221593</td></tr><tr><td>932.780032</td></tr><tr><td>18.457988</td></tr><tr><td>710.435755</td></tr><tr><td>408.872783</td></tr><tr><td>57.562059</td></tr><tr><td>3728.088949</td></tr><tr><td>686.678345</td></tr></tbody></table></div>"
      ],
      "text/plain": [
       "shape: (5_000, 1)\n",
       "┌─────────────┐\n",
       "│ sqft        │\n",
       "│ ---         │\n",
       "│ f64         │\n",
       "╞═════════════╡\n",
       "│ 707.529256  │\n",
       "│ 1025.203348 │\n",
       "│ 568.548657  │\n",
       "│ 895.109864  │\n",
       "│ …           │\n",
       "│ 408.872783  │\n",
       "│ 57.562059   │\n",
       "│ 3728.088949 │\n",
       "│ 686.678345  │\n",
       "└─────────────┘"
      ]
     },
     "execution_count": 5,
     "metadata": {},
     "output_type": "execute_result"
    }
   ],
   "source": [
    "buildings.select(\"sqft\")"
   ]
  },
  {
   "cell_type": "code",
   "execution_count": 6,
   "metadata": {},
   "outputs": [
    {
     "data": {
      "text/html": [
       "<div><style>\n",
       ".dataframe > thead > tr,\n",
       ".dataframe > tbody > tr {\n",
       "  text-align: right;\n",
       "  white-space: pre-wrap;\n",
       "}\n",
       "</style>\n",
       "<small>shape: (5_000, 1)</small><table border=\"1\" class=\"dataframe\"><thead><tr><th>sqft</th></tr><tr><td>f64</td></tr></thead><tbody><tr><td>707.529256</td></tr><tr><td>1025.203348</td></tr><tr><td>568.548657</td></tr><tr><td>895.109864</td></tr><tr><td>206.532754</td></tr><tr><td>3383.637351</td></tr><tr><td>9.753627</td></tr><tr><td>2809.215763</td></tr><tr><td>575.332756</td></tr><tr><td>300.534013</td></tr><tr><td>541.135894</td></tr><tr><td>312.145612</td></tr><tr><td>&hellip;</td></tr><tr><td>1231.193702</td></tr><tr><td>130.880251</td></tr><tr><td>197.842124</td></tr><tr><td>1230.728039</td></tr><tr><td>90.221593</td></tr><tr><td>932.780032</td></tr><tr><td>18.457988</td></tr><tr><td>710.435755</td></tr><tr><td>408.872783</td></tr><tr><td>57.562059</td></tr><tr><td>3728.088949</td></tr><tr><td>686.678345</td></tr></tbody></table></div>"
      ],
      "text/plain": [
       "shape: (5_000, 1)\n",
       "┌─────────────┐\n",
       "│ sqft        │\n",
       "│ ---         │\n",
       "│ f64         │\n",
       "╞═════════════╡\n",
       "│ 707.529256  │\n",
       "│ 1025.203348 │\n",
       "│ 568.548657  │\n",
       "│ 895.109864  │\n",
       "│ …           │\n",
       "│ 408.872783  │\n",
       "│ 57.562059   │\n",
       "│ 3728.088949 │\n",
       "│ 686.678345  │\n",
       "└─────────────┘"
      ]
     },
     "execution_count": 6,
     "metadata": {},
     "output_type": "execute_result"
    }
   ],
   "source": [
    "buildings.select(pl.col(\"sqft\"))"
   ]
  },
  {
   "cell_type": "code",
   "execution_count": 7,
   "metadata": {},
   "outputs": [
    {
     "data": {
      "text/html": [
       "<div><style>\n",
       ".dataframe > thead > tr,\n",
       ".dataframe > tbody > tr {\n",
       "  text-align: right;\n",
       "  white-space: pre-wrap;\n",
       "}\n",
       "</style>\n",
       "<small>shape: (5_000, 1)</small><table border=\"1\" class=\"dataframe\"><thead><tr><th>sqft</th></tr><tr><td>f64</td></tr></thead><tbody><tr><td>0.001133</td></tr><tr><td>0.001152</td></tr><tr><td>0.001429</td></tr><tr><td>0.001439</td></tr><tr><td>0.001505</td></tr><tr><td>0.001597</td></tr><tr><td>0.001747</td></tr><tr><td>0.00195</td></tr><tr><td>0.002005</td></tr><tr><td>0.002024</td></tr><tr><td>0.002132</td></tr><tr><td>0.002165</td></tr><tr><td>&hellip;</td></tr><tr><td>6.276962</td></tr><tr><td>6.371619</td></tr><tr><td>6.376519</td></tr><tr><td>6.49438</td></tr><tr><td>6.529119</td></tr><tr><td>6.585621</td></tr><tr><td>6.692962</td></tr><tr><td>6.931917</td></tr><tr><td>7.247539</td></tr><tr><td>7.629569</td></tr><tr><td>8.313942</td></tr><tr><td>9.307794</td></tr></tbody></table></div>"
      ],
      "text/plain": [
       "shape: (5_000, 1)\n",
       "┌──────────┐\n",
       "│ sqft     │\n",
       "│ ---      │\n",
       "│ f64      │\n",
       "╞══════════╡\n",
       "│ 0.001133 │\n",
       "│ 0.001152 │\n",
       "│ 0.001429 │\n",
       "│ 0.001439 │\n",
       "│ …        │\n",
       "│ 7.247539 │\n",
       "│ 7.629569 │\n",
       "│ 8.313942 │\n",
       "│ 9.307794 │\n",
       "└──────────┘"
      ]
     },
     "execution_count": 7,
     "metadata": {},
     "output_type": "execute_result"
    }
   ],
   "source": [
    "buildings.select(pl.col(\"sqft\").sort() / 1000)"
   ]
  },
  {
   "cell_type": "code",
   "execution_count": 9,
   "metadata": {},
   "outputs": [
    {
     "data": {
      "text/html": [
       "<div><style>\n",
       ".dataframe > thead > tr,\n",
       ".dataframe > tbody > tr {\n",
       "  text-align: right;\n",
       "  white-space: pre-wrap;\n",
       "}\n",
       "</style>\n",
       "<small>shape: (1, 1)</small><table border=\"1\" class=\"dataframe\"><thead><tr><th>year</th></tr><tr><td>i64</td></tr></thead><tbody><tr><td>2016</td></tr></tbody></table></div>"
      ],
      "text/plain": [
       "shape: (1, 1)\n",
       "┌──────┐\n",
       "│ year │\n",
       "│ ---  │\n",
       "│ i64  │\n",
       "╞══════╡\n",
       "│ 2016 │\n",
       "└──────┘"
      ]
     },
     "execution_count": 9,
     "metadata": {},
     "output_type": "execute_result"
    }
   ],
   "source": [
    "after_2015 = buildings.filter(pl.col(\"year\") > 2015)\n",
    "after_2015.select(pl.col(\"year\").min())"
   ]
  },
  {
   "cell_type": "code",
   "execution_count": 10,
   "metadata": {},
   "outputs": [
    {
     "name": "stderr",
     "output_type": "stream",
     "text": [
      "C:\\Users\\Luan Lima\\AppData\\Local\\Temp\\ipykernel_18520\\25558405.py:1: DeprecationWarning: `groupby` is deprecated. It has been renamed to `group_by`.\n",
      "  buildings.groupby(\"building_type\").agg(\n"
     ]
    },
    {
     "data": {
      "text/html": [
       "<div><style>\n",
       ".dataframe > thead > tr,\n",
       ".dataframe > tbody > tr {\n",
       "  text-align: right;\n",
       "  white-space: pre-wrap;\n",
       "}\n",
       "</style>\n",
       "<small>shape: (3, 4)</small><table border=\"1\" class=\"dataframe\"><thead><tr><th>building_type</th><th>mean_sqft</th><th>median_year</th><th>count</th></tr><tr><td>str</td><td>f64</td><td>f64</td><td>u32</td></tr></thead><tbody><tr><td>&quot;A&quot;</td><td>989.539918</td><td>2009.0</td><td>1653</td></tr><tr><td>&quot;B&quot;</td><td>992.754444</td><td>2009.0</td><td>1655</td></tr><tr><td>&quot;C&quot;</td><td>999.854722</td><td>2009.0</td><td>1692</td></tr></tbody></table></div>"
      ],
      "text/plain": [
       "shape: (3, 4)\n",
       "┌───────────────┬────────────┬─────────────┬───────┐\n",
       "│ building_type ┆ mean_sqft  ┆ median_year ┆ count │\n",
       "│ ---           ┆ ---        ┆ ---         ┆ ---   │\n",
       "│ str           ┆ f64        ┆ f64         ┆ u32   │\n",
       "╞═══════════════╪════════════╪═════════════╪═══════╡\n",
       "│ A             ┆ 989.539918 ┆ 2009.0      ┆ 1653  │\n",
       "│ B             ┆ 992.754444 ┆ 2009.0      ┆ 1655  │\n",
       "│ C             ┆ 999.854722 ┆ 2009.0      ┆ 1692  │\n",
       "└───────────────┴────────────┴─────────────┴───────┘"
      ]
     },
     "execution_count": 10,
     "metadata": {},
     "output_type": "execute_result"
    }
   ],
   "source": [
    "buildings.groupby(\"building_type\").agg(\n",
    " [\n",
    "      pl.mean(\"sqft\").alias(\"mean_sqft\"),\n",
    "        pl.median(\"year\").alias(\"median_year\"),\n",
    "        pl.count(),\n",
    "    ]\n",
    "  )"
   ]
  },
  {
   "cell_type": "code",
   "execution_count": null,
   "metadata": {},
   "outputs": [],
   "source": [
    "lazy_query = (\n",
    "    buildings_lazy\n",
    "     .with_columns(\n",
    "...         (pl.col(\"price\") / pl.col(\"sqft\")).alias(\"price_per_sqft\")\n",
    "...     )\n",
    "...     .filter(pl.col(\"price_per_sqft\") > 100)\n",
    "...     .filter(pl.col(\"year\") < 2010)\n",
    "...  )\n",
    ">>> lazy_query"
   ]
  }
 ],
 "metadata": {
  "kernelspec": {
   "display_name": "Python 3",
   "language": "python",
   "name": "python3"
  },
  "language_info": {
   "codemirror_mode": {
    "name": "ipython",
    "version": 3
   },
   "file_extension": ".py",
   "mimetype": "text/x-python",
   "name": "python",
   "nbconvert_exporter": "python",
   "pygments_lexer": "ipython3",
   "version": "3.10.7"
  }
 },
 "nbformat": 4,
 "nbformat_minor": 2
}
